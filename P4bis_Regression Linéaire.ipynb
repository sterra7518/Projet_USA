{
 "cells": [
  {
   "cell_type": "markdown",
   "id": "82bcc5bd",
   "metadata": {},
   "source": [
    "## Ouverture des données "
   ]
  },
  {
   "cell_type": "code",
   "execution_count": 1,
   "id": "67dade34",
   "metadata": {},
   "outputs": [],
   "source": [
    "#Importation des modules de Python \n",
    "\n",
    "import pandas as pd\n",
    "import numpy as np\n",
    "import matplotlib.pyplot as plt"
   ]
  },
  {
   "cell_type": "code",
   "execution_count": 2,
   "id": "d504e1da",
   "metadata": {},
   "outputs": [
    {
     "data": {
      "text/html": [
       "<div>\n",
       "<style scoped>\n",
       "    .dataframe tbody tr th:only-of-type {\n",
       "        vertical-align: middle;\n",
       "    }\n",
       "\n",
       "    .dataframe tbody tr th {\n",
       "        vertical-align: top;\n",
       "    }\n",
       "\n",
       "    .dataframe thead th {\n",
       "        text-align: right;\n",
       "    }\n",
       "</style>\n",
       "<table border=\"1\" class=\"dataframe\">\n",
       "  <thead>\n",
       "    <tr style=\"text-align: right;\">\n",
       "      <th></th>\n",
       "      <th>cbssa</th>\n",
       "      <th>name</th>\n",
       "      <th>state</th>\n",
       "      <th>NameState</th>\n",
       "      <th>PartUSA</th>\n",
       "      <th>Political</th>\n",
       "      <th>Candidat</th>\n",
       "      <th>BorderSea</th>\n",
       "      <th>Anglais_Off</th>\n",
       "      <th>population</th>\n",
       "      <th>...</th>\n",
       "      <th>+65ans</th>\n",
       "      <th>non-diplomés</th>\n",
       "      <th>lycée</th>\n",
       "      <th>bac</th>\n",
       "      <th>université</th>\n",
       "      <th>-20d</th>\n",
       "      <th>20_40d</th>\n",
       "      <th>40_60d</th>\n",
       "      <th>60_80d</th>\n",
       "      <th>+80d</th>\n",
       "    </tr>\n",
       "  </thead>\n",
       "  <tbody>\n",
       "    <tr>\n",
       "      <th>0</th>\n",
       "      <td>10100</td>\n",
       "      <td>Aberdeen</td>\n",
       "      <td>SD</td>\n",
       "      <td>South Dakota</td>\n",
       "      <td>North-West</td>\n",
       "      <td>Republicain</td>\n",
       "      <td>Trump</td>\n",
       "      <td>No</td>\n",
       "      <td>Yes</td>\n",
       "      <td>40602</td>\n",
       "      <td>...</td>\n",
       "      <td>16.64</td>\n",
       "      <td>4.88</td>\n",
       "      <td>37.82</td>\n",
       "      <td>31.41</td>\n",
       "      <td>25.89</td>\n",
       "      <td>18.21</td>\n",
       "      <td>22.36</td>\n",
       "      <td>20.66</td>\n",
       "      <td>24.30</td>\n",
       "      <td>14.47</td>\n",
       "    </tr>\n",
       "    <tr>\n",
       "      <th>1</th>\n",
       "      <td>10140</td>\n",
       "      <td>Aberdeen</td>\n",
       "      <td>WA</td>\n",
       "      <td>Washington</td>\n",
       "      <td>North-East</td>\n",
       "      <td>Republicain</td>\n",
       "      <td>Trump</td>\n",
       "      <td>Yes</td>\n",
       "      <td>No</td>\n",
       "      <td>72797</td>\n",
       "      <td>...</td>\n",
       "      <td>16.28</td>\n",
       "      <td>5.72</td>\n",
       "      <td>40.47</td>\n",
       "      <td>39.44</td>\n",
       "      <td>14.37</td>\n",
       "      <td>20.49</td>\n",
       "      <td>26.35</td>\n",
       "      <td>19.84</td>\n",
       "      <td>21.07</td>\n",
       "      <td>12.25</td>\n",
       "    </tr>\n",
       "    <tr>\n",
       "      <th>2</th>\n",
       "      <td>10180</td>\n",
       "      <td>Abilene</td>\n",
       "      <td>TX</td>\n",
       "      <td>Texas</td>\n",
       "      <td>South-West</td>\n",
       "      <td>Republicain</td>\n",
       "      <td>Trump</td>\n",
       "      <td>No</td>\n",
       "      <td>No</td>\n",
       "      <td>165252</td>\n",
       "      <td>...</td>\n",
       "      <td>13.67</td>\n",
       "      <td>6.87</td>\n",
       "      <td>39.66</td>\n",
       "      <td>31.93</td>\n",
       "      <td>21.55</td>\n",
       "      <td>20.64</td>\n",
       "      <td>25.17</td>\n",
       "      <td>19.09</td>\n",
       "      <td>20.50</td>\n",
       "      <td>14.60</td>\n",
       "    </tr>\n",
       "    <tr>\n",
       "      <th>3</th>\n",
       "      <td>10220</td>\n",
       "      <td>Ada</td>\n",
       "      <td>OK</td>\n",
       "      <td>Oklahoma</td>\n",
       "      <td>South-West</td>\n",
       "      <td>Republicain</td>\n",
       "      <td>Trump</td>\n",
       "      <td>No</td>\n",
       "      <td>No</td>\n",
       "      <td>37492</td>\n",
       "      <td>...</td>\n",
       "      <td>14.86</td>\n",
       "      <td>5.09</td>\n",
       "      <td>40.23</td>\n",
       "      <td>28.16</td>\n",
       "      <td>26.52</td>\n",
       "      <td>24.44</td>\n",
       "      <td>24.76</td>\n",
       "      <td>18.53</td>\n",
       "      <td>20.73</td>\n",
       "      <td>11.55</td>\n",
       "    </tr>\n",
       "    <tr>\n",
       "      <th>4</th>\n",
       "      <td>10300</td>\n",
       "      <td>Adrian</td>\n",
       "      <td>MI</td>\n",
       "      <td>Michigan</td>\n",
       "      <td>North-East</td>\n",
       "      <td>Republicain</td>\n",
       "      <td>Trump</td>\n",
       "      <td>No</td>\n",
       "      <td>No</td>\n",
       "      <td>99892</td>\n",
       "      <td>...</td>\n",
       "      <td>14.60</td>\n",
       "      <td>3.71</td>\n",
       "      <td>43.81</td>\n",
       "      <td>33.05</td>\n",
       "      <td>19.42</td>\n",
       "      <td>18.21</td>\n",
       "      <td>23.81</td>\n",
       "      <td>19.03</td>\n",
       "      <td>24.78</td>\n",
       "      <td>14.17</td>\n",
       "    </tr>\n",
       "    <tr>\n",
       "      <th>5</th>\n",
       "      <td>10420</td>\n",
       "      <td>Akron</td>\n",
       "      <td>OH</td>\n",
       "      <td>Ohio</td>\n",
       "      <td>North-East</td>\n",
       "      <td>Democrate</td>\n",
       "      <td>Clinton</td>\n",
       "      <td>No</td>\n",
       "      <td>No</td>\n",
       "      <td>703200</td>\n",
       "      <td>...</td>\n",
       "      <td>14.19</td>\n",
       "      <td>2.40</td>\n",
       "      <td>41.01</td>\n",
       "      <td>28.23</td>\n",
       "      <td>28.35</td>\n",
       "      <td>19.44</td>\n",
       "      <td>20.94</td>\n",
       "      <td>18.41</td>\n",
       "      <td>22.62</td>\n",
       "      <td>18.58</td>\n",
       "    </tr>\n",
       "    <tr>\n",
       "      <th>6</th>\n",
       "      <td>10460</td>\n",
       "      <td>Alamogordo</td>\n",
       "      <td>NM</td>\n",
       "      <td>New Mexico</td>\n",
       "      <td>South-West</td>\n",
       "      <td>Republicain</td>\n",
       "      <td>Trump</td>\n",
       "      <td>No</td>\n",
       "      <td>No</td>\n",
       "      <td>63797</td>\n",
       "      <td>...</td>\n",
       "      <td>14.97</td>\n",
       "      <td>7.64</td>\n",
       "      <td>36.30</td>\n",
       "      <td>38.59</td>\n",
       "      <td>17.47</td>\n",
       "      <td>24.72</td>\n",
       "      <td>26.37</td>\n",
       "      <td>19.51</td>\n",
       "      <td>19.12</td>\n",
       "      <td>10.28</td>\n",
       "    </tr>\n",
       "    <tr>\n",
       "      <th>7</th>\n",
       "      <td>10500</td>\n",
       "      <td>Albany</td>\n",
       "      <td>GA</td>\n",
       "      <td>Georgia</td>\n",
       "      <td>South-East</td>\n",
       "      <td>Democrate</td>\n",
       "      <td>Clinton</td>\n",
       "      <td>No</td>\n",
       "      <td>Yes</td>\n",
       "      <td>157308</td>\n",
       "      <td>...</td>\n",
       "      <td>11.99</td>\n",
       "      <td>6.32</td>\n",
       "      <td>46.68</td>\n",
       "      <td>30.91</td>\n",
       "      <td>16.09</td>\n",
       "      <td>29.28</td>\n",
       "      <td>24.08</td>\n",
       "      <td>16.34</td>\n",
       "      <td>18.18</td>\n",
       "      <td>12.11</td>\n",
       "    </tr>\n",
       "    <tr>\n",
       "      <th>8</th>\n",
       "      <td>10540</td>\n",
       "      <td>Albany</td>\n",
       "      <td>OR</td>\n",
       "      <td>Oregon</td>\n",
       "      <td>North-West</td>\n",
       "      <td>Republicain</td>\n",
       "      <td>Trump</td>\n",
       "      <td>No</td>\n",
       "      <td>No</td>\n",
       "      <td>116672</td>\n",
       "      <td>...</td>\n",
       "      <td>15.42</td>\n",
       "      <td>3.31</td>\n",
       "      <td>40.64</td>\n",
       "      <td>39.90</td>\n",
       "      <td>16.15</td>\n",
       "      <td>19.64</td>\n",
       "      <td>22.61</td>\n",
       "      <td>21.00</td>\n",
       "      <td>24.04</td>\n",
       "      <td>12.70</td>\n",
       "    </tr>\n",
       "    <tr>\n",
       "      <th>9</th>\n",
       "      <td>10580</td>\n",
       "      <td>Albany-Schenectady-Troy</td>\n",
       "      <td>NY</td>\n",
       "      <td>New-York</td>\n",
       "      <td>North-East</td>\n",
       "      <td>Republicain</td>\n",
       "      <td>Trump</td>\n",
       "      <td>No</td>\n",
       "      <td>No</td>\n",
       "      <td>870716</td>\n",
       "      <td>...</td>\n",
       "      <td>14.04</td>\n",
       "      <td>2.74</td>\n",
       "      <td>34.33</td>\n",
       "      <td>29.35</td>\n",
       "      <td>33.57</td>\n",
       "      <td>14.89</td>\n",
       "      <td>17.97</td>\n",
       "      <td>16.49</td>\n",
       "      <td>24.91</td>\n",
       "      <td>25.74</td>\n",
       "    </tr>\n",
       "  </tbody>\n",
       "</table>\n",
       "<p>10 rows × 29 columns</p>\n",
       "</div>"
      ],
      "text/plain": [
       "   cbssa                     name state     NameState     PartUSA  \\\n",
       "0  10100                 Aberdeen    SD  South Dakota  North-West   \n",
       "1  10140                 Aberdeen    WA    Washington  North-East   \n",
       "2  10180                  Abilene    TX         Texas  South-West   \n",
       "3  10220                      Ada    OK      Oklahoma  South-West   \n",
       "4  10300                   Adrian    MI      Michigan  North-East   \n",
       "5  10420                    Akron    OH          Ohio  North-East   \n",
       "6  10460               Alamogordo    NM    New Mexico  South-West   \n",
       "7  10500                   Albany    GA       Georgia  South-East   \n",
       "8  10540                   Albany    OR        Oregon  North-West   \n",
       "9  10580  Albany-Schenectady-Troy    NY      New-York  North-East   \n",
       "\n",
       "     Political Candidat BorderSea Anglais_Off  population  ...  +65ans  \\\n",
       "0  Republicain    Trump        No         Yes       40602  ...   16.64   \n",
       "1  Republicain    Trump       Yes          No       72797  ...   16.28   \n",
       "2  Republicain    Trump        No          No      165252  ...   13.67   \n",
       "3  Republicain    Trump        No          No       37492  ...   14.86   \n",
       "4  Republicain    Trump        No          No       99892  ...   14.60   \n",
       "5    Democrate  Clinton        No          No      703200  ...   14.19   \n",
       "6  Republicain    Trump        No          No       63797  ...   14.97   \n",
       "7    Democrate  Clinton        No         Yes      157308  ...   11.99   \n",
       "8  Republicain    Trump        No          No      116672  ...   15.42   \n",
       "9  Republicain    Trump        No          No      870716  ...   14.04   \n",
       "\n",
       "   non-diplomés  lycée    bac  université   -20d  20_40d  40_60d  60_80d  \\\n",
       "0          4.88  37.82  31.41       25.89  18.21   22.36   20.66   24.30   \n",
       "1          5.72  40.47  39.44       14.37  20.49   26.35   19.84   21.07   \n",
       "2          6.87  39.66  31.93       21.55  20.64   25.17   19.09   20.50   \n",
       "3          5.09  40.23  28.16       26.52  24.44   24.76   18.53   20.73   \n",
       "4          3.71  43.81  33.05       19.42  18.21   23.81   19.03   24.78   \n",
       "5          2.40  41.01  28.23       28.35  19.44   20.94   18.41   22.62   \n",
       "6          7.64  36.30  38.59       17.47  24.72   26.37   19.51   19.12   \n",
       "7          6.32  46.68  30.91       16.09  29.28   24.08   16.34   18.18   \n",
       "8          3.31  40.64  39.90       16.15  19.64   22.61   21.00   24.04   \n",
       "9          2.74  34.33  29.35       33.57  14.89   17.97   16.49   24.91   \n",
       "\n",
       "    +80d  \n",
       "0  14.47  \n",
       "1  12.25  \n",
       "2  14.60  \n",
       "3  11.55  \n",
       "4  14.17  \n",
       "5  18.58  \n",
       "6  10.28  \n",
       "7  12.11  \n",
       "8  12.70  \n",
       "9  25.74  \n",
       "\n",
       "[10 rows x 29 columns]"
      ]
     },
     "execution_count": 2,
     "metadata": {},
     "output_type": "execute_result"
    }
   ],
   "source": [
    "#Ouverture de notre jeux de données principale\n",
    "usa =  pd.read_csv('usa2.csv', sep=',', encoding='ISO-8859-1')\n",
    "\n",
    "#Suppresion de la 1er colonne suivante dérengeante\n",
    "usa = usa.drop(['Unnamed: 0'],axis=1)\n",
    "\n",
    "#Renommage des colonnes\n",
    "usa = usa.rename(columns = {'POP10':'population',\n",
    "                             'WHITEp':'pop_blanche',\n",
    "                             'BLACKp':'pop_noir',\n",
    "                             'HISPAp':'pop_hispanique',\n",
    "                             'ASIANp':'pop_asiatique',\n",
    "                             'OTHERp' :'pop_autres',\n",
    "                             'UNDER18p': '-18ans',\n",
    "                             'F18TO24p':'18_24ans',\n",
    "                             'F25TO44p':'25_44ans',\n",
    "                             'F45TO64p':'45_64ans',\n",
    "                             'MORE65p':'+65ans',\n",
    "                             'NODIPLOMp':'non-diplomés',\n",
    "                             'F9TO12THp' : 'lycée',\n",
    "                             'UNDERGRADp':'bac',\n",
    "                             'GRADUATEp':'université',\n",
    "                             'F0TO20p':'-20d',\n",
    "                             'F20TO40p':'20_40d',\n",
    "                             'F40TO60p':'40_60d',\n",
    "                             'F60TO80p' : '60_80d',\n",
    "                             'F80TO100p' : '+80d'})\n",
    "\n",
    "usa.head(10)"
   ]
  },
  {
   "cell_type": "markdown",
   "id": "e4c9141b",
   "metadata": {},
   "source": [
    "#### Matrice de corrélation \n",
    "\n",
    "On a la matrice de corréation qui est pratique pour voir les différentes corrélations pour tous nos variables quantitatives"
   ]
  },
  {
   "cell_type": "code",
   "execution_count": 3,
   "id": "901db694",
   "metadata": {},
   "outputs": [],
   "source": [
    "#Importation du modules Seaborn\n",
    "\n",
    "import seaborn as sns"
   ]
  },
  {
   "cell_type": "code",
   "execution_count": 4,
   "id": "875f5615",
   "metadata": {},
   "outputs": [
    {
     "data": {
      "image/png": "[encoded data removed]",
      "text/plain": [
       "<Figure size 936x720 with 2 Axes>"
      ]
     },
     "metadata": {
      "needs_background": "light"
     },
     "output_type": "display_data"
    }
   ],
   "source": [
    "# Matrice des corrélation \n",
    "\n",
    "plt.figure(figsize=(13,10))\n",
    "\n",
    "sns.heatmap(usa.corr())\n",
    "plt.title('Matrice de corrélation 1')\n",
    "plt.show()"
   ]
  },
  {
   "cell_type": "markdown",
   "id": "eb471700",
   "metadata": {},
   "source": [
    "## Regression linéaire \n",
    "\n",
    "On utilisera cette méthode dans le cadre de notre projet pour étudier graphiquement les liaisons que l’on va déjà analyser auparavant et de y trouver une droite d’équation"
   ]
  },
  {
   "cell_type": "code",
   "execution_count": 5,
   "id": "bde94a00",
   "metadata": {},
   "outputs": [],
   "source": [
    "#On peut faire une regresion linéaire en important une librairie\n",
    "from sklearn.linear_model import LinearRegression\n",
    "import statsmodels.api as sm"
   ]
  },
  {
   "cell_type": "markdown",
   "id": "45206483",
   "metadata": {},
   "source": [
    "### Les non-diplômés et la population hispanique\n"
   ]
  },
  {
   "cell_type": "code",
   "execution_count": 6,
   "id": "929ec5c8",
   "metadata": {},
   "outputs": [
    {
     "data": {
      "text/plain": [
       "non-diplomés    2.843176\n",
       "intercept      -5.881382\n",
       "dtype: float64"
      ]
     },
     "execution_count": 6,
     "metadata": {},
     "output_type": "execute_result"
    }
   ],
   "source": [
    "#regression linéaire\n",
    "\n",
    "\n",
    "Y = pd.DataFrame(usa['pop_hispanique'])\n",
    "X = usa[['non-diplomés']]\n",
    "X = X.copy() # On modifiera X, on en crée donc une copie\n",
    "X['intercept'] = 1.\n",
    "result = sm.OLS(Y, X).fit() # OLS = Ordinary Least Square (Moindres Carrés Ordinaire)\n",
    "\n",
    "#On cherche le coeffcient directeurs\n",
    "a = result.params['non-diplomés']\n",
    "\n",
    "# L'ordonnée a l'origine\n",
    "b = result.params['intercept']\n",
    "\n",
    "result.params"
   ]
  },
  {
   "cell_type": "code",
   "execution_count": 7,
   "id": "9caa28bf",
   "metadata": {},
   "outputs": [
    {
     "name": "stdout",
     "output_type": "stream",
     "text": [
      "On y voit que cette fonction est  Y = 2.84*X-5.88\n"
     ]
    },
    {
     "data": {
      "image/png": "[encoded data removed]",
      "text/plain": [
       "<Figure size 1008x504 with 1 Axes>"
      ]
     },
     "metadata": {
      "needs_background": "light"
     },
     "output_type": "display_data"
    }
   ],
   "source": [
    "print(f'On y voit que cette fonction est  Y = {round(a,2)}*X{round(b,2)}')\n",
    "\n",
    "#on affiche graphiquement la droite de regression\n",
    "\n",
    "plt.figure(figsize=(14,7))\n",
    "\n",
    "plt.scatter(usa['non-diplomés'],usa['pop_hispanique'])\n",
    "plt.plot(np.arange(len(usa['pop_hispanique'])),[a*x+b for x in np.arange(len(usa['pop_hispanique']))],c='r')\n",
    "plt.xlabel(\"non-diplômées\")\n",
    "plt.ylabel(\"pop_hispanique\")\n",
    "plt.xlim(0,40)\n",
    "plt.ylim(0,100)\n",
    "plt.title(\"Droite de RL pour hipanique/non-diplômés\")\n",
    "plt.savefig(\"RegLin_hispa_no-diplome.png\")\n",
    "plt.show()"
   ]
  },
  {
   "cell_type": "markdown",
   "id": "6a261756",
   "metadata": {},
   "source": [
    "### Les diplômés universitaire et les personnes ayant un revenu annuel supérieur à 60 000 dollars\n",
    "\n",
    "\n",
    "##### Création d'une nouvelle variable\n",
    "\n"
   ]
  },
  {
   "cell_type": "code",
   "execution_count": 8,
   "id": "4e73999b",
   "metadata": {},
   "outputs": [],
   "source": [
    "#On créer une variable de revenu de plus de 60k $ \n",
    "\n",
    "\n",
    "usa[\"+60\"] = usa['60_80d']+usa['+80d']"
   ]
  },
  {
   "cell_type": "code",
   "execution_count": 9,
   "id": "94b3c247",
   "metadata": {},
   "outputs": [
    {
     "data": {
      "text/plain": [
       "Index(['cbssa', 'name', 'state', 'NameState', 'PartUSA', 'Political',\n",
       "       'Candidat', 'BorderSea', 'Anglais_Off', 'population', 'pop_blanche',\n",
       "       'pop_noir', 'pop_asiatique', 'pop_autres', 'pop_hispanique', '-18ans',\n",
       "       '18_24ans', '25_44ans', '45_64ans', '+65ans', 'non-diplomés', 'lycée',\n",
       "       'bac', 'université', '-20d', '20_40d', '40_60d', '60_80d', '+80d',\n",
       "       '+60'],\n",
       "      dtype='object')"
      ]
     },
     "execution_count": 9,
     "metadata": {},
     "output_type": "execute_result"
    }
   ],
   "source": [
    "usa.columns\n"
   ]
  },
  {
   "cell_type": "code",
   "execution_count": 10,
   "id": "bd4cc740",
   "metadata": {},
   "outputs": [
    {
     "data": {
      "text/plain": [
       "université     0.625350\n",
       "intercept     23.777932\n",
       "dtype: float64"
      ]
     },
     "execution_count": 10,
     "metadata": {},
     "output_type": "execute_result"
    }
   ],
   "source": [
    "#regression linéaire\n",
    "\n",
    "\n",
    "Y = pd.DataFrame(usa['+60'])\n",
    "X = usa[['université']]\n",
    "X = X.copy() # On modifiera X, on en crée donc une copie\n",
    "X['intercept'] = 1.\n",
    "result = sm.OLS(Y, X).fit() # OLS = Ordinary Least Square (Moindres Carrés Ordinaire)\n",
    "\n",
    "#On cherche le coeffcient directeurs\n",
    "a = result.params['université']\n",
    "\n",
    "# L'ordonnée a l'origine\n",
    "b = result.params['intercept']\n",
    "\n",
    "result.params"
   ]
  },
  {
   "cell_type": "code",
   "execution_count": 11,
   "id": "383f18e0",
   "metadata": {},
   "outputs": [
    {
     "name": "stdout",
     "output_type": "stream",
     "text": [
      "On y voit que cette fonction est  Y = 0.63*X + 23.78\n"
     ]
    },
    {
     "data": {
      "image/png": "[encoded data removed]",
      "text/plain": [
       "<Figure size 1008x504 with 1 Axes>"
      ]
     },
     "metadata": {
      "needs_background": "light"
     },
     "output_type": "display_data"
    }
   ],
   "source": [
    "print(f'On y voit que cette fonction est  Y = {round(a,2)}*X + {round(b,2)}')\n",
    "\n",
    "#on affiche graphiquement la droite de regression\n",
    "\n",
    "plt.figure(figsize=(14,7))\n",
    "\n",
    "plt.scatter(usa['université'],usa['+60'])\n",
    "plt.plot(np.arange(len(usa['+60'])),[a*x+b for x in np.arange(len(usa['université']))],c='r')\n",
    "plt.xlabel(\"% de diplômés universitaires\")\n",
    "plt.ylabel(\"% de revenue annuel de plus de 60000 dollars\")\n",
    "plt.xlim(0,70)\n",
    "plt.ylim(0,70)\n",
    "plt.title(\"Droite de RL pour université/revenue+60K\")\n",
    "plt.savefig(\"RegLin2_+-0d_université.png\")\n",
    "plt.show()"
   ]
  },
  {
   "cell_type": "markdown",
   "id": "9a14ff0a",
   "metadata": {},
   "source": [
    "## Méthode des sommes des carrées\n",
    "\n",
    "Le but de trouver la qualité de prediction faite par la regression linéaire par la méthode de somme des moindres carrées\n",
    "\n",
    "On l'utilisera pour nos 2 liaisons"
   ]
  },
  {
   "cell_type": "markdown",
   "id": "36014d9b",
   "metadata": {},
   "source": [
    "##### Diplômés universitaire et les revenues de plus de 60 000$"
   ]
  },
  {
   "cell_type": "code",
   "execution_count": 12,
   "id": "2e558978",
   "metadata": {},
   "outputs": [],
   "source": [
    "#On a les variables initiale\n",
    "\n",
    "x = usa[['université']]\n",
    "y = usa[['+60']]\n"
   ]
  },
  {
   "cell_type": "code",
   "execution_count": 13,
   "id": "0195233e",
   "metadata": {},
   "outputs": [
    {
     "data": {
      "text/plain": [
       "[39.83, 32.69, 37.14, 40.22, 35.82]"
      ]
     },
     "execution_count": 13,
     "metadata": {},
     "output_type": "execute_result"
    }
   ],
   "source": [
    "#Conversion en une liste\n",
    "\n",
    "x = list(usa[\"université\"])\n",
    "\n",
    "#Création d'une liste de prédiction de y\n",
    "pred_y = list()\n",
    "\n",
    "\n",
    "for i in range(len(x)):\n",
    "    pred_y.append(round((0.62*x[i])+23.78,2))\n",
    "\n",
    "#5 premiers éléments de la valeur prédis\n",
    "pred_y[:5]"
   ]
  },
  {
   "cell_type": "code",
   "execution_count": 14,
   "id": "0046ee79",
   "metadata": {},
   "outputs": [
    {
     "name": "stdout",
     "output_type": "stream",
     "text": [
      "La Somme des Carrées Expliqués est de +60    24094.182188\n",
      "dtype: float64\n",
      "La Somme des Carrées Résiduels est de 35617.72710000002\n",
      "La Somme des Carrées Totales est de +60    59711.909288\n",
      "dtype: float64\n",
      "Le coefficient de détermination  est de +60    0.403507\n",
      "dtype: float64\n"
     ]
    }
   ],
   "source": [
    "### Calcul de la Somme des Carrées Expliqués\n",
    "\n",
    "SCE = 0\n",
    "mean_y = np.mean(y)\n",
    "\n",
    "for i in range(len(pred_y)):\n",
    "    res = (pred_y[i]-mean_y)**2\n",
    "    SCE += res\n",
    "\n",
    "print(\"La Somme des Carrées Expliqués est de {}\".format(SCE))\n",
    "\n",
    "\n",
    "### Calcul de la Somme des Carrées Résiduels\n",
    "\n",
    "SCR = 0\n",
    "y = list(usa['+60'])\n",
    "\n",
    "\n",
    "for i in range(len(pred_y)):\n",
    "    res = (y[i]-pred_y[i])**2\n",
    "    SCR += res\n",
    "    \n",
    "print(\"La Somme des Carrées Résiduels est de {}\".format(SCR))\n",
    "\n",
    "\n",
    "# Calcul de la Somme des Carrées Totales\n",
    "\n",
    "SCT = SCE + SCR\n",
    "\n",
    "print(\"La Somme des Carrées Totales est de {}\".format(SCT))\n",
    "\n",
    "\n",
    "#Coefficient de détermination \n",
    "\n",
    "R = SCE/SCT\n",
    "\n",
    "print(\"Le coefficient de détermination  est de {}\".format(R))\n"
   ]
  },
  {
   "cell_type": "markdown",
   "id": "3cacf76e",
   "metadata": {},
   "source": [
    "##### Population hispanique et les non-diplômés "
   ]
  },
  {
   "cell_type": "code",
   "execution_count": 19,
   "id": "13898a5a",
   "metadata": {},
   "outputs": [
    {
     "data": {
      "text/plain": [
       "[7.98, 10.36, 13.63, 8.58, 4.66]"
      ]
     },
     "execution_count": 19,
     "metadata": {},
     "output_type": "execute_result"
    }
   ],
   "source": [
    "#On a les variables initiale\n",
    "\n",
    "x = usa[['non-diplomés']]\n",
    "y = usa[['pop_hispanique']]\n",
    "\n",
    "\n",
    "\n",
    "#Conversion en une liste\n",
    "\n",
    "x = list(usa[\"non-diplomés\"])\n",
    "\n",
    "#Création d'une liste de prédiction de y\n",
    "pred_y = list()\n",
    "\n",
    "\n",
    "for i in range(len(x)):\n",
    "    pred_y.append(round((2.84*x[i])-5.88,2))\n",
    "\n",
    "#5 premiers éléments de la valeur prédis\n",
    "pred_y[:5]"
   ]
  },
  {
   "cell_type": "code",
   "execution_count": 20,
   "id": "4e4054d2",
   "metadata": {},
   "outputs": [
    {
     "name": "stdout",
     "output_type": "stream",
     "text": [
      "La Somme des Carrées Expliqués est de pop_hispanique    122710.97088\n",
      "dtype: float64\n",
      "La Somme des Carrées Résiduels est de 876610.2664999989\n",
      "La Somme des Carrées Totales est de pop_hispanique    999321.23738\n",
      "dtype: float64\n",
      "Le coefficient de détermination  est de pop_hispanique    0.122794\n",
      "dtype: float64\n"
     ]
    }
   ],
   "source": [
    "### Calcul de la Somme des Carrées Expliqués\n",
    "\n",
    "SCE = 0\n",
    "mean_y = np.mean(y)\n",
    "\n",
    "for i in range(len(pred_y)):\n",
    "    res = (pred_y[i]-mean_y)**2\n",
    "    SCE += res\n",
    "\n",
    "print(\"La Somme des Carrées Expliqués est de {}\".format(SCE))\n",
    "\n",
    "\n",
    "### Calcul de la Somme des Carrées Résiduels\n",
    "\n",
    "SCR = 0\n",
    "y = list(usa['+60'])\n",
    "\n",
    "\n",
    "for i in range(len(pred_y)):\n",
    "    res = (y[i]-pred_y[i])**2\n",
    "    SCR += res\n",
    "    \n",
    "print(\"La Somme des Carrées Résiduels est de {}\".format(SCR))\n",
    "\n",
    "\n",
    "# Calcul de la Somme des Carrées Totales\n",
    "\n",
    "SCT = SCE + SCR\n",
    "\n",
    "print(\"La Somme des Carrées Totales est de {}\".format(SCT))\n",
    "\n",
    "\n",
    "#Coefficient de détermination \n",
    "\n",
    "R = SCE/SCT\n",
    "\n",
    "print(\"Le coefficient de détermination  est de {}\".format(R))\n",
    "\n"
   ]
  },
  {
   "cell_type": "code",
   "execution_count": null,
   "id": "1448ae75",
   "metadata": {},
   "outputs": [],
   "source": []
  }
 ],
 "metadata": {
  "kernelspec": {
   "display_name": "Python 3 (ipykernel)",
   "language": "python",
   "name": "python3"
  },
  "language_info": {
   "codemirror_mode": {
    "name": "ipython",
    "version": 3
   },
   "file_extension": ".py",
   "mimetype": "text/x-python",
   "name": "python",
   "nbconvert_exporter": "python",
   "pygments_lexer": "ipython3",
   "version": "3.9.7"
  }
 },
 "nbformat": 4,
 "nbformat_minor": 5
}

{
 "cells": [
  {
   "cell_type": "code",
   "execution_count": 1,
   "id": "e6adaa22",
   "metadata": {},
   "outputs": [],
   "source": [
    "#Importation des modules de Python \n",
    "\n",
    "import pandas as pd\n",
    "import numpy as np\n",
    "import matplotlib.pyplot as plt\n",
    "import seaborn as sns"
   ]
  },
  {
   "cell_type": "markdown",
   "id": "88508100",
   "metadata": {},
   "source": [
    "# 1 - Ouverture des fichiers\n"
   ]
  },
  {
   "cell_type": "code",
   "execution_count": 2,
   "id": "ccecfa9c",
   "metadata": {},
   "outputs": [
    {
     "data": {
      "text/html": [
       "<div>\n",
       "<style scoped>\n",
       "    .dataframe tbody tr th:only-of-type {\n",
       "        vertical-align: middle;\n",
       "    }\n",
       "\n",
       "    .dataframe tbody tr th {\n",
       "        vertical-align: top;\n",
       "    }\n",
       "\n",
       "    .dataframe thead th {\n",
       "        text-align: right;\n",
       "    }\n",
       "</style>\n",
       "<table border=\"1\" class=\"dataframe\">\n",
       "  <thead>\n",
       "    <tr style=\"text-align: right;\">\n",
       "      <th></th>\n",
       "      <th>cbssa</th>\n",
       "      <th>name</th>\n",
       "      <th>state</th>\n",
       "      <th>NameState</th>\n",
       "      <th>PartUSA</th>\n",
       "      <th>Political</th>\n",
       "      <th>Candidat</th>\n",
       "      <th>BorderSea</th>\n",
       "      <th>Anglais_Off</th>\n",
       "      <th>POP10</th>\n",
       "      <th>...</th>\n",
       "      <th>MORE65p</th>\n",
       "      <th>NODIPLOMp</th>\n",
       "      <th>F9TO12THp</th>\n",
       "      <th>UNDERGRADp</th>\n",
       "      <th>GRADUATEp</th>\n",
       "      <th>F0TO20p</th>\n",
       "      <th>F20TO40p</th>\n",
       "      <th>F40TO60p</th>\n",
       "      <th>F60TO80p</th>\n",
       "      <th>F80TO100p</th>\n",
       "    </tr>\n",
       "  </thead>\n",
       "  <tbody>\n",
       "    <tr>\n",
       "      <th>0</th>\n",
       "      <td>10100</td>\n",
       "      <td>Aberdeen</td>\n",
       "      <td>SD</td>\n",
       "      <td>South Dakota</td>\n",
       "      <td>North-West</td>\n",
       "      <td>Republicain</td>\n",
       "      <td>Trump</td>\n",
       "      <td>No</td>\n",
       "      <td>Yes</td>\n",
       "      <td>40602</td>\n",
       "      <td>...</td>\n",
       "      <td>16.64</td>\n",
       "      <td>4.88</td>\n",
       "      <td>37.82</td>\n",
       "      <td>31.41</td>\n",
       "      <td>25.89</td>\n",
       "      <td>18.21</td>\n",
       "      <td>22.36</td>\n",
       "      <td>20.66</td>\n",
       "      <td>24.30</td>\n",
       "      <td>14.47</td>\n",
       "    </tr>\n",
       "    <tr>\n",
       "      <th>1</th>\n",
       "      <td>10140</td>\n",
       "      <td>Aberdeen</td>\n",
       "      <td>WA</td>\n",
       "      <td>Washington</td>\n",
       "      <td>North-East</td>\n",
       "      <td>Republicain</td>\n",
       "      <td>Trump</td>\n",
       "      <td>Yes</td>\n",
       "      <td>No</td>\n",
       "      <td>72797</td>\n",
       "      <td>...</td>\n",
       "      <td>16.28</td>\n",
       "      <td>5.72</td>\n",
       "      <td>40.47</td>\n",
       "      <td>39.44</td>\n",
       "      <td>14.37</td>\n",
       "      <td>20.49</td>\n",
       "      <td>26.35</td>\n",
       "      <td>19.84</td>\n",
       "      <td>21.07</td>\n",
       "      <td>12.25</td>\n",
       "    </tr>\n",
       "    <tr>\n",
       "      <th>2</th>\n",
       "      <td>10180</td>\n",
       "      <td>Abilene</td>\n",
       "      <td>TX</td>\n",
       "      <td>Texas</td>\n",
       "      <td>South-West</td>\n",
       "      <td>Republicain</td>\n",
       "      <td>Trump</td>\n",
       "      <td>No</td>\n",
       "      <td>No</td>\n",
       "      <td>165252</td>\n",
       "      <td>...</td>\n",
       "      <td>13.67</td>\n",
       "      <td>6.87</td>\n",
       "      <td>39.66</td>\n",
       "      <td>31.93</td>\n",
       "      <td>21.55</td>\n",
       "      <td>20.64</td>\n",
       "      <td>25.17</td>\n",
       "      <td>19.09</td>\n",
       "      <td>20.50</td>\n",
       "      <td>14.60</td>\n",
       "    </tr>\n",
       "    <tr>\n",
       "      <th>3</th>\n",
       "      <td>10220</td>\n",
       "      <td>Ada</td>\n",
       "      <td>OK</td>\n",
       "      <td>Oklahoma</td>\n",
       "      <td>South-West</td>\n",
       "      <td>Republicain</td>\n",
       "      <td>Trump</td>\n",
       "      <td>No</td>\n",
       "      <td>No</td>\n",
       "      <td>37492</td>\n",
       "      <td>...</td>\n",
       "      <td>14.86</td>\n",
       "      <td>5.09</td>\n",
       "      <td>40.23</td>\n",
       "      <td>28.16</td>\n",
       "      <td>26.52</td>\n",
       "      <td>24.44</td>\n",
       "      <td>24.76</td>\n",
       "      <td>18.53</td>\n",
       "      <td>20.73</td>\n",
       "      <td>11.55</td>\n",
       "    </tr>\n",
       "    <tr>\n",
       "      <th>4</th>\n",
       "      <td>10300</td>\n",
       "      <td>Adrian</td>\n",
       "      <td>MI</td>\n",
       "      <td>Michigan</td>\n",
       "      <td>North-East</td>\n",
       "      <td>Republicain</td>\n",
       "      <td>Trump</td>\n",
       "      <td>No</td>\n",
       "      <td>No</td>\n",
       "      <td>99892</td>\n",
       "      <td>...</td>\n",
       "      <td>14.60</td>\n",
       "      <td>3.71</td>\n",
       "      <td>43.81</td>\n",
       "      <td>33.05</td>\n",
       "      <td>19.42</td>\n",
       "      <td>18.21</td>\n",
       "      <td>23.81</td>\n",
       "      <td>19.03</td>\n",
       "      <td>24.78</td>\n",
       "      <td>14.17</td>\n",
       "    </tr>\n",
       "    <tr>\n",
       "      <th>5</th>\n",
       "      <td>10420</td>\n",
       "      <td>Akron</td>\n",
       "      <td>OH</td>\n",
       "      <td>Ohio</td>\n",
       "      <td>North-East</td>\n",
       "      <td>Democrate</td>\n",
       "      <td>Clinton</td>\n",
       "      <td>No</td>\n",
       "      <td>No</td>\n",
       "      <td>703200</td>\n",
       "      <td>...</td>\n",
       "      <td>14.19</td>\n",
       "      <td>2.40</td>\n",
       "      <td>41.01</td>\n",
       "      <td>28.23</td>\n",
       "      <td>28.35</td>\n",
       "      <td>19.44</td>\n",
       "      <td>20.94</td>\n",
       "      <td>18.41</td>\n",
       "      <td>22.62</td>\n",
       "      <td>18.58</td>\n",
       "    </tr>\n",
       "    <tr>\n",
       "      <th>6</th>\n",
       "      <td>10460</td>\n",
       "      <td>Alamogordo</td>\n",
       "      <td>NM</td>\n",
       "      <td>New Mexico</td>\n",
       "      <td>South-West</td>\n",
       "      <td>Republicain</td>\n",
       "      <td>Trump</td>\n",
       "      <td>No</td>\n",
       "      <td>No</td>\n",
       "      <td>63797</td>\n",
       "      <td>...</td>\n",
       "      <td>14.97</td>\n",
       "      <td>7.64</td>\n",
       "      <td>36.30</td>\n",
       "      <td>38.59</td>\n",
       "      <td>17.47</td>\n",
       "      <td>24.72</td>\n",
       "      <td>26.37</td>\n",
       "      <td>19.51</td>\n",
       "      <td>19.12</td>\n",
       "      <td>10.28</td>\n",
       "    </tr>\n",
       "    <tr>\n",
       "      <th>7</th>\n",
       "      <td>10500</td>\n",
       "      <td>Albany</td>\n",
       "      <td>GA</td>\n",
       "      <td>Georgia</td>\n",
       "      <td>South-East</td>\n",
       "      <td>Democrate</td>\n",
       "      <td>Clinton</td>\n",
       "      <td>No</td>\n",
       "      <td>Yes</td>\n",
       "      <td>157308</td>\n",
       "      <td>...</td>\n",
       "      <td>11.99</td>\n",
       "      <td>6.32</td>\n",
       "      <td>46.68</td>\n",
       "      <td>30.91</td>\n",
       "      <td>16.09</td>\n",
       "      <td>29.28</td>\n",
       "      <td>24.08</td>\n",
       "      <td>16.34</td>\n",
       "      <td>18.18</td>\n",
       "      <td>12.11</td>\n",
       "    </tr>\n",
       "    <tr>\n",
       "      <th>8</th>\n",
       "      <td>10540</td>\n",
       "      <td>Albany</td>\n",
       "      <td>OR</td>\n",
       "      <td>Oregon</td>\n",
       "      <td>North-West</td>\n",
       "      <td>Republicain</td>\n",
       "      <td>Trump</td>\n",
       "      <td>No</td>\n",
       "      <td>No</td>\n",
       "      <td>116672</td>\n",
       "      <td>...</td>\n",
       "      <td>15.42</td>\n",
       "      <td>3.31</td>\n",
       "      <td>40.64</td>\n",
       "      <td>39.90</td>\n",
       "      <td>16.15</td>\n",
       "      <td>19.64</td>\n",
       "      <td>22.61</td>\n",
       "      <td>21.00</td>\n",
       "      <td>24.04</td>\n",
       "      <td>12.70</td>\n",
       "    </tr>\n",
       "    <tr>\n",
       "      <th>9</th>\n",
       "      <td>10580</td>\n",
       "      <td>Albany-Schenectady-Troy</td>\n",
       "      <td>NY</td>\n",
       "      <td>New-York</td>\n",
       "      <td>North-East</td>\n",
       "      <td>Republicain</td>\n",
       "      <td>Trump</td>\n",
       "      <td>No</td>\n",
       "      <td>No</td>\n",
       "      <td>870716</td>\n",
       "      <td>...</td>\n",
       "      <td>14.04</td>\n",
       "      <td>2.74</td>\n",
       "      <td>34.33</td>\n",
       "      <td>29.35</td>\n",
       "      <td>33.57</td>\n",
       "      <td>14.89</td>\n",
       "      <td>17.97</td>\n",
       "      <td>16.49</td>\n",
       "      <td>24.91</td>\n",
       "      <td>25.74</td>\n",
       "    </tr>\n",
       "  </tbody>\n",
       "</table>\n",
       "<p>10 rows × 29 columns</p>\n",
       "</div>"
      ],
      "text/plain": [
       "   cbssa                     name state     NameState     PartUSA  \\\n",
       "0  10100                 Aberdeen    SD  South Dakota  North-West   \n",
       "1  10140                 Aberdeen    WA    Washington  North-East   \n",
       "2  10180                  Abilene    TX         Texas  South-West   \n",
       "3  10220                      Ada    OK      Oklahoma  South-West   \n",
       "4  10300                   Adrian    MI      Michigan  North-East   \n",
       "5  10420                    Akron    OH          Ohio  North-East   \n",
       "6  10460               Alamogordo    NM    New Mexico  South-West   \n",
       "7  10500                   Albany    GA       Georgia  South-East   \n",
       "8  10540                   Albany    OR        Oregon  North-West   \n",
       "9  10580  Albany-Schenectady-Troy    NY      New-York  North-East   \n",
       "\n",
       "     Political Candidat BorderSea Anglais_Off   POP10  ...  MORE65p  \\\n",
       "0  Republicain    Trump        No         Yes   40602  ...    16.64   \n",
       "1  Republicain    Trump       Yes          No   72797  ...    16.28   \n",
       "2  Republicain    Trump        No          No  165252  ...    13.67   \n",
       "3  Republicain    Trump        No          No   37492  ...    14.86   \n",
       "4  Republicain    Trump        No          No   99892  ...    14.60   \n",
       "5    Democrate  Clinton        No          No  703200  ...    14.19   \n",
       "6  Republicain    Trump        No          No   63797  ...    14.97   \n",
       "7    Democrate  Clinton        No         Yes  157308  ...    11.99   \n",
       "8  Republicain    Trump        No          No  116672  ...    15.42   \n",
       "9  Republicain    Trump        No          No  870716  ...    14.04   \n",
       "\n",
       "   NODIPLOMp  F9TO12THp  UNDERGRADp  GRADUATEp  F0TO20p  F20TO40p  F40TO60p  \\\n",
       "0       4.88      37.82       31.41      25.89    18.21     22.36     20.66   \n",
       "1       5.72      40.47       39.44      14.37    20.49     26.35     19.84   \n",
       "2       6.87      39.66       31.93      21.55    20.64     25.17     19.09   \n",
       "3       5.09      40.23       28.16      26.52    24.44     24.76     18.53   \n",
       "4       3.71      43.81       33.05      19.42    18.21     23.81     19.03   \n",
       "5       2.40      41.01       28.23      28.35    19.44     20.94     18.41   \n",
       "6       7.64      36.30       38.59      17.47    24.72     26.37     19.51   \n",
       "7       6.32      46.68       30.91      16.09    29.28     24.08     16.34   \n",
       "8       3.31      40.64       39.90      16.15    19.64     22.61     21.00   \n",
       "9       2.74      34.33       29.35      33.57    14.89     17.97     16.49   \n",
       "\n",
       "   F60TO80p  F80TO100p  \n",
       "0     24.30      14.47  \n",
       "1     21.07      12.25  \n",
       "2     20.50      14.60  \n",
       "3     20.73      11.55  \n",
       "4     24.78      14.17  \n",
       "5     22.62      18.58  \n",
       "6     19.12      10.28  \n",
       "7     18.18      12.11  \n",
       "8     24.04      12.70  \n",
       "9     24.91      25.74  \n",
       "\n",
       "[10 rows x 29 columns]"
      ]
     },
     "execution_count": 2,
     "metadata": {},
     "output_type": "execute_result"
    }
   ],
   "source": [
    "#Ouverture de notre jeux de données principale\n",
    "usa =  pd.read_csv('usa2.csv', sep=',', encoding='ISO-8859-1')\n",
    "\n",
    "#Suppresion de la 1er colonne suivante dérengeante\n",
    "usa = usa.drop(['Unnamed: 0'],axis=1)\n",
    "\n",
    "usa.head(10)"
   ]
  },
  {
   "cell_type": "code",
   "execution_count": 3,
   "id": "b151e766",
   "metadata": {},
   "outputs": [],
   "source": [
    "#Candidat Trump\n",
    "trump = usa[usa[\"Candidat\"] == 'Trump']\n",
    "\n",
    "#Candidat Clinton\n",
    "clinton = usa[usa['Candidat'] == 'Clinton']"
   ]
  },
  {
   "cell_type": "markdown",
   "id": "5ab7c1e0",
   "metadata": {},
   "source": [
    "# 2 - Résultats généraux \n",
    "\n",
    "Pour rappel, le candidat Donald Trump à remporter cette élection présidentielle face à Hillary Clinton, ayant obtenu un plus grand nombre de grands électeurs malgré que la candidate perdante eût obtenue un plus grand nombre de voix de la part des électeurs américaines"
   ]
  },
  {
   "cell_type": "code",
   "execution_count": 4,
   "id": "8f095ef3",
   "metadata": {},
   "outputs": [
    {
     "data": {
      "text/html": [
       "<div>\n",
       "<style scoped>\n",
       "    .dataframe tbody tr th:only-of-type {\n",
       "        vertical-align: middle;\n",
       "    }\n",
       "\n",
       "    .dataframe tbody tr th {\n",
       "        vertical-align: top;\n",
       "    }\n",
       "\n",
       "    .dataframe thead th {\n",
       "        text-align: right;\n",
       "    }\n",
       "</style>\n",
       "<table border=\"1\" class=\"dataframe\">\n",
       "  <thead>\n",
       "    <tr style=\"text-align: right;\">\n",
       "      <th></th>\n",
       "      <th>Candidat</th>\n",
       "      <th>Etat</th>\n",
       "      <th>Pop</th>\n",
       "    </tr>\n",
       "  </thead>\n",
       "  <tbody>\n",
       "    <tr>\n",
       "      <th>Trump</th>\n",
       "      <td>Trump</td>\n",
       "      <td>304</td>\n",
       "      <td>62984828</td>\n",
       "    </tr>\n",
       "    <tr>\n",
       "      <th>Clinton</th>\n",
       "      <td>Clinton</td>\n",
       "      <td>227</td>\n",
       "      <td>65853514</td>\n",
       "    </tr>\n",
       "  </tbody>\n",
       "</table>\n",
       "</div>"
      ],
      "text/plain": [
       "        Candidat Etat       Pop\n",
       "Trump      Trump  304  62984828\n",
       "Clinton  Clinton  227  65853514"
      ]
     },
     "execution_count": 4,
     "metadata": {},
     "output_type": "execute_result"
    }
   ],
   "source": [
    "res_candidat = [\"Trump\",\"Clinton\"]\n",
    "res_gen_etat = [304,227]\n",
    "res_gen_pop = [62984828,65853514]\n",
    "\n",
    "\n",
    "df1 = pd.DataFrame([res_candidat,res_gen_etat,res_gen_pop], index = [0, 1,2])\n",
    "\n",
    "\n",
    "df1.rename(columns={0:'Trump',1:'Clinton'},index={0:\"Candidat\",1:\"Etat\",2:\"Pop\"}, inplace = True)\n",
    "\n",
    "df1 = df1.T\n",
    "\n",
    "df1\n"
   ]
  },
  {
   "cell_type": "code",
   "execution_count": 5,
   "id": "1ded01ec",
   "metadata": {},
   "outputs": [
    {
     "data": {
      "image/png": "[encoded data removed]",
      "text/plain": [
       "<Figure size 432x288 with 1 Axes>"
      ]
     },
     "metadata": {
      "needs_background": "light"
     },
     "output_type": "display_data"
    }
   ],
   "source": [
    "fig = plt.figure()\n",
    "ax = fig.add_axes([0,0,1,1])\n",
    "\n",
    "ax.bar(df1[\"Candidat\"],df1[\"Etat\"],color=['red','blue'])\n",
    "plt.show()"
   ]
  },
  {
   "cell_type": "code",
   "execution_count": 6,
   "id": "068c8812",
   "metadata": {},
   "outputs": [
    {
     "data": {
      "image/png": "[encoded data removed]",
      "text/plain": [
       "<Figure size 432x288 with 1 Axes>"
      ]
     },
     "metadata": {
      "needs_background": "light"
     },
     "output_type": "display_data"
    }
   ],
   "source": [
    "fig = plt.figure()\n",
    "ax = fig.add_axes([0,0,1,1])\n",
    "\n",
    "ax.bar(df1[\"Candidat\"],df1[\"Pop\"],color=['red','blue'])\n",
    "plt.show()"
   ]
  },
  {
   "cell_type": "markdown",
   "id": "7074a689",
   "metadata": {},
   "source": [
    "### 1-1 Nombre de communes"
   ]
  },
  {
   "cell_type": "code",
   "execution_count": 7,
   "id": "760c681e",
   "metadata": {},
   "outputs": [
    {
     "name": "stdout",
     "output_type": "stream",
     "text": [
      "On a 647 communes gagnés par Trump.\n"
     ]
    }
   ],
   "source": [
    "print(f'On a {trump.shape[0]} communes gagnés par Trump.')\n"
   ]
  },
  {
   "cell_type": "code",
   "execution_count": 8,
   "id": "80ba030a",
   "metadata": {},
   "outputs": [
    {
     "name": "stdout",
     "output_type": "stream",
     "text": [
      "On a 270 communes gagnés par Clinton.\n"
     ]
    }
   ],
   "source": [
    "print(f'On a {clinton.shape[0]} communes gagnés par Clinton.')"
   ]
  },
  {
   "cell_type": "code",
   "execution_count": 13,
   "id": "cfdfb8a3",
   "metadata": {},
   "outputs": [
    {
     "data": {
      "text/html": [
       "<div>\n",
       "<style scoped>\n",
       "    .dataframe tbody tr th:only-of-type {\n",
       "        vertical-align: middle;\n",
       "    }\n",
       "\n",
       "    .dataframe tbody tr th {\n",
       "        vertical-align: top;\n",
       "    }\n",
       "\n",
       "    .dataframe thead th {\n",
       "        text-align: right;\n",
       "    }\n",
       "</style>\n",
       "<table border=\"1\" class=\"dataframe\">\n",
       "  <thead>\n",
       "    <tr style=\"text-align: right;\">\n",
       "      <th></th>\n",
       "      <th>nb_com</th>\n",
       "      <th>nom</th>\n",
       "    </tr>\n",
       "  </thead>\n",
       "  <tbody>\n",
       "    <tr>\n",
       "      <th>Trump</th>\n",
       "      <td>647</td>\n",
       "      <td>Trump</td>\n",
       "    </tr>\n",
       "    <tr>\n",
       "      <th>Clinton</th>\n",
       "      <td>270</td>\n",
       "      <td>Clinton</td>\n",
       "    </tr>\n",
       "  </tbody>\n",
       "</table>\n",
       "</div>"
      ],
      "text/plain": [
       "        nb_com      nom\n",
       "Trump      647    Trump\n",
       "Clinton    270  Clinton"
      ]
     },
     "execution_count": 13,
     "metadata": {},
     "output_type": "execute_result"
    }
   ],
   "source": [
    "candidat = [trump.shape[0],clinton.shape[0]]\n",
    "nom = [\"Trump\",\"Clinton\"]\n",
    "\n",
    "candidat = pd.DataFrame([candidat,nom] , index = [0,1])\n",
    "\n",
    "candidat = candidat.T\n",
    "\n",
    "\n",
    "\n",
    "\n",
    "candidat.rename(index={0:'Trump',1:'Clinton'},columns={0:\"nb_com\",1:\"nom\"}, inplace = True)\n",
    "\n",
    "\n",
    "candidat"
   ]
  },
  {
   "cell_type": "code",
   "execution_count": 18,
   "id": "a6a6348c",
   "metadata": {},
   "outputs": [
    {
     "data": {
      "image/png": "[encoded data removed]",
      "text/plain": [
       "<Figure size 432x288 with 1 Axes>"
      ]
     },
     "metadata": {
      "needs_background": "light"
     },
     "output_type": "display_data"
    }
   ],
   "source": [
    "fig = plt.figure()\n",
    "ax = fig.add_axes([0,0,1,1])\n",
    "\n",
    "ax.bar(candidat[\"nom\"],candidat[\"nb_com\"],color=['red','blue'])\n",
    "\n",
    "plt.title(\"Nombre de commune gagné par candidat\")\n",
    "plt.show()"
   ]
  },
  {
   "cell_type": "code",
   "execution_count": 19,
   "id": "a5f3c50d",
   "metadata": {},
   "outputs": [
    {
     "ename": "ValueError",
     "evalue": "could not convert string to float: 'Trump'",
     "output_type": "error",
     "traceback": [
      "\u001b[1;31m---------------------------------------------------------------------------\u001b[0m",
      "\u001b[1;31mValueError\u001b[0m                                Traceback (most recent call last)",
      "\u001b[1;32m~\\AppData\\Local\\Temp/ipykernel_11952/2991854633.py\u001b[0m in \u001b[0;36m<module>\u001b[1;34m\u001b[0m\n\u001b[0;32m      2\u001b[0m \u001b[0mplt\u001b[0m\u001b[1;33m.\u001b[0m\u001b[0mfigure\u001b[0m\u001b[1;33m(\u001b[0m\u001b[0mfigsize\u001b[0m\u001b[1;33m=\u001b[0m\u001b[1;33m(\u001b[0m\u001b[1;36m10\u001b[0m\u001b[1;33m,\u001b[0m\u001b[1;36m6\u001b[0m\u001b[1;33m)\u001b[0m\u001b[1;33m)\u001b[0m\u001b[1;33m\u001b[0m\u001b[1;33m\u001b[0m\u001b[0m\n\u001b[0;32m      3\u001b[0m \u001b[1;33m\u001b[0m\u001b[0m\n\u001b[1;32m----> 4\u001b[1;33m \u001b[0mplt\u001b[0m\u001b[1;33m.\u001b[0m\u001b[0mpie\u001b[0m\u001b[1;33m(\u001b[0m\u001b[0mcandidat\u001b[0m\u001b[1;33m,\u001b[0m\u001b[0mlabels\u001b[0m \u001b[1;33m=\u001b[0m \u001b[1;33m[\u001b[0m\u001b[1;34m\"Trump\"\u001b[0m\u001b[1;33m,\u001b[0m\u001b[1;34m\"Clinton\"\u001b[0m\u001b[1;33m]\u001b[0m\u001b[1;33m,\u001b[0m \u001b[0mautopct\u001b[0m \u001b[1;33m=\u001b[0m \u001b[1;34m'%.2f%%'\u001b[0m\u001b[1;33m)\u001b[0m\u001b[1;33m\u001b[0m\u001b[1;33m\u001b[0m\u001b[0m\n\u001b[0m\u001b[0;32m      5\u001b[0m \u001b[0mplt\u001b[0m\u001b[1;33m.\u001b[0m\u001b[0mtitle\u001b[0m\u001b[1;33m(\u001b[0m\u001b[1;34m'Nombre de communes par candidat'\u001b[0m\u001b[1;33m)\u001b[0m\u001b[1;33m\u001b[0m\u001b[1;33m\u001b[0m\u001b[0m\n\u001b[0;32m      6\u001b[0m \u001b[0mplt\u001b[0m\u001b[1;33m.\u001b[0m\u001b[0msavefig\u001b[0m\u001b[1;33m(\u001b[0m\u001b[1;34m\"Commune_candidat.png\"\u001b[0m\u001b[1;33m)\u001b[0m\u001b[1;33m\u001b[0m\u001b[1;33m\u001b[0m\u001b[0m\n",
      "\u001b[1;32m~\\anaconda3\\lib\\site-packages\\matplotlib\\pyplot.py\u001b[0m in \u001b[0;36mpie\u001b[1;34m(x, explode, labels, colors, autopct, pctdistance, shadow, labeldistance, startangle, radius, counterclock, wedgeprops, textprops, center, frame, rotatelabels, normalize, data)\u001b[0m\n\u001b[0;32m   3004\u001b[0m         \u001b[0mtextprops\u001b[0m\u001b[1;33m=\u001b[0m\u001b[1;32mNone\u001b[0m\u001b[1;33m,\u001b[0m \u001b[0mcenter\u001b[0m\u001b[1;33m=\u001b[0m\u001b[1;33m(\u001b[0m\u001b[1;36m0\u001b[0m\u001b[1;33m,\u001b[0m \u001b[1;36m0\u001b[0m\u001b[1;33m)\u001b[0m\u001b[1;33m,\u001b[0m \u001b[0mframe\u001b[0m\u001b[1;33m=\u001b[0m\u001b[1;32mFalse\u001b[0m\u001b[1;33m,\u001b[0m\u001b[1;33m\u001b[0m\u001b[1;33m\u001b[0m\u001b[0m\n\u001b[0;32m   3005\u001b[0m         rotatelabels=False, *, normalize=None, data=None):\n\u001b[1;32m-> 3006\u001b[1;33m     return gca().pie(\n\u001b[0m\u001b[0;32m   3007\u001b[0m         \u001b[0mx\u001b[0m\u001b[1;33m,\u001b[0m \u001b[0mexplode\u001b[0m\u001b[1;33m=\u001b[0m\u001b[0mexplode\u001b[0m\u001b[1;33m,\u001b[0m \u001b[0mlabels\u001b[0m\u001b[1;33m=\u001b[0m\u001b[0mlabels\u001b[0m\u001b[1;33m,\u001b[0m \u001b[0mcolors\u001b[0m\u001b[1;33m=\u001b[0m\u001b[0mcolors\u001b[0m\u001b[1;33m,\u001b[0m\u001b[1;33m\u001b[0m\u001b[1;33m\u001b[0m\u001b[0m\n\u001b[0;32m   3008\u001b[0m         \u001b[0mautopct\u001b[0m\u001b[1;33m=\u001b[0m\u001b[0mautopct\u001b[0m\u001b[1;33m,\u001b[0m \u001b[0mpctdistance\u001b[0m\u001b[1;33m=\u001b[0m\u001b[0mpctdistance\u001b[0m\u001b[1;33m,\u001b[0m \u001b[0mshadow\u001b[0m\u001b[1;33m=\u001b[0m\u001b[0mshadow\u001b[0m\u001b[1;33m,\u001b[0m\u001b[1;33m\u001b[0m\u001b[1;33m\u001b[0m\u001b[0m\n",
      "\u001b[1;32m~\\anaconda3\\lib\\site-packages\\matplotlib\\__init__.py\u001b[0m in \u001b[0;36minner\u001b[1;34m(ax, data, *args, **kwargs)\u001b[0m\n\u001b[0;32m   1359\u001b[0m     \u001b[1;32mdef\u001b[0m \u001b[0minner\u001b[0m\u001b[1;33m(\u001b[0m\u001b[0max\u001b[0m\u001b[1;33m,\u001b[0m \u001b[1;33m*\u001b[0m\u001b[0margs\u001b[0m\u001b[1;33m,\u001b[0m \u001b[0mdata\u001b[0m\u001b[1;33m=\u001b[0m\u001b[1;32mNone\u001b[0m\u001b[1;33m,\u001b[0m \u001b[1;33m**\u001b[0m\u001b[0mkwargs\u001b[0m\u001b[1;33m)\u001b[0m\u001b[1;33m:\u001b[0m\u001b[1;33m\u001b[0m\u001b[1;33m\u001b[0m\u001b[0m\n\u001b[0;32m   1360\u001b[0m         \u001b[1;32mif\u001b[0m \u001b[0mdata\u001b[0m \u001b[1;32mis\u001b[0m \u001b[1;32mNone\u001b[0m\u001b[1;33m:\u001b[0m\u001b[1;33m\u001b[0m\u001b[1;33m\u001b[0m\u001b[0m\n\u001b[1;32m-> 1361\u001b[1;33m             \u001b[1;32mreturn\u001b[0m \u001b[0mfunc\u001b[0m\u001b[1;33m(\u001b[0m\u001b[0max\u001b[0m\u001b[1;33m,\u001b[0m \u001b[1;33m*\u001b[0m\u001b[0mmap\u001b[0m\u001b[1;33m(\u001b[0m\u001b[0msanitize_sequence\u001b[0m\u001b[1;33m,\u001b[0m \u001b[0margs\u001b[0m\u001b[1;33m)\u001b[0m\u001b[1;33m,\u001b[0m \u001b[1;33m**\u001b[0m\u001b[0mkwargs\u001b[0m\u001b[1;33m)\u001b[0m\u001b[1;33m\u001b[0m\u001b[1;33m\u001b[0m\u001b[0m\n\u001b[0m\u001b[0;32m   1362\u001b[0m \u001b[1;33m\u001b[0m\u001b[0m\n\u001b[0;32m   1363\u001b[0m         \u001b[0mbound\u001b[0m \u001b[1;33m=\u001b[0m \u001b[0mnew_sig\u001b[0m\u001b[1;33m.\u001b[0m\u001b[0mbind\u001b[0m\u001b[1;33m(\u001b[0m\u001b[0max\u001b[0m\u001b[1;33m,\u001b[0m \u001b[1;33m*\u001b[0m\u001b[0margs\u001b[0m\u001b[1;33m,\u001b[0m \u001b[1;33m**\u001b[0m\u001b[0mkwargs\u001b[0m\u001b[1;33m)\u001b[0m\u001b[1;33m\u001b[0m\u001b[1;33m\u001b[0m\u001b[0m\n",
      "\u001b[1;32m~\\anaconda3\\lib\\site-packages\\matplotlib\\axes\\_axes.py\u001b[0m in \u001b[0;36mpie\u001b[1;34m(self, x, explode, labels, colors, autopct, pctdistance, shadow, labeldistance, startangle, radius, counterclock, wedgeprops, textprops, center, frame, rotatelabels, normalize)\u001b[0m\n\u001b[0;32m   3028\u001b[0m         \u001b[1;31m# The use of float32 is \"historical\", but can't be changed without\u001b[0m\u001b[1;33m\u001b[0m\u001b[1;33m\u001b[0m\u001b[0m\n\u001b[0;32m   3029\u001b[0m         \u001b[1;31m# regenerating the test baselines.\u001b[0m\u001b[1;33m\u001b[0m\u001b[1;33m\u001b[0m\u001b[0m\n\u001b[1;32m-> 3030\u001b[1;33m         \u001b[0mx\u001b[0m \u001b[1;33m=\u001b[0m \u001b[0mnp\u001b[0m\u001b[1;33m.\u001b[0m\u001b[0masarray\u001b[0m\u001b[1;33m(\u001b[0m\u001b[0mx\u001b[0m\u001b[1;33m,\u001b[0m \u001b[0mnp\u001b[0m\u001b[1;33m.\u001b[0m\u001b[0mfloat32\u001b[0m\u001b[1;33m)\u001b[0m\u001b[1;33m\u001b[0m\u001b[1;33m\u001b[0m\u001b[0m\n\u001b[0m\u001b[0;32m   3031\u001b[0m         \u001b[1;32mif\u001b[0m \u001b[0mx\u001b[0m\u001b[1;33m.\u001b[0m\u001b[0mndim\u001b[0m \u001b[1;33m>\u001b[0m \u001b[1;36m1\u001b[0m\u001b[1;33m:\u001b[0m\u001b[1;33m\u001b[0m\u001b[1;33m\u001b[0m\u001b[0m\n\u001b[0;32m   3032\u001b[0m             \u001b[1;32mraise\u001b[0m \u001b[0mValueError\u001b[0m\u001b[1;33m(\u001b[0m\u001b[1;34m\"x must be 1D\"\u001b[0m\u001b[1;33m)\u001b[0m\u001b[1;33m\u001b[0m\u001b[1;33m\u001b[0m\u001b[0m\n",
      "\u001b[1;32m~\\anaconda3\\lib\\site-packages\\numpy\\core\\_asarray.py\u001b[0m in \u001b[0;36masarray\u001b[1;34m(a, dtype, order, like)\u001b[0m\n\u001b[0;32m    100\u001b[0m         \u001b[1;32mreturn\u001b[0m \u001b[0m_asarray_with_like\u001b[0m\u001b[1;33m(\u001b[0m\u001b[0ma\u001b[0m\u001b[1;33m,\u001b[0m \u001b[0mdtype\u001b[0m\u001b[1;33m=\u001b[0m\u001b[0mdtype\u001b[0m\u001b[1;33m,\u001b[0m \u001b[0morder\u001b[0m\u001b[1;33m=\u001b[0m\u001b[0morder\u001b[0m\u001b[1;33m,\u001b[0m \u001b[0mlike\u001b[0m\u001b[1;33m=\u001b[0m\u001b[0mlike\u001b[0m\u001b[1;33m)\u001b[0m\u001b[1;33m\u001b[0m\u001b[1;33m\u001b[0m\u001b[0m\n\u001b[0;32m    101\u001b[0m \u001b[1;33m\u001b[0m\u001b[0m\n\u001b[1;32m--> 102\u001b[1;33m     \u001b[1;32mreturn\u001b[0m \u001b[0marray\u001b[0m\u001b[1;33m(\u001b[0m\u001b[0ma\u001b[0m\u001b[1;33m,\u001b[0m \u001b[0mdtype\u001b[0m\u001b[1;33m,\u001b[0m \u001b[0mcopy\u001b[0m\u001b[1;33m=\u001b[0m\u001b[1;32mFalse\u001b[0m\u001b[1;33m,\u001b[0m \u001b[0morder\u001b[0m\u001b[1;33m=\u001b[0m\u001b[0morder\u001b[0m\u001b[1;33m)\u001b[0m\u001b[1;33m\u001b[0m\u001b[1;33m\u001b[0m\u001b[0m\n\u001b[0m\u001b[0;32m    103\u001b[0m \u001b[1;33m\u001b[0m\u001b[0m\n\u001b[0;32m    104\u001b[0m \u001b[1;33m\u001b[0m\u001b[0m\n",
      "\u001b[1;32m~\\anaconda3\\lib\\site-packages\\pandas\\core\\generic.py\u001b[0m in \u001b[0;36m__array__\u001b[1;34m(self, dtype)\u001b[0m\n\u001b[0;32m   1991\u001b[0m \u001b[1;33m\u001b[0m\u001b[0m\n\u001b[0;32m   1992\u001b[0m     \u001b[1;32mdef\u001b[0m \u001b[0m__array__\u001b[0m\u001b[1;33m(\u001b[0m\u001b[0mself\u001b[0m\u001b[1;33m,\u001b[0m \u001b[0mdtype\u001b[0m\u001b[1;33m:\u001b[0m \u001b[0mNpDtype\u001b[0m \u001b[1;33m|\u001b[0m \u001b[1;32mNone\u001b[0m \u001b[1;33m=\u001b[0m \u001b[1;32mNone\u001b[0m\u001b[1;33m)\u001b[0m \u001b[1;33m->\u001b[0m \u001b[0mnp\u001b[0m\u001b[1;33m.\u001b[0m\u001b[0mndarray\u001b[0m\u001b[1;33m:\u001b[0m\u001b[1;33m\u001b[0m\u001b[1;33m\u001b[0m\u001b[0m\n\u001b[1;32m-> 1993\u001b[1;33m         \u001b[1;32mreturn\u001b[0m \u001b[0mnp\u001b[0m\u001b[1;33m.\u001b[0m\u001b[0masarray\u001b[0m\u001b[1;33m(\u001b[0m\u001b[0mself\u001b[0m\u001b[1;33m.\u001b[0m\u001b[0m_values\u001b[0m\u001b[1;33m,\u001b[0m \u001b[0mdtype\u001b[0m\u001b[1;33m=\u001b[0m\u001b[0mdtype\u001b[0m\u001b[1;33m)\u001b[0m\u001b[1;33m\u001b[0m\u001b[1;33m\u001b[0m\u001b[0m\n\u001b[0m\u001b[0;32m   1994\u001b[0m \u001b[1;33m\u001b[0m\u001b[0m\n\u001b[0;32m   1995\u001b[0m     def __array_wrap__(\n",
      "\u001b[1;32m~\\anaconda3\\lib\\site-packages\\numpy\\core\\_asarray.py\u001b[0m in \u001b[0;36masarray\u001b[1;34m(a, dtype, order, like)\u001b[0m\n\u001b[0;32m    100\u001b[0m         \u001b[1;32mreturn\u001b[0m \u001b[0m_asarray_with_like\u001b[0m\u001b[1;33m(\u001b[0m\u001b[0ma\u001b[0m\u001b[1;33m,\u001b[0m \u001b[0mdtype\u001b[0m\u001b[1;33m=\u001b[0m\u001b[0mdtype\u001b[0m\u001b[1;33m,\u001b[0m \u001b[0morder\u001b[0m\u001b[1;33m=\u001b[0m\u001b[0morder\u001b[0m\u001b[1;33m,\u001b[0m \u001b[0mlike\u001b[0m\u001b[1;33m=\u001b[0m\u001b[0mlike\u001b[0m\u001b[1;33m)\u001b[0m\u001b[1;33m\u001b[0m\u001b[1;33m\u001b[0m\u001b[0m\n\u001b[0;32m    101\u001b[0m \u001b[1;33m\u001b[0m\u001b[0m\n\u001b[1;32m--> 102\u001b[1;33m     \u001b[1;32mreturn\u001b[0m \u001b[0marray\u001b[0m\u001b[1;33m(\u001b[0m\u001b[0ma\u001b[0m\u001b[1;33m,\u001b[0m \u001b[0mdtype\u001b[0m\u001b[1;33m,\u001b[0m \u001b[0mcopy\u001b[0m\u001b[1;33m=\u001b[0m\u001b[1;32mFalse\u001b[0m\u001b[1;33m,\u001b[0m \u001b[0morder\u001b[0m\u001b[1;33m=\u001b[0m\u001b[0morder\u001b[0m\u001b[1;33m)\u001b[0m\u001b[1;33m\u001b[0m\u001b[1;33m\u001b[0m\u001b[0m\n\u001b[0m\u001b[0;32m    103\u001b[0m \u001b[1;33m\u001b[0m\u001b[0m\n\u001b[0;32m    104\u001b[0m \u001b[1;33m\u001b[0m\u001b[0m\n",
      "\u001b[1;31mValueError\u001b[0m: could not convert string to float: 'Trump'"
     ]
    },
    {
     "data": {
      "image/png": "[encoded data removed]",
      "text/plain": [
       "<Figure size 720x432 with 1 Axes>"
      ]
     },
     "metadata": {
      "needs_background": "light"
     },
     "output_type": "display_data"
    }
   ],
   "source": [
    "#Diagramme circulaire\n",
    "plt.figure(figsize=(10,6))\n",
    "\n",
    "plt.pie(candidat,labels = [\"Trump\",\"Clinton\"], autopct = '%.2f%%')\n",
    "plt.title('Nombre de communes par candidat')\n",
    "plt.savefig(\"Commune_candidat.png\")\n",
    "\n",
    "plt.show()"
   ]
  },
  {
   "cell_type": "markdown",
   "id": "ba4816b4",
   "metadata": {},
   "source": [
    "### 1-2 nombre d'habitants par le candidat obtenu"
   ]
  },
  {
   "cell_type": "code",
   "execution_count": 20,
   "id": "cffdf570",
   "metadata": {},
   "outputs": [
    {
     "data": {
      "text/plain": [
       "[75060500, 213265486]"
      ]
     },
     "execution_count": 20,
     "metadata": {},
     "output_type": "execute_result"
    }
   ],
   "source": [
    "candidat_pop = [sum(trump['POP10']),sum(clinton['POP10'])]\n",
    "candidat_pop"
   ]
  },
  {
   "cell_type": "code",
   "execution_count": 21,
   "id": "123e54cd",
   "metadata": {},
   "outputs": [
    {
     "data": {
      "image/png": "[encoded data removed]",
      "text/plain": [
       "<Figure size 720x432 with 1 Axes>"
      ]
     },
     "metadata": {},
     "output_type": "display_data"
    }
   ],
   "source": [
    "#Diagramme circulaire\n",
    "plt.figure(figsize=(10,6))\n",
    "\n",
    "plt.pie(candidat_pop,labels = [\"Trump\",\"Clinton\"], autopct = '%.2f%%')\n",
    "plt.title('Nombre d\\'habitant par candidat')\n",
    "plt.savefig(\"Population_candidat.png\")\n",
    "\n",
    "plt.show()"
   ]
  },
  {
   "cell_type": "markdown",
   "id": "cfee806a",
   "metadata": {},
   "source": [
    "### 1-3 Analyse des candidats par Etat"
   ]
  },
  {
   "cell_type": "code",
   "execution_count": 22,
   "id": "51da1fc6",
   "metadata": {},
   "outputs": [
    {
     "data": {
      "text/plain": [
       "Texas             54\n",
       "Ohio              37\n",
       "Indiana           34\n",
       "Tennessee         24\n",
       "Pensylvania       24\n",
       "Michigan          24\n",
       "Florida           23\n",
       "Missouri          22\n",
       "Illinois          22\n",
       "Georgia           21\n",
       "North Carolina    21\n",
       "Oklahoma          21\n",
       "Kentucky          18\n",
       "Alabama           17\n",
       "Iowa              17\n",
       "Oregon            16\n",
       "Wisconsin         16\n",
       "Kansas            16\n",
       "Minnesota         16\n",
       "New-York          16\n",
       "Arkansas          15\n",
       "Louisiana         14\n",
       "Washington        13\n",
       "Mississippi       12\n",
       "California        12\n",
       "Idaho             12\n",
       "West Virginia     11\n",
       "South Carolina    10\n",
       "South Dakota      10\n",
       "Nebraska          10\n",
       "Colorado           9\n",
       "North Dakota       8\n",
       "Wyoming            8\n",
       "Utah               8\n",
       "Nevada             7\n",
       "New Mexico         7\n",
       "Arizona            7\n",
       "Maine              3\n",
       "Montana            3\n",
       "Virginia           2\n",
       "Maryland           2\n",
       "Alaska             2\n",
       "Hew Hamsphire      1\n",
       "New Jersey         1\n",
       "Connecticut        1\n",
       "Name: NameState, dtype: int64"
      ]
     },
     "execution_count": 22,
     "metadata": {},
     "output_type": "execute_result"
    }
   ],
   "source": [
    "# Pour Trump\n",
    "\n",
    "trump.NameState.value_counts()"
   ]
  },
  {
   "cell_type": "code",
   "execution_count": 23,
   "id": "d3777f08",
   "metadata": {},
   "outputs": [
    {
     "data": {
      "text/plain": [
       "California              22\n",
       "North Carolina          18\n",
       "Georgia                 16\n",
       "Texas                   14\n",
       "New Mexico              11\n",
       "Pensylvania             10\n",
       "Virginia                10\n",
       "New-York                10\n",
       "Mississippi              9\n",
       "Michigan                 9\n",
       "Colorado                 8\n",
       "Wisconsin                8\n",
       "Washington               7\n",
       "Massachusetts            7\n",
       "Florida                  6\n",
       "Iowa                     6\n",
       "Ohio                     6\n",
       "Hew Hamsphire            5\n",
       "Illinois                 5\n",
       "South Carolina           5\n",
       "Maryland                 5\n",
       "Vermont                  4\n",
       "Hawaï                    4\n",
       "Arkansas                 4\n",
       "Arizona                  4\n",
       "Kansas                   4\n",
       "Minnesota                4\n",
       "Montana                  4\n",
       "Oregon                   4\n",
       "Connecticut              4\n",
       "Alabama                  4\n",
       "New Jersey               3\n",
       "Missouri                 3\n",
       "Louisiana                3\n",
       "Wyoming                  2\n",
       "West Virginia            2\n",
       "Indiana                  2\n",
       "Alaska                   2\n",
       "Nevada                   2\n",
       "Kentucky                 2\n",
       "Nebraska                 2\n",
       "Tennessee                2\n",
       "Utah                     2\n",
       "South Dakota             1\n",
       "Rhode Island             1\n",
       "Idaho                    1\n",
       "Maine                    1\n",
       "Delaware                 1\n",
       "District of Columbia     1\n",
       "Name: NameState, dtype: int64"
      ]
     },
     "execution_count": 23,
     "metadata": {},
     "output_type": "execute_result"
    }
   ],
   "source": [
    "# Pour Trump\n",
    "\n",
    "clinton.NameState.value_counts()"
   ]
  },
  {
   "cell_type": "code",
   "execution_count": 24,
   "id": "50a36ddc",
   "metadata": {},
   "outputs": [
    {
     "data": {
      "text/plain": [
       "Index(['cbssa', 'name', 'state', 'NameState', 'PartUSA', 'Political',\n",
       "       'Candidat', 'BorderSea', 'Anglais_Off', 'POP10', 'WHITEp', 'BLACKp',\n",
       "       'ASIANp', 'OTHERp', 'HISPAp', 'UNDER18p', 'F18TO24p', 'F25TO44p',\n",
       "       'F45TO64p', 'MORE65p', 'NODIPLOMp', 'F9TO12THp', 'UNDERGRADp',\n",
       "       'GRADUATEp', 'F0TO20p', 'F20TO40p', 'F40TO60p', 'F60TO80p',\n",
       "       'F80TO100p'],\n",
       "      dtype='object')"
      ]
     },
     "execution_count": 24,
     "metadata": {},
     "output_type": "execute_result"
    }
   ],
   "source": [
    "usa.columns"
   ]
  },
  {
   "cell_type": "markdown",
   "id": "553ff301",
   "metadata": {},
   "source": [
    "#### Par région des Etats-Unis"
   ]
  },
  {
   "cell_type": "code",
   "execution_count": 25,
   "id": "a1a0457f",
   "metadata": {},
   "outputs": [
    {
     "data": {
      "text/plain": [
       "North-East    263\n",
       "South-East    157\n",
       "South-West    143\n",
       "North-West     82\n",
       "OTHER           2\n",
       "Name: PartUSA, dtype: int64"
      ]
     },
     "execution_count": 25,
     "metadata": {},
     "output_type": "execute_result"
    }
   ],
   "source": [
    "# Pour Trump\n",
    "\n",
    "trump.PartUSA.value_counts()"
   ]
  },
  {
   "cell_type": "code",
   "execution_count": 26,
   "id": "e90a9936",
   "metadata": {},
   "outputs": [
    {
     "data": {
      "text/plain": [
       "North-East    109\n",
       "South-East     67\n",
       "South-West     67\n",
       "North-West     21\n",
       "OTHER           6\n",
       "Name: PartUSA, dtype: int64"
      ]
     },
     "execution_count": 26,
     "metadata": {},
     "output_type": "execute_result"
    }
   ],
   "source": [
    "# Pour Clinton\n",
    "\n",
    "clinton.PartUSA.value_counts()"
   ]
  },
  {
   "cell_type": "markdown",
   "id": "3975dddd",
   "metadata": {},
   "source": [
    "# 2 - Analyse de la population selon les candidats"
   ]
  },
  {
   "cell_type": "markdown",
   "id": "5e944ab7",
   "metadata": {},
   "source": [
    "### 2-1 Pour Trump"
   ]
  },
  {
   "cell_type": "code",
   "execution_count": 27,
   "id": "ade1ecc0",
   "metadata": {},
   "outputs": [
    {
     "name": "stdout",
     "output_type": "stream",
     "text": [
      "On a 75060500 d'habitants sur nos aires urbaines étudiés, soit 22.68 % de la population totale\n"
     ]
    }
   ],
   "source": [
    "#Nombre d'habitants totale dans les communes de Trump\n",
    "\n",
    "\n",
    "print(f'On a {sum(trump.POP10)} d\\'habitants sur nos aires urbaines étudiés, soit {round((sum(trump.POP10)/331000000)*100,2)} % de la population totale')"
   ]
  },
  {
   "cell_type": "code",
   "execution_count": 28,
   "id": "30e6ebf3",
   "metadata": {},
   "outputs": [
    {
     "data": {
      "text/plain": [
       "[56972730, 6823996, 7820315, 1201434, 2241491]"
      ]
     },
     "execution_count": 28,
     "metadata": {},
     "output_type": "execute_result"
    }
   ],
   "source": [
    "#Population ethnique\n",
    "\n",
    "#On calcule les proportions des communautés\n",
    "\n",
    "\n",
    "\n",
    "#on va créer un fonction pour faire des proportions\n",
    "pop_trump = list(trump.POP10)\n",
    "\n",
    "#population blanche\n",
    "prop_blanche = list(trump.WHITEp/100)\n",
    "pop_blanche = list()\n",
    "for i in range(647):\n",
    "    pop_blanche.append(round(pop_trump[i]*prop_blanche[i]))\n",
    "    \n",
    "#population noire\n",
    "prop_noir = list(trump.BLACKp/100)\n",
    "pop_noir = list()\n",
    "for i in range(647):\n",
    "    pop_noir.append(round(pop_trump[i]*prop_noir[i]))\n",
    "\n",
    "# population hispanique\n",
    "prop_hispa = list(trump.HISPAp/100)\n",
    "pop_hispa = list()\n",
    "for i in range(647):\n",
    "    pop_hispa.append(round(pop_trump[i]*prop_hispa[i]))\n",
    "\n",
    "#population asiatique\n",
    "prop_asia = list(trump.ASIANp/100)\n",
    "pop_asia = list()\n",
    "for i in range(647):\n",
    "    pop_asia.append(round(pop_trump[i]*prop_asia[i]))\n",
    "\n",
    "# population autres\n",
    "prop_other = list(trump.OTHERp/100)\n",
    "pop_other = list()\n",
    "for i in range(647):\n",
    "    pop_other.append(round(pop_trump[i]*prop_other[i]))\n",
    "\n",
    "    \n",
    "    \n",
    "trump_etno = [sum(pop_blanche),sum(pop_noir),sum(pop_hispa),sum(pop_asia),sum(pop_other)]    \n",
    "trump_etno    "
   ]
  },
  {
   "cell_type": "code",
   "execution_count": 29,
   "id": "f34835fd",
   "metadata": {},
   "outputs": [
    {
     "data": {
      "image/png": "[encoded data removed]",
      "text/plain": [
       "<Figure size 720x432 with 1 Axes>"
      ]
     },
     "metadata": {},
     "output_type": "display_data"
    }
   ],
   "source": [
    "plt.figure(figsize=(10,6))\n",
    "\n",
    "#Digramme circulaire\n",
    "plt.pie(trump_etno,labels = [\"blanche\",\"noire\",\"hispanique\",\"asiatique\",\"autres\"], autopct = '%.2f%%')\n",
    "plt.title('Proportion de population selon leurs appartenances éthniques dans les communes de Trump')\n",
    "plt.savefig(\"Trump_etnique.png\")\n",
    "\n",
    "plt.show()"
   ]
  },
  {
   "cell_type": "code",
   "execution_count": 30,
   "id": "1aa49283",
   "metadata": {},
   "outputs": [
    {
     "data": {
      "text/plain": [
       "[17724655, 7610639, 18582510, 20080461, 11062438]"
      ]
     },
     "execution_count": 30,
     "metadata": {},
     "output_type": "execute_result"
    }
   ],
   "source": [
    "#On calcule les proportions des tranches d'âges\n",
    "\n",
    "#on va créer un fonction pour faire des proportions\n",
    "pop_trump = list(trump.POP10)\n",
    "\n",
    "#population mineur(moins de 18 ans)\n",
    "prop_m18 = list(trump.UNDER18p/100)\n",
    "pop_m18 = list()\n",
    "for i in range(647):\n",
    "    pop_m18.append(round(pop_trump[i]*prop_m18[i]))\n",
    "    \n",
    "#population de jeunes d'entre 18 et 25 ans\n",
    "prop_d18a25 = list(trump.F18TO24p/100)\n",
    "pop_d18a25 = list()\n",
    "for i in range(647):\n",
    "    pop_d18a25.append(round(pop_trump[i]*prop_d18a25[i]))\n",
    "\n",
    "# population de personnes d'entre 25 et 44 ans\n",
    "prop_d25a44 = list(trump.F25TO44p/100)\n",
    "pop_d25a44 = list()\n",
    "for i in range(647):\n",
    "    pop_d25a44.append(round(pop_trump[i]*prop_d25a44[i]))\n",
    "\n",
    "#population de personnes d'entre 45 et 64 ans\n",
    "prop_de45a64 = list(trump.F45TO64p/100)\n",
    "pop_de45a64 = list()\n",
    "for i in range(647):\n",
    "    pop_de45a64.append(round(pop_trump[i]*prop_de45a64[i]))\n",
    "\n",
    "# population de personne de plus de 64 ans\n",
    "prop_p65 = list(trump.MORE65p/100)\n",
    "pop_p65 = list()\n",
    "for i in range(647):\n",
    "    pop_p65.append(round(pop_trump[i]*prop_p65[i]))\n",
    "\n",
    "    \n",
    "    \n",
    "trump_age = [sum(pop_m18),sum(pop_d18a25),sum(pop_d25a44),sum(pop_de45a64),sum(pop_p65)]    \n",
    "trump_age"
   ]
  },
  {
   "cell_type": "code",
   "execution_count": 31,
   "id": "703aa3f7",
   "metadata": {},
   "outputs": [
    {
     "data": {
      "image/png": "[encoded data removed]",
      "text/plain": [
       "<Figure size 720x432 with 1 Axes>"
      ]
     },
     "metadata": {},
     "output_type": "display_data"
    }
   ],
   "source": [
    "plt.figure(figsize=(10,6))\n",
    "\n",
    "#Digramme circulaire\n",
    "plt.pie(trump_age,labels = [\"-18ans\",\"18-24ans\",\"25-44ans\",\"45-64ans\",\"+64ans\"], autopct = '%.2f%%')\n",
    "plt.title('Proportion de population selon leurs tranches d\\'âge chez Trump')\n",
    "plt.savefig(\"Trump_age.png\")\n",
    "\n",
    "plt.show()"
   ]
  },
  {
   "cell_type": "code",
   "execution_count": 32,
   "id": "f7992d43",
   "metadata": {},
   "outputs": [
    {
     "data": {
      "text/plain": [
       "[4415230, 31317269, 22793946, 16699572]"
      ]
     },
     "execution_count": 32,
     "metadata": {},
     "output_type": "execute_result"
    }
   ],
   "source": [
    "#On calcule les proportions des tranches d'âges\n",
    "\n",
    "#on va créer un fonction pour faire des proportions\n",
    "pop_trump = list(trump.POP10)\n",
    "\n",
    "#population non diplômé\n",
    "prop_nodiplome = list(usa.NODIPLOMp/100)\n",
    "pop_nodiplome = list()\n",
    "for i in range(647):\n",
    "    pop_nodiplome.append(round(pop_trump[i]*prop_nodiplome[i]))\n",
    "    \n",
    "#population de niveau lycée\n",
    "prop_lycee = list(trump.F9TO12THp/100)\n",
    "pop_lycee = list()\n",
    "for i in range(647):\n",
    "    pop_lycee.append(round(pop_trump[i]*prop_lycee[i]))\n",
    "\n",
    "# population de baccalauréat\n",
    "prop_bac = list(trump.UNDERGRADp/100)\n",
    "pop_bac = list()\n",
    "for i in range(647):\n",
    "    pop_bac.append(round(pop_trump[i]*prop_bac[i]))\n",
    "\n",
    "#population de diplômé dans le supérieur\n",
    "prop_univ = list(trump.GRADUATEp/100)\n",
    "pop_univ = list()\n",
    "for i in range(647):\n",
    "    pop_univ.append(round(pop_trump[i]*prop_univ[i]))\n",
    "\n",
    "    \n",
    "trump_scolaire = [sum(pop_nodiplome),sum(pop_lycee),sum(pop_bac),sum(pop_univ)]    \n",
    "trump_scolaire"
   ]
  },
  {
   "cell_type": "code",
   "execution_count": 33,
   "id": "1561fb7e",
   "metadata": {},
   "outputs": [
    {
     "data": {
      "image/png": "[encoded data removed]",
      "text/plain": [
       "<Figure size 720x432 with 1 Axes>"
      ]
     },
     "metadata": {},
     "output_type": "display_data"
    }
   ],
   "source": [
    "plt.figure(figsize=(10,6))\n",
    "\n",
    "#Digramme circulaire\n",
    "plt.pie(trump_scolaire,labels = [\"no diplômé\",\"lycée\",\"baccalauréat\",\"université\"], autopct = '%.2f%%')\n",
    "plt.title('Proportion de population selon leurs parcours scolaires chez Trump')\n",
    "plt.savefig(\"Trump_scolaire.png\")\n",
    "\n",
    "plt.show()"
   ]
  },
  {
   "cell_type": "code",
   "execution_count": 25,
   "id": "5a9ecab7",
   "metadata": {},
   "outputs": [
    {
     "data": {
      "text/plain": [
       "[15281801, 17495787, 13772008, 16614726, 11896449]"
      ]
     },
     "execution_count": 25,
     "metadata": {},
     "output_type": "execute_result"
    }
   ],
   "source": [
    "#On calcule les proportions des tranches d'âges\n",
    "\n",
    "#on va créer un fonction pour faire des proportions\n",
    "pop_trump = list(trump.POP10)\n",
    "\n",
    "#population ayant un revenu de moins de 20000$\n",
    "prop_m20d = list(trump.F0TO20p/100)\n",
    "pop_m20d = list()\n",
    "for i in range(647):\n",
    "    pop_m20d.append(round(pop_trump[i]*prop_m20d[i]))\n",
    "    \n",
    "#population ayant un revenu d'entre 20000 et 40000$\n",
    "prop_m2040d = list(trump.F20TO40p/100)\n",
    "pop_m2040d = list()\n",
    "for i in range(647):\n",
    "    pop_m2040d.append(round(pop_trump[i]*prop_m2040d[i]))\n",
    "\n",
    "#population ayant un revenu d'entre 40000 et 60000$ \n",
    "prop_m4060d = list(trump.F40TO60p/100)\n",
    "pop_m4060d = list()\n",
    "for i in range(647):\n",
    "    pop_m4060d.append(round(pop_trump[i]*prop_m4060d[i]))\n",
    "\n",
    "#population ayant un revenu d'entre 60000 et 80000$ \n",
    "prop_m6080d = list(trump.F60TO80p/100)\n",
    "pop_m6080d = list()\n",
    "for i in range(647):\n",
    "    pop_m6080d.append(round(pop_trump[i]*prop_m6080d[i]))\n",
    "    \n",
    "#population ayant un revenu de plus de 80000$\n",
    "prop_p80d = list(trump.F80TO100p/100)\n",
    "pop_p80d = list()\n",
    "for i in range(647):\n",
    "    pop_p80d.append(round(pop_trump[i]*prop_p80d[i])) \n",
    "    \n",
    "    \n",
    "trump_revenu = [sum(pop_m20d),sum(pop_m2040d),sum(pop_m4060d),sum(pop_m6080d),sum(pop_p80d)]    \n",
    "trump_revenu"
   ]
  },
  {
   "cell_type": "code",
   "execution_count": 26,
   "id": "59753598",
   "metadata": {},
   "outputs": [
    {
     "data": {
      "image/png": "[encoded data removed]",
      "text/plain": [
       "<Figure size 720x432 with 1 Axes>"
      ]
     },
     "metadata": {},
     "output_type": "display_data"
    }
   ],
   "source": [
    "plt.figure(figsize=(10,6))\n",
    "\n",
    "#Digramme circulaire\n",
    "plt.pie(trump_revenu,labels = [\"-20 000$\",\"20-40000$\",\"40-60000$\",\"60-80000$\",\"+80 000$\"], autopct = '%.2f%%')\n",
    "plt.title('Proportion de population selon leurs revenues chez Trump')\n",
    "plt.savefig(\"Trump_revenu.png\")\n",
    "\n",
    "plt.show()"
   ]
  },
  {
   "cell_type": "markdown",
   "id": "129b6467",
   "metadata": {},
   "source": [
    "### 2-2 Pour Clinton"
   ]
  },
  {
   "cell_type": "code",
   "execution_count": 27,
   "id": "4281e6d1",
   "metadata": {},
   "outputs": [
    {
     "data": {
      "text/plain": [
       "[123245274, 29178886, 41404842, 13157617, 6277519]"
      ]
     },
     "execution_count": 27,
     "metadata": {},
     "output_type": "execute_result"
    }
   ],
   "source": [
    "#Population ethnique\n",
    "\n",
    "#On calcule les proportions des communautés\n",
    "\n",
    "\n",
    "\n",
    "#on va créer un fonction pour faire des proportions\n",
    "pop_clinton = list(clinton.POP10)\n",
    "\n",
    "#population blanche\n",
    "prop_blanche = list(clinton.WHITEp/100)\n",
    "pop_blanche = list()\n",
    "for i in range(270):\n",
    "    pop_blanche.append(round(pop_clinton[i]*prop_blanche[i]))\n",
    "    \n",
    "#population noire\n",
    "prop_noir = list(clinton.BLACKp/100)\n",
    "pop_noir = list()\n",
    "for i in range(270):\n",
    "    pop_noir.append(round(pop_clinton[i]*prop_noir[i]))\n",
    "\n",
    "# population hispanique\n",
    "prop_hispa = list(clinton.HISPAp/100)\n",
    "pop_hispa = list()\n",
    "for i in range(270):\n",
    "    pop_hispa.append(round(pop_clinton[i]*prop_hispa[i]))\n",
    "\n",
    "#population asiatique\n",
    "prop_asia = list(clinton.ASIANp/100)\n",
    "pop_asia = list()\n",
    "for i in range(270):\n",
    "    pop_asia.append(round(pop_clinton[i]*prop_asia[i]))\n",
    "\n",
    "# population autres\n",
    "prop_other = list(clinton.OTHERp/100)\n",
    "pop_other = list()\n",
    "for i in range(270):\n",
    "    pop_other.append(round(pop_clinton[i]*prop_other[i]))\n",
    "\n",
    "    \n",
    "    \n",
    "clinton_etno = [sum(pop_blanche),sum(pop_noir),sum(pop_hispa),sum(pop_asia),sum(pop_other)]    \n",
    "clinton_etno  "
   ]
  },
  {
   "cell_type": "code",
   "execution_count": 28,
   "id": "b4aebc53",
   "metadata": {},
   "outputs": [
    {
     "data": {
      "image/png": "[encoded data removed]",
      "text/plain": [
       "<Figure size 720x432 with 1 Axes>"
      ]
     },
     "metadata": {},
     "output_type": "display_data"
    }
   ],
   "source": [
    "plt.figure(figsize=(10,6))\n",
    "\n",
    "#Digramme circulaire\n",
    "plt.pie(clinton_etno,labels = [\"blanche\",\"noire\",\"hispanique\",\"asiatique\",\"autres\"], autopct = '%.2f%%')\n",
    "plt.title('Proportion de population selon leurs appartenances éthniques dans les communes de Clinton')\n",
    "plt.savefig(\"Clinton_etnique.png\")\n",
    "\n",
    "plt.show()"
   ]
  },
  {
   "cell_type": "code",
   "execution_count": 29,
   "id": "8f0fdf70",
   "metadata": {},
   "outputs": [
    {
     "data": {
      "text/plain": [
       "[51646310, 21354619, 58817732, 55649571, 25796742]"
      ]
     },
     "execution_count": 29,
     "metadata": {},
     "output_type": "execute_result"
    }
   ],
   "source": [
    "#On calcule les proportions des tranches d'âges\n",
    "\n",
    "#on va créer un fonction pour faire des proportions\n",
    "pop_clinton = list(clinton.POP10)\n",
    "\n",
    "#population mineur(moins de 18 ans)\n",
    "prop_m18 = list(clinton.UNDER18p/100)\n",
    "pop_m18 = list()\n",
    "for i in range(270):\n",
    "    pop_m18.append(round(pop_clinton[i]*prop_m18[i]))\n",
    "    \n",
    "#population de jeunes d'entre 18 et 25 ans\n",
    "prop_d18a25 = list(clinton.F18TO24p/100)\n",
    "pop_d18a25 = list()\n",
    "for i in range(270):\n",
    "    pop_d18a25.append(round(pop_clinton[i]*prop_d18a25[i]))\n",
    "\n",
    "# population de personnes d'entre 25 et 44 ans\n",
    "prop_d25a44 = list(clinton.F25TO44p/100)\n",
    "pop_d25a44 = list()\n",
    "for i in range(270):\n",
    "    pop_d25a44.append(round(pop_clinton[i]*prop_d25a44[i]))\n",
    "\n",
    "#population de personnes d'entre 45 et 64 ans\n",
    "prop_de45a64 = list(clinton.F45TO64p/100)\n",
    "pop_de45a64 = list()\n",
    "for i in range(270):\n",
    "    pop_de45a64.append(round(pop_clinton[i]*prop_de45a64[i]))\n",
    "\n",
    "# population de personne de plus de 64 ans\n",
    "prop_p65 = list(clinton.MORE65p/100)\n",
    "pop_p65 = list()\n",
    "for i in range(270):\n",
    "    pop_p65.append(round(pop_clinton[i]*prop_p65[i]))\n",
    "\n",
    "    \n",
    "    \n",
    "clinton_age = [sum(pop_m18),sum(pop_d18a25),sum(pop_d25a44),sum(pop_de45a64),sum(pop_p65)]    \n",
    "clinton_age"
   ]
  },
  {
   "cell_type": "code",
   "execution_count": 30,
   "id": "22e337b0",
   "metadata": {},
   "outputs": [
    {
     "data": {
      "image/png": "[encoded data removed]",
      "text/plain": [
       "<Figure size 720x432 with 1 Axes>"
      ]
     },
     "metadata": {},
     "output_type": "display_data"
    }
   ],
   "source": [
    "plt.figure(figsize=(10,6))\n",
    "\n",
    "#Digramme circulaire\n",
    "plt.pie(clinton_age,labels = [\"-18ans\",\"18-24ans\",\"25-44ans\",\"45-64ans\",\"+64ans\"], autopct = '%.2f%%')\n",
    "plt.title('Proportion de population selon leurs tranches d\\'âge pour Clinton')\n",
    "plt.savefig(\"Clinton_age.png\")\n",
    "\n",
    "plt.show()"
   ]
  },
  {
   "cell_type": "code",
   "execution_count": 31,
   "id": "f6e4d229",
   "metadata": {},
   "outputs": [
    {
     "data": {
      "text/plain": [
       "[13221085, 71372390, 60872406, 67801081]"
      ]
     },
     "execution_count": 31,
     "metadata": {},
     "output_type": "execute_result"
    }
   ],
   "source": [
    "#On calcule les proportions des tranches d'âges\n",
    "\n",
    "#on va créer un fonction pour faire des proportions\n",
    "pop_clinton = list(clinton.POP10)\n",
    "\n",
    "#population non diplômé\n",
    "prop_nodiplome = list(clinton.NODIPLOMp/100)\n",
    "pop_nodiplome = list()\n",
    "for i in range(270):\n",
    "    pop_nodiplome.append(round(pop_clinton[i]*prop_nodiplome[i]))\n",
    "    \n",
    "#population de niveau lycée\n",
    "prop_lycee = list(clinton.F9TO12THp/100)\n",
    "pop_lycee = list()\n",
    "for i in range(270):\n",
    "    pop_lycee.append(round(pop_clinton[i]*prop_lycee[i]))\n",
    "\n",
    "# population de baccalauréat\n",
    "prop_bac = list(clinton.UNDERGRADp/100)\n",
    "pop_bac = list()\n",
    "for i in range(270):\n",
    "    pop_bac.append(round(pop_clinton[i]*prop_bac[i]))\n",
    "\n",
    "#population de diplômé dans le supérieur\n",
    "prop_univ = list(clinton.GRADUATEp/100)\n",
    "pop_univ = list()\n",
    "for i in range(270):\n",
    "    pop_univ.append(round(pop_clinton[i]*prop_univ[i]))\n",
    "\n",
    "    \n",
    "clinton_scolaire = [sum(pop_nodiplome),sum(pop_lycee),sum(pop_bac),sum(pop_univ)]    \n",
    "clinton_scolaire"
   ]
  },
  {
   "cell_type": "code",
   "execution_count": 32,
   "id": "cb5aeaf7",
   "metadata": {},
   "outputs": [
    {
     "data": {
      "image/png": "[encoded data removed]",
      "text/plain": [
       "<Figure size 720x432 with 1 Axes>"
      ]
     },
     "metadata": {},
     "output_type": "display_data"
    }
   ],
   "source": [
    "plt.figure(figsize=(10,6))\n",
    "\n",
    "#Digramme circulaire\n",
    "plt.pie(clinton_scolaire,labels = [\"no diplômé\",\"lycée\",\"baccalauréat\",\"université\"], autopct = '%.2f%%')\n",
    "plt.title('Proportion de population selon leurs parcours scolaires chez Clinton')\n",
    "plt.savefig(\"Clinton_scolaire.png\")\n",
    "\n",
    "plt.show()"
   ]
  },
  {
   "cell_type": "code",
   "execution_count": 33,
   "id": "a673ebeb",
   "metadata": {},
   "outputs": [
    {
     "data": {
      "text/plain": [
       "[35138963, 40389273, 34833722, 48054940, 54847225]"
      ]
     },
     "execution_count": 33,
     "metadata": {},
     "output_type": "execute_result"
    }
   ],
   "source": [
    "#On calcule les proportions des tranches d'âges\n",
    "\n",
    "#on va créer un fonction pour faire des proportions\n",
    "pop_clinton = list(clinton.POP10)\n",
    "\n",
    "#population ayant un revenu de moins de 20000$\n",
    "prop_m20d = list(clinton.F0TO20p/100)\n",
    "pop_m20d = list()\n",
    "for i in range(270):\n",
    "    pop_m20d.append(round(pop_clinton[i]*prop_m20d[i]))\n",
    "    \n",
    "#population ayant un revenu d'entre 20000 et 40000$\n",
    "prop_m2040d = list(clinton.F20TO40p/100)\n",
    "pop_m2040d = list()\n",
    "for i in range(270):\n",
    "    pop_m2040d.append(round(pop_clinton[i]*prop_m2040d[i]))\n",
    "\n",
    "#population ayant un revenu d'entre 40000 et 60000$ \n",
    "prop_m4060d = list(clinton.F40TO60p/100)\n",
    "pop_m4060d = list()\n",
    "for i in range(270):\n",
    "    pop_m4060d.append(round(pop_clinton[i]*prop_m4060d[i]))\n",
    "\n",
    "#population ayant un revenu d'entre 60000 et 80000$ \n",
    "prop_m6080d = list(clinton.F60TO80p/100)\n",
    "pop_m6080d = list()\n",
    "for i in range(270):\n",
    "    pop_m6080d.append(round(pop_clinton[i]*prop_m6080d[i]))\n",
    "    \n",
    "#population ayant un revenu de plus de 80000$\n",
    "prop_p80d = list(clinton.F80TO100p/100)\n",
    "pop_p80d = list()\n",
    "for i in range(270):\n",
    "    pop_p80d.append(round(pop_clinton[i]*prop_p80d[i])) \n",
    "    \n",
    "    \n",
    "clinton_revenu = [sum(pop_m20d),sum(pop_m2040d),sum(pop_m4060d),sum(pop_m6080d),sum(pop_p80d)]    \n",
    "clinton_revenu"
   ]
  },
  {
   "cell_type": "code",
   "execution_count": 34,
   "id": "e6f0d098",
   "metadata": {},
   "outputs": [
    {
     "data": {
      "image/png": "[encoded data removed]",
      "text/plain": [
       "<Figure size 720x432 with 1 Axes>"
      ]
     },
     "metadata": {},
     "output_type": "display_data"
    }
   ],
   "source": [
    "plt.figure(figsize=(10,6))\n",
    "\n",
    "#Digramme circulaire\n",
    "plt.pie(clinton_revenu,labels = [\"-20 000$\",\"20-40000$\",\"40-60000$\",\"60-80000$\",\"+80 000$\"], autopct = '%.2f%%')\n",
    "plt.title('Proportion de population selon leurs revenues chez Clinton')\n",
    "plt.savefig(\"Clinton_revenu.png\")\n",
    "\n",
    "plt.show()"
   ]
  },
  {
   "cell_type": "code",
   "execution_count": 35,
   "id": "64049898",
   "metadata": {},
   "outputs": [
    {
     "ename": "NameError",
     "evalue": "name 'n_e' is not defined",
     "output_type": "error",
     "traceback": [
      "\u001b[1;31m---------------------------------------------------------------------------\u001b[0m",
      "\u001b[1;31mNameError\u001b[0m                                 Traceback (most recent call last)",
      "\u001b[1;32m~\\AppData\\Local\\Temp/ipykernel_9492/2530332876.py\u001b[0m in \u001b[0;36m<module>\u001b[1;34m\u001b[0m\n\u001b[0;32m      2\u001b[0m \u001b[1;33m\u001b[0m\u001b[0m\n\u001b[0;32m      3\u001b[0m \u001b[1;31m#on va créer un fonction pour faire des proportions\u001b[0m\u001b[1;33m\u001b[0m\u001b[1;33m\u001b[0m\u001b[0m\n\u001b[1;32m----> 4\u001b[1;33m \u001b[0mpop_ne\u001b[0m \u001b[1;33m=\u001b[0m \u001b[0mlist\u001b[0m\u001b[1;33m(\u001b[0m\u001b[0mn_e\u001b[0m\u001b[1;33m.\u001b[0m\u001b[0mPOP10\u001b[0m\u001b[1;33m)\u001b[0m\u001b[1;33m\u001b[0m\u001b[1;33m\u001b[0m\u001b[0m\n\u001b[0m\u001b[0;32m      5\u001b[0m \u001b[1;33m\u001b[0m\u001b[0m\n\u001b[0;32m      6\u001b[0m \u001b[1;31m#population ayant un revenu de moins de 20000$\u001b[0m\u001b[1;33m\u001b[0m\u001b[1;33m\u001b[0m\u001b[0m\n",
      "\u001b[1;31mNameError\u001b[0m: name 'n_e' is not defined"
     ]
    }
   ],
   "source": [
    "#On calcule les proportions des tranches d'âges\n",
    "\n",
    "#on va créer un fonction pour faire des proportions\n",
    "pop_ne = list(n_e.POP10)\n",
    "\n",
    "#population ayant un revenu de moins de 20000$\n",
    "prop_m20d = list(n_e.F0TO20p/100)\n",
    "pop_m20d = list()\n",
    "for i in range(372):\n",
    "    pop_m20d.append(round(pop_ne[i]*prop_m20d[i]))\n",
    "    \n",
    "#population ayant un revenu d'entre 20000 et 40000$\n",
    "prop_m2040d = list(n_e.F20TO40p/100)\n",
    "pop_m2040d = list()\n",
    "for i in range(372):\n",
    "    pop_m2040d.append(round(pop_ne[i]*prop_m2040d[i]))\n",
    "\n",
    "#population ayant un revenu d'entre 40000 et 60000$ \n",
    "prop_m4060d = list(n_e.F40TO60p/100)\n",
    "pop_m4060d = list()\n",
    "for i in range(372):\n",
    "    pop_m4060d.append(round(pop_ne[i]*prop_m4060d[i]))\n",
    "\n",
    "#population ayant un revenu d'entre 60000 et 80000$ \n",
    "prop_m6080d = list(n_e.F60TO80p/100)\n",
    "pop_m6080d = list()\n",
    "for i in range(372):\n",
    "    pop_m6080d.append(round(pop_ne[i]*prop_m6080d[i]))\n",
    "    \n",
    "#population ayant un revenu de plus de 80000$\n",
    "prop_p80d = list(n_e.F80TO100p/100)\n",
    "pop_p80d = list()\n",
    "for i in range(372):\n",
    "    pop_p80d.append(round(pop_ne[i]*prop_p80d[i])) \n",
    "    \n",
    "    \n",
    "ne_revenu = [sum(pop_m20d),sum(pop_m2040d),sum(pop_m4060d),sum(pop_m6080d),sum(pop_p80d)]    \n",
    "ne_revenu"
   ]
  },
  {
   "cell_type": "markdown",
   "id": "49a40964",
   "metadata": {},
   "source": [
    "# 4- Résumer et comparaisons\n"
   ]
  },
  {
   "cell_type": "code",
   "execution_count": 36,
   "id": "4eea11f5",
   "metadata": {},
   "outputs": [
    {
     "data": {
      "text/html": [
       "<div>\n",
       "<style scoped>\n",
       "    .dataframe tbody tr th:only-of-type {\n",
       "        vertical-align: middle;\n",
       "    }\n",
       "\n",
       "    .dataframe tbody tr th {\n",
       "        vertical-align: top;\n",
       "    }\n",
       "\n",
       "    .dataframe thead th {\n",
       "        text-align: right;\n",
       "    }\n",
       "</style>\n",
       "<table border=\"1\" class=\"dataframe\">\n",
       "  <thead>\n",
       "    <tr style=\"text-align: right;\">\n",
       "      <th></th>\n",
       "      <th>cbssa</th>\n",
       "      <th>name</th>\n",
       "      <th>state</th>\n",
       "      <th>NameState</th>\n",
       "      <th>PartUSA</th>\n",
       "      <th>Political</th>\n",
       "      <th>Candidat</th>\n",
       "      <th>BorderSea</th>\n",
       "      <th>Anglais_Off</th>\n",
       "      <th>POP10</th>\n",
       "      <th>...</th>\n",
       "      <th>MORE65p</th>\n",
       "      <th>NODIPLOMp</th>\n",
       "      <th>F9TO12THp</th>\n",
       "      <th>UNDERGRADp</th>\n",
       "      <th>GRADUATEp</th>\n",
       "      <th>F0TO20p</th>\n",
       "      <th>F20TO40p</th>\n",
       "      <th>F40TO60p</th>\n",
       "      <th>F60TO80p</th>\n",
       "      <th>F80TO100p</th>\n",
       "    </tr>\n",
       "  </thead>\n",
       "  <tbody>\n",
       "    <tr>\n",
       "      <th>0</th>\n",
       "      <td>10100</td>\n",
       "      <td>Aberdeen</td>\n",
       "      <td>SD</td>\n",
       "      <td>South Dakota</td>\n",
       "      <td>North-West</td>\n",
       "      <td>Republicain</td>\n",
       "      <td>Trump</td>\n",
       "      <td>No</td>\n",
       "      <td>Yes</td>\n",
       "      <td>40602</td>\n",
       "      <td>...</td>\n",
       "      <td>16.64</td>\n",
       "      <td>4.88</td>\n",
       "      <td>37.82</td>\n",
       "      <td>31.41</td>\n",
       "      <td>25.89</td>\n",
       "      <td>18.21</td>\n",
       "      <td>22.36</td>\n",
       "      <td>20.66</td>\n",
       "      <td>24.30</td>\n",
       "      <td>14.47</td>\n",
       "    </tr>\n",
       "    <tr>\n",
       "      <th>1</th>\n",
       "      <td>10140</td>\n",
       "      <td>Aberdeen</td>\n",
       "      <td>WA</td>\n",
       "      <td>Washington</td>\n",
       "      <td>North-East</td>\n",
       "      <td>Republicain</td>\n",
       "      <td>Trump</td>\n",
       "      <td>Yes</td>\n",
       "      <td>No</td>\n",
       "      <td>72797</td>\n",
       "      <td>...</td>\n",
       "      <td>16.28</td>\n",
       "      <td>5.72</td>\n",
       "      <td>40.47</td>\n",
       "      <td>39.44</td>\n",
       "      <td>14.37</td>\n",
       "      <td>20.49</td>\n",
       "      <td>26.35</td>\n",
       "      <td>19.84</td>\n",
       "      <td>21.07</td>\n",
       "      <td>12.25</td>\n",
       "    </tr>\n",
       "    <tr>\n",
       "      <th>2</th>\n",
       "      <td>10180</td>\n",
       "      <td>Abilene</td>\n",
       "      <td>TX</td>\n",
       "      <td>Texas</td>\n",
       "      <td>South-West</td>\n",
       "      <td>Republicain</td>\n",
       "      <td>Trump</td>\n",
       "      <td>No</td>\n",
       "      <td>No</td>\n",
       "      <td>165252</td>\n",
       "      <td>...</td>\n",
       "      <td>13.67</td>\n",
       "      <td>6.87</td>\n",
       "      <td>39.66</td>\n",
       "      <td>31.93</td>\n",
       "      <td>21.55</td>\n",
       "      <td>20.64</td>\n",
       "      <td>25.17</td>\n",
       "      <td>19.09</td>\n",
       "      <td>20.50</td>\n",
       "      <td>14.60</td>\n",
       "    </tr>\n",
       "    <tr>\n",
       "      <th>3</th>\n",
       "      <td>10220</td>\n",
       "      <td>Ada</td>\n",
       "      <td>OK</td>\n",
       "      <td>Oklahoma</td>\n",
       "      <td>South-West</td>\n",
       "      <td>Republicain</td>\n",
       "      <td>Trump</td>\n",
       "      <td>No</td>\n",
       "      <td>No</td>\n",
       "      <td>37492</td>\n",
       "      <td>...</td>\n",
       "      <td>14.86</td>\n",
       "      <td>5.09</td>\n",
       "      <td>40.23</td>\n",
       "      <td>28.16</td>\n",
       "      <td>26.52</td>\n",
       "      <td>24.44</td>\n",
       "      <td>24.76</td>\n",
       "      <td>18.53</td>\n",
       "      <td>20.73</td>\n",
       "      <td>11.55</td>\n",
       "    </tr>\n",
       "    <tr>\n",
       "      <th>4</th>\n",
       "      <td>10300</td>\n",
       "      <td>Adrian</td>\n",
       "      <td>MI</td>\n",
       "      <td>Michigan</td>\n",
       "      <td>North-East</td>\n",
       "      <td>Republicain</td>\n",
       "      <td>Trump</td>\n",
       "      <td>No</td>\n",
       "      <td>No</td>\n",
       "      <td>99892</td>\n",
       "      <td>...</td>\n",
       "      <td>14.60</td>\n",
       "      <td>3.71</td>\n",
       "      <td>43.81</td>\n",
       "      <td>33.05</td>\n",
       "      <td>19.42</td>\n",
       "      <td>18.21</td>\n",
       "      <td>23.81</td>\n",
       "      <td>19.03</td>\n",
       "      <td>24.78</td>\n",
       "      <td>14.17</td>\n",
       "    </tr>\n",
       "    <tr>\n",
       "      <th>...</th>\n",
       "      <td>...</td>\n",
       "      <td>...</td>\n",
       "      <td>...</td>\n",
       "      <td>...</td>\n",
       "      <td>...</td>\n",
       "      <td>...</td>\n",
       "      <td>...</td>\n",
       "      <td>...</td>\n",
       "      <td>...</td>\n",
       "      <td>...</td>\n",
       "      <td>...</td>\n",
       "      <td>...</td>\n",
       "      <td>...</td>\n",
       "      <td>...</td>\n",
       "      <td>...</td>\n",
       "      <td>...</td>\n",
       "      <td>...</td>\n",
       "      <td>...</td>\n",
       "      <td>...</td>\n",
       "      <td>...</td>\n",
       "      <td>...</td>\n",
       "    </tr>\n",
       "    <tr>\n",
       "      <th>912</th>\n",
       "      <td>49660</td>\n",
       "      <td>Youngstown-Warren-Boardman</td>\n",
       "      <td>OH</td>\n",
       "      <td>Ohio</td>\n",
       "      <td>North-East</td>\n",
       "      <td>Republicain</td>\n",
       "      <td>Trump</td>\n",
       "      <td>No</td>\n",
       "      <td>No</td>\n",
       "      <td>565773</td>\n",
       "      <td>...</td>\n",
       "      <td>17.83</td>\n",
       "      <td>3.41</td>\n",
       "      <td>51.53</td>\n",
       "      <td>26.03</td>\n",
       "      <td>19.04</td>\n",
       "      <td>22.83</td>\n",
       "      <td>24.82</td>\n",
       "      <td>18.80</td>\n",
       "      <td>21.42</td>\n",
       "      <td>12.13</td>\n",
       "    </tr>\n",
       "    <tr>\n",
       "      <th>913</th>\n",
       "      <td>49700</td>\n",
       "      <td>Yuba City</td>\n",
       "      <td>CA</td>\n",
       "      <td>California</td>\n",
       "      <td>South-West</td>\n",
       "      <td>Republicain</td>\n",
       "      <td>Trump</td>\n",
       "      <td>No</td>\n",
       "      <td>Yes</td>\n",
       "      <td>166892</td>\n",
       "      <td>...</td>\n",
       "      <td>11.53</td>\n",
       "      <td>10.68</td>\n",
       "      <td>35.06</td>\n",
       "      <td>37.87</td>\n",
       "      <td>16.39</td>\n",
       "      <td>18.25</td>\n",
       "      <td>22.52</td>\n",
       "      <td>19.22</td>\n",
       "      <td>23.02</td>\n",
       "      <td>16.99</td>\n",
       "    </tr>\n",
       "    <tr>\n",
       "      <th>914</th>\n",
       "      <td>49740</td>\n",
       "      <td>Yuma</td>\n",
       "      <td>AZ</td>\n",
       "      <td>Arizona</td>\n",
       "      <td>South-West</td>\n",
       "      <td>Republicain</td>\n",
       "      <td>Trump</td>\n",
       "      <td>No</td>\n",
       "      <td>Yes</td>\n",
       "      <td>195751</td>\n",
       "      <td>...</td>\n",
       "      <td>15.66</td>\n",
       "      <td>15.04</td>\n",
       "      <td>38.52</td>\n",
       "      <td>32.28</td>\n",
       "      <td>14.15</td>\n",
       "      <td>21.11</td>\n",
       "      <td>27.54</td>\n",
       "      <td>19.47</td>\n",
       "      <td>20.98</td>\n",
       "      <td>10.90</td>\n",
       "    </tr>\n",
       "    <tr>\n",
       "      <th>915</th>\n",
       "      <td>49780</td>\n",
       "      <td>Zanesville</td>\n",
       "      <td>OH</td>\n",
       "      <td>Ohio</td>\n",
       "      <td>North-East</td>\n",
       "      <td>Republicain</td>\n",
       "      <td>Trump</td>\n",
       "      <td>No</td>\n",
       "      <td>No</td>\n",
       "      <td>86074</td>\n",
       "      <td>...</td>\n",
       "      <td>15.32</td>\n",
       "      <td>2.99</td>\n",
       "      <td>55.18</td>\n",
       "      <td>28.03</td>\n",
       "      <td>13.80</td>\n",
       "      <td>24.67</td>\n",
       "      <td>24.90</td>\n",
       "      <td>18.96</td>\n",
       "      <td>20.75</td>\n",
       "      <td>10.73</td>\n",
       "    </tr>\n",
       "    <tr>\n",
       "      <th>916</th>\n",
       "      <td>49820</td>\n",
       "      <td>Zapata</td>\n",
       "      <td>TX</td>\n",
       "      <td>Texas</td>\n",
       "      <td>South-West</td>\n",
       "      <td>Republicain</td>\n",
       "      <td>Trump</td>\n",
       "      <td>Yes</td>\n",
       "      <td>No</td>\n",
       "      <td>14018</td>\n",
       "      <td>...</td>\n",
       "      <td>10.42</td>\n",
       "      <td>31.10</td>\n",
       "      <td>41.56</td>\n",
       "      <td>18.86</td>\n",
       "      <td>8.49</td>\n",
       "      <td>34.77</td>\n",
       "      <td>25.57</td>\n",
       "      <td>11.38</td>\n",
       "      <td>12.88</td>\n",
       "      <td>15.40</td>\n",
       "    </tr>\n",
       "  </tbody>\n",
       "</table>\n",
       "<p>647 rows × 29 columns</p>\n",
       "</div>"
      ],
      "text/plain": [
       "     cbssa                        name state     NameState     PartUSA  \\\n",
       "0    10100                    Aberdeen    SD  South Dakota  North-West   \n",
       "1    10140                    Aberdeen    WA    Washington  North-East   \n",
       "2    10180                     Abilene    TX         Texas  South-West   \n",
       "3    10220                         Ada    OK      Oklahoma  South-West   \n",
       "4    10300                      Adrian    MI      Michigan  North-East   \n",
       "..     ...                         ...   ...           ...         ...   \n",
       "912  49660  Youngstown-Warren-Boardman    OH          Ohio  North-East   \n",
       "913  49700                   Yuba City    CA    California  South-West   \n",
       "914  49740                        Yuma    AZ       Arizona  South-West   \n",
       "915  49780                  Zanesville    OH          Ohio  North-East   \n",
       "916  49820                      Zapata    TX         Texas  South-West   \n",
       "\n",
       "       Political Candidat BorderSea Anglais_Off   POP10  ...  MORE65p  \\\n",
       "0    Republicain    Trump        No         Yes   40602  ...    16.64   \n",
       "1    Republicain    Trump       Yes          No   72797  ...    16.28   \n",
       "2    Republicain    Trump        No          No  165252  ...    13.67   \n",
       "3    Republicain    Trump        No          No   37492  ...    14.86   \n",
       "4    Republicain    Trump        No          No   99892  ...    14.60   \n",
       "..           ...      ...       ...         ...     ...  ...      ...   \n",
       "912  Republicain    Trump        No          No  565773  ...    17.83   \n",
       "913  Republicain    Trump        No         Yes  166892  ...    11.53   \n",
       "914  Republicain    Trump        No         Yes  195751  ...    15.66   \n",
       "915  Republicain    Trump        No          No   86074  ...    15.32   \n",
       "916  Republicain    Trump       Yes          No   14018  ...    10.42   \n",
       "\n",
       "     NODIPLOMp  F9TO12THp  UNDERGRADp  GRADUATEp  F0TO20p  F20TO40p  F40TO60p  \\\n",
       "0         4.88      37.82       31.41      25.89    18.21     22.36     20.66   \n",
       "1         5.72      40.47       39.44      14.37    20.49     26.35     19.84   \n",
       "2         6.87      39.66       31.93      21.55    20.64     25.17     19.09   \n",
       "3         5.09      40.23       28.16      26.52    24.44     24.76     18.53   \n",
       "4         3.71      43.81       33.05      19.42    18.21     23.81     19.03   \n",
       "..         ...        ...         ...        ...      ...       ...       ...   \n",
       "912       3.41      51.53       26.03      19.04    22.83     24.82     18.80   \n",
       "913      10.68      35.06       37.87      16.39    18.25     22.52     19.22   \n",
       "914      15.04      38.52       32.28      14.15    21.11     27.54     19.47   \n",
       "915       2.99      55.18       28.03      13.80    24.67     24.90     18.96   \n",
       "916      31.10      41.56       18.86       8.49    34.77     25.57     11.38   \n",
       "\n",
       "     F60TO80p  F80TO100p  \n",
       "0       24.30      14.47  \n",
       "1       21.07      12.25  \n",
       "2       20.50      14.60  \n",
       "3       20.73      11.55  \n",
       "4       24.78      14.17  \n",
       "..        ...        ...  \n",
       "912     21.42      12.13  \n",
       "913     23.02      16.99  \n",
       "914     20.98      10.90  \n",
       "915     20.75      10.73  \n",
       "916     12.88      15.40  \n",
       "\n",
       "[647 rows x 29 columns]"
      ]
     },
     "execution_count": 36,
     "metadata": {},
     "output_type": "execute_result"
    }
   ],
   "source": [
    "#Candidat Trump\n",
    "trump = usa[usa[\"Candidat\"] == 'Trump']\n",
    "\n",
    "trump"
   ]
  },
  {
   "cell_type": "code",
   "execution_count": 37,
   "id": "86ccd1f3",
   "metadata": {},
   "outputs": [
    {
     "data": {
      "text/plain": [
       "75060500"
      ]
     },
     "execution_count": 37,
     "metadata": {},
     "output_type": "execute_result"
    }
   ],
   "source": [
    "pop_trump = sum(trump.POP10)\n",
    "pop_trump"
   ]
  },
  {
   "cell_type": "code",
   "execution_count": 38,
   "id": "3593ea93",
   "metadata": {},
   "outputs": [
    {
     "data": {
      "text/plain": [
       "116013.13755795981"
      ]
     },
     "execution_count": 38,
     "metadata": {},
     "output_type": "execute_result"
    }
   ],
   "source": [
    "#Population moyenne\n",
    "pop_trump/647"
   ]
  },
  {
   "cell_type": "code",
   "execution_count": 39,
   "id": "2fc1b02c",
   "metadata": {},
   "outputs": [
    {
     "data": {
      "text/plain": [
       "116013.13755795981"
      ]
     },
     "execution_count": 39,
     "metadata": {},
     "output_type": "execute_result"
    }
   ],
   "source": [
    "np.mean(trump.POP10)"
   ]
  },
  {
   "cell_type": "code",
   "execution_count": 44,
   "id": "527bbaee",
   "metadata": {},
   "outputs": [
    {
     "data": {
      "text/plain": [
       "213265486"
      ]
     },
     "execution_count": 44,
     "metadata": {},
     "output_type": "execute_result"
    }
   ],
   "source": [
    "pop_clinton  = sum(clinton.POP10)\n",
    "pop_clinton"
   ]
  },
  {
   "cell_type": "code",
   "execution_count": 45,
   "id": "5ee61d7e",
   "metadata": {},
   "outputs": [
    {
     "data": {
      "text/plain": [
       "789872.1703703704"
      ]
     },
     "execution_count": 45,
     "metadata": {},
     "output_type": "execute_result"
    }
   ],
   "source": [
    "pop_clinton/270"
   ]
  },
  {
   "cell_type": "markdown",
   "id": "06babbda",
   "metadata": {},
   "source": [
    "### 5-2 Âge moyen"
   ]
  },
  {
   "cell_type": "code",
   "execution_count": 46,
   "id": "89048382",
   "metadata": {},
   "outputs": [],
   "source": [
    "age_classe = [9,21,34,54,75]"
   ]
  },
  {
   "cell_type": "markdown",
   "id": "3970126c",
   "metadata": {},
   "source": [
    "#### Äge moyen pour Trump"
   ]
  },
  {
   "cell_type": "code",
   "execution_count": 68,
   "id": "c9e02711",
   "metadata": {},
   "outputs": [
    {
     "data": {
      "text/plain": [
       "[0.23613824847955983,\n",
       " 0.10139339599389825,\n",
       " 0.24756709587599338,\n",
       " 0.2675236775667628,\n",
       " 0.14738028656883448]"
      ]
     },
     "execution_count": 68,
     "metadata": {},
     "output_type": "execute_result"
    }
   ],
   "source": [
    "age_trump = [17724655/pop_trump, 7610639/pop_trump, 18582510/pop_trump, 20080461/pop_trump, 11062438/pop_trump]\n",
    "\n",
    "age_trump "
   ]
  },
  {
   "cell_type": "code",
   "execution_count": 69,
   "id": "0692802f",
   "metadata": {},
   "outputs": [
    {
     "data": {
      "text/plain": [
       "38.2"
      ]
     },
     "execution_count": 69,
     "metadata": {},
     "output_type": "execute_result"
    }
   ],
   "source": [
    "\n",
    "s_t = 0\n",
    "for i in range(5):\n",
    "    s_t += age_classe[i]*(age_trump[i])\n",
    "    \n",
    "round(s_t,1)    "
   ]
  },
  {
   "cell_type": "code",
   "execution_count": 41,
   "id": "940428e8",
   "metadata": {},
   "outputs": [
    {
     "data": {
      "text/plain": [
       "Index(['cbssa', 'name', 'state', 'NameState', 'PartUSA', 'Political',\n",
       "       'Candidat', 'BorderSea', 'Anglais_Off', 'POP10', 'WHITEp', 'BLACKp',\n",
       "       'ASIANp', 'OTHERp', 'HISPAp', 'UNDER18p', 'F18TO24p', 'F25TO44p',\n",
       "       'F45TO64p', 'MORE65p', 'NODIPLOMp', 'F9TO12THp', 'UNDERGRADp',\n",
       "       'GRADUATEp', 'F0TO20p', 'F20TO40p', 'F40TO60p', 'F60TO80p',\n",
       "       'F80TO100p'],\n",
       "      dtype='object')"
      ]
     },
     "execution_count": 41,
     "metadata": {},
     "output_type": "execute_result"
    }
   ],
   "source": [
    "trump.columns"
   ]
  },
  {
   "cell_type": "markdown",
   "id": "141083e6",
   "metadata": {},
   "source": [
    "#### Âge moyen pour Cliton"
   ]
  },
  {
   "cell_type": "code",
   "execution_count": 70,
   "id": "c41f029c",
   "metadata": {},
   "outputs": [
    {
     "data": {
      "text/plain": [
       "[0.24216909622216132,\n",
       " 0.10013162186027606,\n",
       " 0.27579583130483665,\n",
       " 0.26094035206428107,\n",
       " 0.1209606977849196]"
      ]
     },
     "execution_count": 70,
     "metadata": {},
     "output_type": "execute_result"
    }
   ],
   "source": [
    "age_clinton = [51646310/pop_clinton, 21354619/pop_clinton, 58817732/pop_clinton, 55649571/pop_clinton, 25796742/pop_clinton]\n",
    "\n",
    "\n",
    "age_clinton"
   ]
  },
  {
   "cell_type": "code",
   "execution_count": 71,
   "id": "32c59aba",
   "metadata": {},
   "outputs": [
    {
     "data": {
      "text/plain": [
       "36.8"
      ]
     },
     "execution_count": 71,
     "metadata": {},
     "output_type": "execute_result"
    }
   ],
   "source": [
    "#age moyen clinton\n",
    "s_c = 0\n",
    "for i in range(5):\n",
    "    s_c += age_classe[i]*(age_clinton[i])\n",
    "    \n",
    "round(s_c,1)  "
   ]
  },
  {
   "cell_type": "markdown",
   "id": "81576cae",
   "metadata": {},
   "source": [
    "### 5_3 Revenu moyen"
   ]
  },
  {
   "cell_type": "code",
   "execution_count": 58,
   "id": "3b6445c2",
   "metadata": {},
   "outputs": [],
   "source": [
    "rev_classe = [10000,30000,50000,70000,90000]"
   ]
  },
  {
   "cell_type": "markdown",
   "id": "804d3329",
   "metadata": {},
   "source": [
    "#### Revenue moyen pour Trump"
   ]
  },
  {
   "cell_type": "code",
   "execution_count": 74,
   "id": "2cbe9853",
   "metadata": {},
   "outputs": [
    {
     "data": {
      "text/plain": [
       "[0.20359311488732423,\n",
       " 0.2330891347646232,\n",
       " 0.1834787671278502,\n",
       " 0.22135112342710214,\n",
       " 0.15849147021402735]"
      ]
     },
     "execution_count": 74,
     "metadata": {},
     "output_type": "execute_result"
    }
   ],
   "source": [
    "rev_trump = [15281801/pop_trump, 17495787/pop_trump, 13772008/pop_trump, 16614726/pop_trump, 11896449/pop_trump]\n",
    "\n",
    "\n",
    "rev_trump"
   ]
  },
  {
   "cell_type": "code",
   "execution_count": 75,
   "id": "cdcb8b80",
   "metadata": {},
   "outputs": [
    {
     "data": {
      "text/plain": [
       "47961.4"
      ]
     },
     "execution_count": 75,
     "metadata": {},
     "output_type": "execute_result"
    }
   ],
   "source": [
    "rc = 0\n",
    "\n",
    "for i in range(5):\n",
    "    rc += rev_classe[i]*(rev_trump[i])\n",
    "    \n",
    "round(rc,1) "
   ]
  },
  {
   "cell_type": "markdown",
   "id": "76c83d5c",
   "metadata": {},
   "source": [
    "#### Revenu moyen pour Clinton"
   ]
  },
  {
   "cell_type": "code",
   "execution_count": 72,
   "id": "d9c185b9",
   "metadata": {},
   "outputs": [
    {
     "data": {
      "text/plain": [
       "[0.16476629040669055,\n",
       " 0.18938494811110693,\n",
       " 0.1633350180253733,\n",
       " 0.22532919367928103,\n",
       " 0.25717815868246025]"
      ]
     },
     "execution_count": 72,
     "metadata": {},
     "output_type": "execute_result"
    }
   ],
   "source": [
    "\n",
    "\n",
    "rev_clinton = [35138963/pop_clinton, 40389273/pop_clinton, 34833722/pop_clinton, 48054940/pop_clinton, 54847225/pop_clinton]\n",
    "\n",
    "\n",
    "rev_clinton"
   ]
  },
  {
   "cell_type": "code",
   "execution_count": 73,
   "id": "9d165884",
   "metadata": {},
   "outputs": [
    {
     "data": {
      "text/plain": [
       "54415.0"
      ]
     },
     "execution_count": 73,
     "metadata": {},
     "output_type": "execute_result"
    }
   ],
   "source": [
    "rc = 0\n",
    "\n",
    "for i in range(5):\n",
    "    rc += rev_classe[i]*(rev_clinton[i])\n",
    "    \n",
    "round(rc,1) "
   ]
  },
  {
   "cell_type": "code",
   "execution_count": null,
   "id": "dea38cd3",
   "metadata": {},
   "outputs": [],
   "source": []
  }
 ],
 "metadata": {
  "kernelspec": {
   "display_name": "Python 3 (ipykernel)",
   "language": "python",
   "name": "python3"
  },
  "language_info": {
   "codemirror_mode": {
    "name": "ipython",
    "version": 3
   },
   "file_extension": ".py",
   "mimetype": "text/x-python",
   "name": "python",
   "nbconvert_exporter": "python",
   "pygments_lexer": "ipython3",
   "version": "3.9.7"
  }
 },
 "nbformat": 4,
 "nbformat_minor": 5
}

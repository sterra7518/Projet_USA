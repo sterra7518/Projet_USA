{
 "cells": [
  {
   "cell_type": "markdown",
   "id": "23e33639",
   "metadata": {},
   "source": [
    "## Ouverture du fichiers"
   ]
  },
  {
   "cell_type": "code",
   "execution_count": 9,
   "id": "ebb6cdf0",
   "metadata": {},
   "outputs": [],
   "source": [
    "#Importation des modules de Python \n",
    "\n",
    "import pandas as pd\n",
    "import numpy as np\n",
    "import matplotlib.pyplot as plt\n",
    "import seaborn as sns"
   ]
  },
  {
   "cell_type": "code",
   "execution_count": 10,
   "id": "a50632a0",
   "metadata": {},
   "outputs": [
    {
     "data": {
      "text/html": [
       "<div>\n",
       "<style scoped>\n",
       "    .dataframe tbody tr th:only-of-type {\n",
       "        vertical-align: middle;\n",
       "    }\n",
       "\n",
       "    .dataframe tbody tr th {\n",
       "        vertical-align: top;\n",
       "    }\n",
       "\n",
       "    .dataframe thead th {\n",
       "        text-align: right;\n",
       "    }\n",
       "</style>\n",
       "<table border=\"1\" class=\"dataframe\">\n",
       "  <thead>\n",
       "    <tr style=\"text-align: right;\">\n",
       "      <th></th>\n",
       "      <th>cbssa</th>\n",
       "      <th>name</th>\n",
       "      <th>state</th>\n",
       "      <th>NameState</th>\n",
       "      <th>PartUSA</th>\n",
       "      <th>Political</th>\n",
       "      <th>Candidat</th>\n",
       "      <th>BorderSea</th>\n",
       "      <th>Anglais_Off</th>\n",
       "      <th>population</th>\n",
       "      <th>...</th>\n",
       "      <th>+65ans</th>\n",
       "      <th>non-diplomés</th>\n",
       "      <th>lycée</th>\n",
       "      <th>bac</th>\n",
       "      <th>université</th>\n",
       "      <th>-20d</th>\n",
       "      <th>20_40d</th>\n",
       "      <th>40_60d</th>\n",
       "      <th>60_80d</th>\n",
       "      <th>+80d</th>\n",
       "    </tr>\n",
       "  </thead>\n",
       "  <tbody>\n",
       "    <tr>\n",
       "      <th>0</th>\n",
       "      <td>10100</td>\n",
       "      <td>Aberdeen</td>\n",
       "      <td>SD</td>\n",
       "      <td>South Dakota</td>\n",
       "      <td>North-West</td>\n",
       "      <td>Republicain</td>\n",
       "      <td>Trump</td>\n",
       "      <td>No</td>\n",
       "      <td>Yes</td>\n",
       "      <td>40602</td>\n",
       "      <td>...</td>\n",
       "      <td>16.64</td>\n",
       "      <td>4.88</td>\n",
       "      <td>37.82</td>\n",
       "      <td>31.41</td>\n",
       "      <td>25.89</td>\n",
       "      <td>18.21</td>\n",
       "      <td>22.36</td>\n",
       "      <td>20.66</td>\n",
       "      <td>24.30</td>\n",
       "      <td>14.47</td>\n",
       "    </tr>\n",
       "    <tr>\n",
       "      <th>1</th>\n",
       "      <td>10140</td>\n",
       "      <td>Aberdeen</td>\n",
       "      <td>WA</td>\n",
       "      <td>Washington</td>\n",
       "      <td>North-East</td>\n",
       "      <td>Republicain</td>\n",
       "      <td>Trump</td>\n",
       "      <td>Yes</td>\n",
       "      <td>No</td>\n",
       "      <td>72797</td>\n",
       "      <td>...</td>\n",
       "      <td>16.28</td>\n",
       "      <td>5.72</td>\n",
       "      <td>40.47</td>\n",
       "      <td>39.44</td>\n",
       "      <td>14.37</td>\n",
       "      <td>20.49</td>\n",
       "      <td>26.35</td>\n",
       "      <td>19.84</td>\n",
       "      <td>21.07</td>\n",
       "      <td>12.25</td>\n",
       "    </tr>\n",
       "    <tr>\n",
       "      <th>2</th>\n",
       "      <td>10180</td>\n",
       "      <td>Abilene</td>\n",
       "      <td>TX</td>\n",
       "      <td>Texas</td>\n",
       "      <td>South-West</td>\n",
       "      <td>Republicain</td>\n",
       "      <td>Trump</td>\n",
       "      <td>No</td>\n",
       "      <td>No</td>\n",
       "      <td>165252</td>\n",
       "      <td>...</td>\n",
       "      <td>13.67</td>\n",
       "      <td>6.87</td>\n",
       "      <td>39.66</td>\n",
       "      <td>31.93</td>\n",
       "      <td>21.55</td>\n",
       "      <td>20.64</td>\n",
       "      <td>25.17</td>\n",
       "      <td>19.09</td>\n",
       "      <td>20.50</td>\n",
       "      <td>14.60</td>\n",
       "    </tr>\n",
       "    <tr>\n",
       "      <th>3</th>\n",
       "      <td>10220</td>\n",
       "      <td>Ada</td>\n",
       "      <td>OK</td>\n",
       "      <td>Oklahoma</td>\n",
       "      <td>South-West</td>\n",
       "      <td>Republicain</td>\n",
       "      <td>Trump</td>\n",
       "      <td>No</td>\n",
       "      <td>No</td>\n",
       "      <td>37492</td>\n",
       "      <td>...</td>\n",
       "      <td>14.86</td>\n",
       "      <td>5.09</td>\n",
       "      <td>40.23</td>\n",
       "      <td>28.16</td>\n",
       "      <td>26.52</td>\n",
       "      <td>24.44</td>\n",
       "      <td>24.76</td>\n",
       "      <td>18.53</td>\n",
       "      <td>20.73</td>\n",
       "      <td>11.55</td>\n",
       "    </tr>\n",
       "    <tr>\n",
       "      <th>4</th>\n",
       "      <td>10300</td>\n",
       "      <td>Adrian</td>\n",
       "      <td>MI</td>\n",
       "      <td>Michigan</td>\n",
       "      <td>North-East</td>\n",
       "      <td>Republicain</td>\n",
       "      <td>Trump</td>\n",
       "      <td>No</td>\n",
       "      <td>No</td>\n",
       "      <td>99892</td>\n",
       "      <td>...</td>\n",
       "      <td>14.60</td>\n",
       "      <td>3.71</td>\n",
       "      <td>43.81</td>\n",
       "      <td>33.05</td>\n",
       "      <td>19.42</td>\n",
       "      <td>18.21</td>\n",
       "      <td>23.81</td>\n",
       "      <td>19.03</td>\n",
       "      <td>24.78</td>\n",
       "      <td>14.17</td>\n",
       "    </tr>\n",
       "    <tr>\n",
       "      <th>5</th>\n",
       "      <td>10420</td>\n",
       "      <td>Akron</td>\n",
       "      <td>OH</td>\n",
       "      <td>Ohio</td>\n",
       "      <td>North-East</td>\n",
       "      <td>Democrate</td>\n",
       "      <td>Clinton</td>\n",
       "      <td>No</td>\n",
       "      <td>No</td>\n",
       "      <td>703200</td>\n",
       "      <td>...</td>\n",
       "      <td>14.19</td>\n",
       "      <td>2.40</td>\n",
       "      <td>41.01</td>\n",
       "      <td>28.23</td>\n",
       "      <td>28.35</td>\n",
       "      <td>19.44</td>\n",
       "      <td>20.94</td>\n",
       "      <td>18.41</td>\n",
       "      <td>22.62</td>\n",
       "      <td>18.58</td>\n",
       "    </tr>\n",
       "    <tr>\n",
       "      <th>6</th>\n",
       "      <td>10460</td>\n",
       "      <td>Alamogordo</td>\n",
       "      <td>NM</td>\n",
       "      <td>New Mexico</td>\n",
       "      <td>South-West</td>\n",
       "      <td>Republicain</td>\n",
       "      <td>Trump</td>\n",
       "      <td>No</td>\n",
       "      <td>No</td>\n",
       "      <td>63797</td>\n",
       "      <td>...</td>\n",
       "      <td>14.97</td>\n",
       "      <td>7.64</td>\n",
       "      <td>36.30</td>\n",
       "      <td>38.59</td>\n",
       "      <td>17.47</td>\n",
       "      <td>24.72</td>\n",
       "      <td>26.37</td>\n",
       "      <td>19.51</td>\n",
       "      <td>19.12</td>\n",
       "      <td>10.28</td>\n",
       "    </tr>\n",
       "    <tr>\n",
       "      <th>7</th>\n",
       "      <td>10500</td>\n",
       "      <td>Albany</td>\n",
       "      <td>GA</td>\n",
       "      <td>Georgia</td>\n",
       "      <td>South-East</td>\n",
       "      <td>Democrate</td>\n",
       "      <td>Clinton</td>\n",
       "      <td>No</td>\n",
       "      <td>Yes</td>\n",
       "      <td>157308</td>\n",
       "      <td>...</td>\n",
       "      <td>11.99</td>\n",
       "      <td>6.32</td>\n",
       "      <td>46.68</td>\n",
       "      <td>30.91</td>\n",
       "      <td>16.09</td>\n",
       "      <td>29.28</td>\n",
       "      <td>24.08</td>\n",
       "      <td>16.34</td>\n",
       "      <td>18.18</td>\n",
       "      <td>12.11</td>\n",
       "    </tr>\n",
       "    <tr>\n",
       "      <th>8</th>\n",
       "      <td>10540</td>\n",
       "      <td>Albany</td>\n",
       "      <td>OR</td>\n",
       "      <td>Oregon</td>\n",
       "      <td>North-West</td>\n",
       "      <td>Republicain</td>\n",
       "      <td>Trump</td>\n",
       "      <td>No</td>\n",
       "      <td>No</td>\n",
       "      <td>116672</td>\n",
       "      <td>...</td>\n",
       "      <td>15.42</td>\n",
       "      <td>3.31</td>\n",
       "      <td>40.64</td>\n",
       "      <td>39.90</td>\n",
       "      <td>16.15</td>\n",
       "      <td>19.64</td>\n",
       "      <td>22.61</td>\n",
       "      <td>21.00</td>\n",
       "      <td>24.04</td>\n",
       "      <td>12.70</td>\n",
       "    </tr>\n",
       "    <tr>\n",
       "      <th>9</th>\n",
       "      <td>10580</td>\n",
       "      <td>Albany-Schenectady-Troy</td>\n",
       "      <td>NY</td>\n",
       "      <td>New-York</td>\n",
       "      <td>North-East</td>\n",
       "      <td>Republicain</td>\n",
       "      <td>Trump</td>\n",
       "      <td>No</td>\n",
       "      <td>No</td>\n",
       "      <td>870716</td>\n",
       "      <td>...</td>\n",
       "      <td>14.04</td>\n",
       "      <td>2.74</td>\n",
       "      <td>34.33</td>\n",
       "      <td>29.35</td>\n",
       "      <td>33.57</td>\n",
       "      <td>14.89</td>\n",
       "      <td>17.97</td>\n",
       "      <td>16.49</td>\n",
       "      <td>24.91</td>\n",
       "      <td>25.74</td>\n",
       "    </tr>\n",
       "  </tbody>\n",
       "</table>\n",
       "<p>10 rows × 29 columns</p>\n",
       "</div>"
      ],
      "text/plain": [
       "   cbssa                     name state     NameState     PartUSA  \\\n",
       "0  10100                 Aberdeen    SD  South Dakota  North-West   \n",
       "1  10140                 Aberdeen    WA    Washington  North-East   \n",
       "2  10180                  Abilene    TX         Texas  South-West   \n",
       "3  10220                      Ada    OK      Oklahoma  South-West   \n",
       "4  10300                   Adrian    MI      Michigan  North-East   \n",
       "5  10420                    Akron    OH          Ohio  North-East   \n",
       "6  10460               Alamogordo    NM    New Mexico  South-West   \n",
       "7  10500                   Albany    GA       Georgia  South-East   \n",
       "8  10540                   Albany    OR        Oregon  North-West   \n",
       "9  10580  Albany-Schenectady-Troy    NY      New-York  North-East   \n",
       "\n",
       "     Political Candidat BorderSea Anglais_Off  population  ...  +65ans  \\\n",
       "0  Republicain    Trump        No         Yes       40602  ...   16.64   \n",
       "1  Republicain    Trump       Yes          No       72797  ...   16.28   \n",
       "2  Republicain    Trump        No          No      165252  ...   13.67   \n",
       "3  Republicain    Trump        No          No       37492  ...   14.86   \n",
       "4  Republicain    Trump        No          No       99892  ...   14.60   \n",
       "5    Democrate  Clinton        No          No      703200  ...   14.19   \n",
       "6  Republicain    Trump        No          No       63797  ...   14.97   \n",
       "7    Democrate  Clinton        No         Yes      157308  ...   11.99   \n",
       "8  Republicain    Trump        No          No      116672  ...   15.42   \n",
       "9  Republicain    Trump        No          No      870716  ...   14.04   \n",
       "\n",
       "   non-diplomés  lycée    bac  université   -20d  20_40d  40_60d  60_80d  \\\n",
       "0          4.88  37.82  31.41       25.89  18.21   22.36   20.66   24.30   \n",
       "1          5.72  40.47  39.44       14.37  20.49   26.35   19.84   21.07   \n",
       "2          6.87  39.66  31.93       21.55  20.64   25.17   19.09   20.50   \n",
       "3          5.09  40.23  28.16       26.52  24.44   24.76   18.53   20.73   \n",
       "4          3.71  43.81  33.05       19.42  18.21   23.81   19.03   24.78   \n",
       "5          2.40  41.01  28.23       28.35  19.44   20.94   18.41   22.62   \n",
       "6          7.64  36.30  38.59       17.47  24.72   26.37   19.51   19.12   \n",
       "7          6.32  46.68  30.91       16.09  29.28   24.08   16.34   18.18   \n",
       "8          3.31  40.64  39.90       16.15  19.64   22.61   21.00   24.04   \n",
       "9          2.74  34.33  29.35       33.57  14.89   17.97   16.49   24.91   \n",
       "\n",
       "    +80d  \n",
       "0  14.47  \n",
       "1  12.25  \n",
       "2  14.60  \n",
       "3  11.55  \n",
       "4  14.17  \n",
       "5  18.58  \n",
       "6  10.28  \n",
       "7  12.11  \n",
       "8  12.70  \n",
       "9  25.74  \n",
       "\n",
       "[10 rows x 29 columns]"
      ]
     },
     "execution_count": 10,
     "metadata": {},
     "output_type": "execute_result"
    }
   ],
   "source": [
    "#Ouverture de notre jeux de données principale\n",
    "usa =  pd.read_csv('usa2.csv', sep=',', encoding='ISO-8859-1')\n",
    "\n",
    "#Suppresion de la 1er colonne suivante dérengeante\n",
    "usa = usa.drop(['Unnamed: 0'],axis=1)\n",
    "\n",
    "#Renommage des colonnes\n",
    "usa = usa.rename(columns = {'POP10':'population',\n",
    "                             'WHITEp':'pop_blanche',\n",
    "                             'BLACKp':'pop_noir',\n",
    "                             'HISPAp':'pop_hispanique',\n",
    "                             'ASIANp':'pop_asiatique',\n",
    "                             'OTHERp' :'pop_autres',\n",
    "                             'UNDER18p': '-18ans',\n",
    "                             'F18TO24p':'18_24ans',\n",
    "                             'F25TO44p':'25_44ans',\n",
    "                             'F45TO64p':'45_64ans',\n",
    "                             'MORE65p':'+65ans',\n",
    "                             'NODIPLOMp':'non-diplomés',\n",
    "                             'F9TO12THp' : 'lycée',\n",
    "                             'UNDERGRADp':'bac',\n",
    "                             'GRADUATEp':'université',\n",
    "                             'F0TO20p':'-20d',\n",
    "                             'F20TO40p':'20_40d',\n",
    "                             'F40TO60p':'40_60d',\n",
    "                             'F60TO80p' : '60_80d',\n",
    "                             'F80TO100p' : '+80d'})\n",
    "\n",
    "usa.head(10)"
   ]
  },
  {
   "cell_type": "markdown",
   "id": "7ae1af3b",
   "metadata": {},
   "source": [
    "## Choix des variables\n",
    "\n",
    "\n",
    "#### Régions du pays (groupes d'Etats)"
   ]
  },
  {
   "cell_type": "code",
   "execution_count": 11,
   "id": "11bbc97e",
   "metadata": {},
   "outputs": [],
   "source": [
    "#On choisit deux variables à analyser \n",
    "\n",
    "NE = usa[usa['PartUSA'] == 'North-East']\n",
    "NO = usa[usa['PartUSA'] == 'North-West']\n",
    "SO = usa[usa['PartUSA'] == 'South-West']\n",
    "SE = usa[usa['PartUSA'] == 'South-East']\n",
    "O = usa[usa['PartUSA'] == 'OTHER']"
   ]
  },
  {
   "cell_type": "code",
   "execution_count": 12,
   "id": "f048ff45",
   "metadata": {},
   "outputs": [
    {
     "data": {
      "text/plain": [
       "North-East    372\n",
       "South-East    224\n",
       "South-West    210\n",
       "North-West    103\n",
       "OTHER           8\n",
       "Name: PartUSA, dtype: int64"
      ]
     },
     "execution_count": 12,
     "metadata": {},
     "output_type": "execute_result"
    }
   ],
   "source": [
    "usa['PartUSA'].value_counts()"
   ]
  },
  {
   "cell_type": "code",
   "execution_count": 17,
   "id": "1106d0f8",
   "metadata": {},
   "outputs": [
    {
     "data": {
      "image/png": "[encoded data removed]",
      "text/plain": [
       "<Figure size 720x432 with 1 Axes>"
      ]
     },
     "metadata": {},
     "output_type": "display_data"
    }
   ],
   "source": [
    "# Relever du nombre de commune par région\n",
    "\n",
    "\n",
    "hab_reg = [103,372,224,210,8]\n",
    "hab_reg\n",
    "\n",
    "\n",
    "plt.figure(figsize=(10,6))\n",
    "\n",
    "#Digramme circulaire\n",
    "plt.pie(hab_reg,labels = [\"Nord-Ouest\",\"Nord-Est\",\"Sud-Est\",\"Sud-Ouest\",\"Autres\"], autopct = '%.2f%%')\n",
    "plt.title('% de communes par régions des Etats-Unis')\n",
    "plt.savefig(\"region_commune.png\")\n",
    "\n",
    "plt.show()"
   ]
  },
  {
   "cell_type": "markdown",
   "id": "28ee169b",
   "metadata": {},
   "source": [
    "#### Population hispanique "
   ]
  },
  {
   "cell_type": "code",
   "execution_count": 21,
   "id": "fdcc8021",
   "metadata": {},
   "outputs": [
    {
     "data": {
      "text/html": [
       "<div>\n",
       "<style scoped>\n",
       "    .dataframe tbody tr th:only-of-type {\n",
       "        vertical-align: middle;\n",
       "    }\n",
       "\n",
       "    .dataframe tbody tr th {\n",
       "        vertical-align: top;\n",
       "    }\n",
       "\n",
       "    .dataframe thead th {\n",
       "        text-align: right;\n",
       "    }\n",
       "</style>\n",
       "<table border=\"1\" class=\"dataframe\">\n",
       "  <thead>\n",
       "    <tr style=\"text-align: right;\">\n",
       "      <th></th>\n",
       "      <th>population</th>\n",
       "    </tr>\n",
       "  </thead>\n",
       "  <tbody>\n",
       "    <tr>\n",
       "      <th>0</th>\n",
       "      <td>40602</td>\n",
       "    </tr>\n",
       "    <tr>\n",
       "      <th>1</th>\n",
       "      <td>72797</td>\n",
       "    </tr>\n",
       "    <tr>\n",
       "      <th>2</th>\n",
       "      <td>165252</td>\n",
       "    </tr>\n",
       "    <tr>\n",
       "      <th>3</th>\n",
       "      <td>37492</td>\n",
       "    </tr>\n",
       "    <tr>\n",
       "      <th>4</th>\n",
       "      <td>99892</td>\n",
       "    </tr>\n",
       "    <tr>\n",
       "      <th>...</th>\n",
       "      <td>...</td>\n",
       "    </tr>\n",
       "    <tr>\n",
       "      <th>912</th>\n",
       "      <td>565773</td>\n",
       "    </tr>\n",
       "    <tr>\n",
       "      <th>913</th>\n",
       "      <td>166892</td>\n",
       "    </tr>\n",
       "    <tr>\n",
       "      <th>914</th>\n",
       "      <td>195751</td>\n",
       "    </tr>\n",
       "    <tr>\n",
       "      <th>915</th>\n",
       "      <td>86074</td>\n",
       "    </tr>\n",
       "    <tr>\n",
       "      <th>916</th>\n",
       "      <td>14018</td>\n",
       "    </tr>\n",
       "  </tbody>\n",
       "</table>\n",
       "<p>917 rows × 1 columns</p>\n",
       "</div>"
      ],
      "text/plain": [
       "     population\n",
       "0         40602\n",
       "1         72797\n",
       "2        165252\n",
       "3         37492\n",
       "4         99892\n",
       "..          ...\n",
       "912      565773\n",
       "913      166892\n",
       "914      195751\n",
       "915       86074\n",
       "916       14018\n",
       "\n",
       "[917 rows x 1 columns]"
      ]
     },
     "execution_count": 21,
     "metadata": {},
     "output_type": "execute_result"
    }
   ],
   "source": [
    "hispanique = usa[['population']]\n",
    "hispanique"
   ]
  },
  {
   "cell_type": "code",
   "execution_count": 23,
   "id": "ec944be4",
   "metadata": {},
   "outputs": [
    {
     "ename": "TypeError",
     "evalue": "boxplot() got an unexpected keyword argument 'main'",
     "output_type": "error",
     "traceback": [
      "\u001b[1;31m---------------------------------------------------------------------------\u001b[0m",
      "\u001b[1;31mTypeError\u001b[0m                                 Traceback (most recent call last)",
      "\u001b[1;32m~\\AppData\\Local\\Temp/ipykernel_11160/1331082105.py\u001b[0m in \u001b[0;36m<module>\u001b[1;34m\u001b[0m\n\u001b[0;32m      1\u001b[0m \u001b[1;31m#Boite à moustache\u001b[0m\u001b[1;33m\u001b[0m\u001b[1;33m\u001b[0m\u001b[0m\n\u001b[0;32m      2\u001b[0m \u001b[1;33m\u001b[0m\u001b[0m\n\u001b[1;32m----> 3\u001b[1;33m \u001b[0mplt\u001b[0m\u001b[1;33m.\u001b[0m\u001b[0mboxplot\u001b[0m\u001b[1;33m(\u001b[0m\u001b[0mhispanique\u001b[0m\u001b[1;33m.\u001b[0m\u001b[0mpopulation\u001b[0m\u001b[1;33m,\u001b[0m\u001b[0mmain\u001b[0m\u001b[1;33m=\u001b[0m\u001b[1;34m\"Boite à moustache\"\u001b[0m\u001b[1;33m)\u001b[0m\u001b[1;33m\u001b[0m\u001b[1;33m\u001b[0m\u001b[0m\n\u001b[0m\u001b[0;32m      4\u001b[0m \u001b[1;33m\u001b[0m\u001b[0m\n\u001b[0;32m      5\u001b[0m \u001b[0mplt\u001b[0m\u001b[1;33m.\u001b[0m\u001b[0mshow\u001b[0m\u001b[1;33m(\u001b[0m\u001b[1;33m)\u001b[0m\u001b[1;33m\u001b[0m\u001b[1;33m\u001b[0m\u001b[0m\n",
      "\u001b[1;31mTypeError\u001b[0m: boxplot() got an unexpected keyword argument 'main'"
     ]
    }
   ],
   "source": [
    "#Boite à moustache \n",
    "\n",
    "plt.boxplot(hispanique.population,main=\"Boite à moustache\")\n",
    "\n",
    "plt.show()"
   ]
  },
  {
   "cell_type": "code",
   "execution_count": null,
   "id": "4c64ea8e",
   "metadata": {},
   "outputs": [],
   "source": []
  },
  {
   "cell_type": "code",
   "execution_count": null,
   "id": "78751a2a",
   "metadata": {},
   "outputs": [],
   "source": []
  },
  {
   "cell_type": "markdown",
   "id": "c3af18d6",
   "metadata": {},
   "source": [
    "# 1 - Décomposition de la somme des carrées \n"
   ]
  },
  {
   "cell_type": "markdown",
   "id": "5d4459e1",
   "metadata": {},
   "source": [
    "### 1-1 Construction des sommes des carrées "
   ]
  },
  {
   "cell_type": "markdown",
   "id": "180f7998",
   "metadata": {},
   "source": [
    "#### Somme des carrées expliquées"
   ]
  },
  {
   "cell_type": "code",
   "execution_count": 6,
   "id": "f0477a7f",
   "metadata": {},
   "outputs": [
    {
     "data": {
      "text/plain": [
       "121697.98655656706"
      ]
     },
     "execution_count": 6,
     "metadata": {},
     "output_type": "execute_result"
    }
   ],
   "source": [
    "sce = 372*((np.mean(NE['pop_hispanique']) - np.mean(usa['pop_hispanique']))**2) + 224*((np.mean(SE['pop_hispanique']) - np.mean(usa['pop_hispanique']))**2)+ 210*((np.mean(SO['pop_hispanique']) - np.mean(usa['pop_hispanique']))**2)+ 103*((np.mean(SO['pop_hispanique']) - np.mean(usa['pop_hispanique']))**2)+ 8*((np.mean(O['pop_hispanique']) - np.mean(usa['pop_hispanique']))**2)\n",
    "      \n",
    "sce"
   ]
  },
  {
   "cell_type": "markdown",
   "id": "4e0c35b0",
   "metadata": {},
   "source": [
    "#### Somme des carrées résiduels"
   ]
  },
  {
   "cell_type": "code",
   "execution_count": 25,
   "id": "b3d953a2",
   "metadata": {},
   "outputs": [
    {
     "data": {
      "text/plain": [
       "[27599.773784759156,\n",
       " 5480.433970040757,\n",
       " 175901.32966202093,\n",
       " 14925.750333193213,\n",
       " 145.66869535122981]"
      ]
     },
     "execution_count": 25,
     "metadata": {},
     "output_type": "execute_result"
    }
   ],
   "source": [
    "#liste des écarts\n",
    "res = []\n",
    "\n",
    "moy = np.mean(usa['pop_hispanique'])\n",
    "\n",
    "#somme pour le Nord-Est\n",
    "s = 0\n",
    "ne_h = NE['pop_hispanique']\n",
    "for i in range(372):\n",
    "    s =+ (ne_h - moy)**2\n",
    "\n",
    "res.append(sum(s))\n",
    "\n",
    "\n",
    "#somme pour le Nord-Ouest\n",
    "s = 0\n",
    "no_h = NO['pop_hispanique']\n",
    "for i in range(103):\n",
    "    s =+ (no_h - moy)**2\n",
    "\n",
    "res.append(sum(s))\n",
    "\n",
    "\n",
    "#somme pour le SUd-Ouest\n",
    "s = 0\n",
    "so_h = SO['pop_hispanique']\n",
    "for i in range(103):\n",
    "    s =+ (so_h - moy)**2\n",
    "\n",
    "res.append(sum(s))\n",
    "\n",
    "\n",
    "#somme pour le Sud-Est\n",
    "s = 0\n",
    "se_h = SE['pop_hispanique']\n",
    "for i in range(103):\n",
    "    s =+ (se_h - moy)**2\n",
    "\n",
    "res.append(sum(s))\n",
    "\n",
    "\n",
    "#somme pour le Autres\n",
    "s = 0\n",
    "o_h = O['pop_hispanique']\n",
    "for i in range(103):\n",
    "    s =+ (o_h - moy)**2\n",
    "\n",
    "res.append(sum(s))\n",
    "\n",
    "res"
   ]
  },
  {
   "cell_type": "code",
   "execution_count": 27,
   "id": "c6f75fe5",
   "metadata": {},
   "outputs": [
    {
     "data": {
      "text/plain": [
       "224052.9564453653"
      ]
     },
     "execution_count": 27,
     "metadata": {},
     "output_type": "execute_result"
    }
   ],
   "source": [
    "scr = sum(res)\n",
    "scr"
   ]
  },
  {
   "cell_type": "markdown",
   "id": "03bba589",
   "metadata": {},
   "source": [
    "#### Décomposition de la variance \n"
   ]
  },
  {
   "cell_type": "code",
   "execution_count": 28,
   "id": "06d8808b",
   "metadata": {},
   "outputs": [],
   "source": [
    "#Variance Inter-groupe\n",
    "var_inter = sce/4\n",
    "\n",
    "#Variance Intre-groupe\n",
    "var_intra = scr/912\n",
    "\n",
    "\n",
    "#variance total\n",
    "var_total = var_inter + var_intra"
   ]
  },
  {
   "cell_type": "code",
   "execution_count": 29,
   "id": "82131d45",
   "metadata": {},
   "outputs": [
    {
     "data": {
      "text/plain": [
       "30424.496639141766"
      ]
     },
     "execution_count": 29,
     "metadata": {},
     "output_type": "execute_result"
    }
   ],
   "source": [
    "var_inter"
   ]
  },
  {
   "cell_type": "code",
   "execution_count": 30,
   "id": "2e39f265",
   "metadata": {},
   "outputs": [
    {
     "data": {
      "text/plain": [
       "245.67210136553211"
      ]
     },
     "execution_count": 30,
     "metadata": {},
     "output_type": "execute_result"
    }
   ],
   "source": [
    "var_intra"
   ]
  },
  {
   "cell_type": "markdown",
   "id": "9bdef3d8",
   "metadata": {},
   "source": [
    "#### Coéfficient de détermination "
   ]
  },
  {
   "cell_type": "code",
   "execution_count": 35,
   "id": "69f40791",
   "metadata": {},
   "outputs": [
    {
     "data": {
      "text/plain": [
       "0.991989867957881"
      ]
     },
     "execution_count": 35,
     "metadata": {},
     "output_type": "execute_result"
    }
   ],
   "source": [
    "r = var_inter/var_total\n",
    "\n",
    "r"
   ]
  },
  {
   "cell_type": "code",
   "execution_count": null,
   "id": "598f7a63",
   "metadata": {},
   "outputs": [],
   "source": []
  },
  {
   "cell_type": "code",
   "execution_count": null,
   "id": "beaddf26",
   "metadata": {},
   "outputs": [],
   "source": []
  },
  {
   "cell_type": "code",
   "execution_count": null,
   "id": "6f46afd8",
   "metadata": {},
   "outputs": [],
   "source": [
    "blanche = usa.pop_blanche\n",
    "candidat = usa.Candidat\n",
    "\n",
    "mdl = statsmodels.formula.api.ols('blanche ~ candidat', data = usa)\n",
    "res = mdl.fit()"
   ]
  },
  {
   "cell_type": "code",
   "execution_count": null,
   "id": "b56332cb",
   "metadata": {},
   "outputs": [],
   "source": [
    "import statsmodels.api\n",
    "    \n",
    "table = statsmodels.api.stats.anova_lm(res)"
   ]
  }
 ],
 "metadata": {
  "kernelspec": {
   "display_name": "Python 3 (ipykernel)",
   "language": "python",
   "name": "python3"
  },
  "language_info": {
   "codemirror_mode": {
    "name": "ipython",
    "version": 3
   },
   "file_extension": ".py",
   "mimetype": "text/x-python",
   "name": "python",
   "nbconvert_exporter": "python",
   "pygments_lexer": "ipython3",
   "version": "3.9.7"
  }
 },
 "nbformat": 4,
 "nbformat_minor": 5
}

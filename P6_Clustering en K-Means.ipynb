{
 "cells": [
  {
   "cell_type": "code",
   "execution_count": 1,
   "id": "8674a642",
   "metadata": {},
   "outputs": [],
   "source": [
    "#Importation des modules\n",
    "\n",
    "import pandas as pd\n",
    "import numpy as np\n",
    "import matplotlib.pyplot as plt\n",
    "import seaborn as sns"
   ]
  },
  {
   "cell_type": "code",
   "execution_count": 2,
   "id": "79865263",
   "metadata": {},
   "outputs": [
    {
     "data": {
      "text/html": [
       "<div>\n",
       "<style scoped>\n",
       "    .dataframe tbody tr th:only-of-type {\n",
       "        vertical-align: middle;\n",
       "    }\n",
       "\n",
       "    .dataframe tbody tr th {\n",
       "        vertical-align: top;\n",
       "    }\n",
       "\n",
       "    .dataframe thead th {\n",
       "        text-align: right;\n",
       "    }\n",
       "</style>\n",
       "<table border=\"1\" class=\"dataframe\">\n",
       "  <thead>\n",
       "    <tr style=\"text-align: right;\">\n",
       "      <th></th>\n",
       "      <th>cbssa</th>\n",
       "      <th>Richesse</th>\n",
       "      <th>Indice d'ethnicité</th>\n",
       "      <th>Candidat</th>\n",
       "    </tr>\n",
       "  </thead>\n",
       "  <tbody>\n",
       "    <tr>\n",
       "      <th>0</th>\n",
       "      <td>10100</td>\n",
       "      <td>0.250359</td>\n",
       "      <td>-1.836170</td>\n",
       "      <td>Trump</td>\n",
       "    </tr>\n",
       "    <tr>\n",
       "      <th>1</th>\n",
       "      <td>10140</td>\n",
       "      <td>-1.069122</td>\n",
       "      <td>-1.462359</td>\n",
       "      <td>Trump</td>\n",
       "    </tr>\n",
       "    <tr>\n",
       "      <th>2</th>\n",
       "      <td>10180</td>\n",
       "      <td>-0.081085</td>\n",
       "      <td>0.879834</td>\n",
       "      <td>Trump</td>\n",
       "    </tr>\n",
       "    <tr>\n",
       "      <th>3</th>\n",
       "      <td>10220</td>\n",
       "      <td>-0.314890</td>\n",
       "      <td>0.333946</td>\n",
       "      <td>Trump</td>\n",
       "    </tr>\n",
       "    <tr>\n",
       "      <th>4</th>\n",
       "      <td>10300</td>\n",
       "      <td>-0.133229</td>\n",
       "      <td>-1.530328</td>\n",
       "      <td>Trump</td>\n",
       "    </tr>\n",
       "    <tr>\n",
       "      <th>5</th>\n",
       "      <td>10420</td>\n",
       "      <td>0.984583</td>\n",
       "      <td>-1.079679</td>\n",
       "      <td>Clinton</td>\n",
       "    </tr>\n",
       "    <tr>\n",
       "      <th>6</th>\n",
       "      <td>10460</td>\n",
       "      <td>-0.894044</td>\n",
       "      <td>1.328981</td>\n",
       "      <td>Trump</td>\n",
       "    </tr>\n",
       "    <tr>\n",
       "      <th>7</th>\n",
       "      <td>10500</td>\n",
       "      <td>-1.442324</td>\n",
       "      <td>2.582505</td>\n",
       "      <td>Clinton</td>\n",
       "    </tr>\n",
       "    <tr>\n",
       "      <th>8</th>\n",
       "      <td>10540</td>\n",
       "      <td>-0.093329</td>\n",
       "      <td>-1.671683</td>\n",
       "      <td>Trump</td>\n",
       "    </tr>\n",
       "    <tr>\n",
       "      <th>9</th>\n",
       "      <td>10580</td>\n",
       "      <td>3.132685</td>\n",
       "      <td>-1.325317</td>\n",
       "      <td>Trump</td>\n",
       "    </tr>\n",
       "  </tbody>\n",
       "</table>\n",
       "</div>"
      ],
      "text/plain": [
       "   cbssa  Richesse  Indice d'ethnicité Candidat\n",
       "0  10100  0.250359           -1.836170    Trump\n",
       "1  10140 -1.069122           -1.462359    Trump\n",
       "2  10180 -0.081085            0.879834    Trump\n",
       "3  10220 -0.314890            0.333946    Trump\n",
       "4  10300 -0.133229           -1.530328    Trump\n",
       "5  10420  0.984583           -1.079679  Clinton\n",
       "6  10460 -0.894044            1.328981    Trump\n",
       "7  10500 -1.442324            2.582505  Clinton\n",
       "8  10540 -0.093329           -1.671683    Trump\n",
       "9  10580  3.132685           -1.325317    Trump"
      ]
     },
     "execution_count": 2,
     "metadata": {},
     "output_type": "execute_result"
    }
   ],
   "source": [
    "#Ouverture du fichier\n",
    "\n",
    "usa_acp =  pd.read_csv('ind_acp.csv', sep=',')\n",
    "\n",
    "\n",
    "\n",
    "usa_acp.head(10)"
   ]
  },
  {
   "cell_type": "code",
   "execution_count": 3,
   "id": "22b576c5",
   "metadata": {},
   "outputs": [
    {
     "name": "stderr",
     "output_type": "stream",
     "text": [
      "C:\\Users\\Sofiane\\AppData\\Local\\Temp/ipykernel_8352/541520176.py:3: SettingWithCopyWarning: \n",
      "A value is trying to be set on a copy of a slice from a DataFrame\n",
      "\n",
      "See the caveats in the documentation: https://pandas.pydata.org/pandas-docs/stable/user_guide/indexing.html#returning-a-view-versus-a-copy\n",
      "  usa_acp.Candidat[i] = 1\n",
      "C:\\Users\\Sofiane\\AppData\\Local\\Temp/ipykernel_8352/541520176.py:5: SettingWithCopyWarning: \n",
      "A value is trying to be set on a copy of a slice from a DataFrame\n",
      "\n",
      "See the caveats in the documentation: https://pandas.pydata.org/pandas-docs/stable/user_guide/indexing.html#returning-a-view-versus-a-copy\n",
      "  usa_acp.Candidat[i] = 0\n"
     ]
    }
   ],
   "source": [
    "for i in range(917):\n",
    "    if usa_acp.Candidat[i] == 'Trump':\n",
    "        usa_acp.Candidat[i] = 1\n",
    "    else:\n",
    "        usa_acp.Candidat[i] = 0\n",
    "        "
   ]
  },
  {
   "cell_type": "code",
   "execution_count": 4,
   "id": "752043b9",
   "metadata": {},
   "outputs": [
    {
     "data": {
      "text/plain": [
       "0     1\n",
       "1     1\n",
       "2     1\n",
       "3     1\n",
       "4     1\n",
       "5     0\n",
       "6     1\n",
       "7     0\n",
       "8     1\n",
       "9     1\n",
       "10    1\n",
       "11    1\n",
       "12    1\n",
       "13    0\n",
       "14    1\n",
       "15    1\n",
       "16    1\n",
       "17    0\n",
       "18    1\n",
       "19    1\n",
       "Name: Candidat, dtype: object"
      ]
     },
     "execution_count": 4,
     "metadata": {},
     "output_type": "execute_result"
    }
   ],
   "source": [
    "y = usa_acp.Candidat\n",
    "y.head(20)"
   ]
  },
  {
   "cell_type": "code",
   "execution_count": 5,
   "id": "61fe8e2c",
   "metadata": {},
   "outputs": [
    {
     "data": {
      "text/html": [
       "<div>\n",
       "<style scoped>\n",
       "    .dataframe tbody tr th:only-of-type {\n",
       "        vertical-align: middle;\n",
       "    }\n",
       "\n",
       "    .dataframe tbody tr th {\n",
       "        vertical-align: top;\n",
       "    }\n",
       "\n",
       "    .dataframe thead th {\n",
       "        text-align: right;\n",
       "    }\n",
       "</style>\n",
       "<table border=\"1\" class=\"dataframe\">\n",
       "  <thead>\n",
       "    <tr style=\"text-align: right;\">\n",
       "      <th></th>\n",
       "      <th>Richesse</th>\n",
       "      <th>Indice d'ethnicité</th>\n",
       "      <th>Candidat</th>\n",
       "    </tr>\n",
       "    <tr>\n",
       "      <th>cbssa</th>\n",
       "      <th></th>\n",
       "      <th></th>\n",
       "      <th></th>\n",
       "    </tr>\n",
       "  </thead>\n",
       "  <tbody>\n",
       "    <tr>\n",
       "      <th>10100</th>\n",
       "      <td>0.250359</td>\n",
       "      <td>-1.836170</td>\n",
       "      <td>1</td>\n",
       "    </tr>\n",
       "    <tr>\n",
       "      <th>10140</th>\n",
       "      <td>-1.069122</td>\n",
       "      <td>-1.462359</td>\n",
       "      <td>1</td>\n",
       "    </tr>\n",
       "    <tr>\n",
       "      <th>10180</th>\n",
       "      <td>-0.081085</td>\n",
       "      <td>0.879834</td>\n",
       "      <td>1</td>\n",
       "    </tr>\n",
       "    <tr>\n",
       "      <th>10220</th>\n",
       "      <td>-0.314890</td>\n",
       "      <td>0.333946</td>\n",
       "      <td>1</td>\n",
       "    </tr>\n",
       "    <tr>\n",
       "      <th>10300</th>\n",
       "      <td>-0.133229</td>\n",
       "      <td>-1.530328</td>\n",
       "      <td>1</td>\n",
       "    </tr>\n",
       "    <tr>\n",
       "      <th>...</th>\n",
       "      <td>...</td>\n",
       "      <td>...</td>\n",
       "      <td>...</td>\n",
       "    </tr>\n",
       "    <tr>\n",
       "      <th>49660</th>\n",
       "      <td>-1.774471</td>\n",
       "      <td>-1.381035</td>\n",
       "      <td>1</td>\n",
       "    </tr>\n",
       "    <tr>\n",
       "      <th>49700</th>\n",
       "      <td>1.915814</td>\n",
       "      <td>2.041526</td>\n",
       "      <td>1</td>\n",
       "    </tr>\n",
       "    <tr>\n",
       "      <th>49740</th>\n",
       "      <td>-1.074864</td>\n",
       "      <td>3.571302</td>\n",
       "      <td>1</td>\n",
       "    </tr>\n",
       "    <tr>\n",
       "      <th>49780</th>\n",
       "      <td>-2.052910</td>\n",
       "      <td>-0.903470</td>\n",
       "      <td>1</td>\n",
       "    </tr>\n",
       "    <tr>\n",
       "      <th>49820</th>\n",
       "      <td>-2.065551</td>\n",
       "      <td>10.052407</td>\n",
       "      <td>1</td>\n",
       "    </tr>\n",
       "  </tbody>\n",
       "</table>\n",
       "<p>917 rows × 3 columns</p>\n",
       "</div>"
      ],
      "text/plain": [
       "       Richesse  Indice d'ethnicité Candidat\n",
       "cbssa                                       \n",
       "10100  0.250359           -1.836170        1\n",
       "10140 -1.069122           -1.462359        1\n",
       "10180 -0.081085            0.879834        1\n",
       "10220 -0.314890            0.333946        1\n",
       "10300 -0.133229           -1.530328        1\n",
       "...         ...                 ...      ...\n",
       "49660 -1.774471           -1.381035        1\n",
       "49700  1.915814            2.041526        1\n",
       "49740 -1.074864            3.571302        1\n",
       "49780 -2.052910           -0.903470        1\n",
       "49820 -2.065551           10.052407        1\n",
       "\n",
       "[917 rows x 3 columns]"
      ]
     },
     "execution_count": 5,
     "metadata": {},
     "output_type": "execute_result"
    }
   ],
   "source": [
    "#Indexer l'identifiant des communes\n",
    "usa_acp = usa_acp.set_index('cbssa')\n",
    "\n",
    "usa_acp"
   ]
  },
  {
   "cell_type": "code",
   "execution_count": 6,
   "id": "468415da",
   "metadata": {},
   "outputs": [],
   "source": [
    "acp_trump = usa_acp[usa_acp['Candidat'] == 1]\n",
    "acp_clinton = usa_acp[usa_acp['Candidat'] == 0]\n"
   ]
  },
  {
   "cell_type": "markdown",
   "id": "07539d30",
   "metadata": {},
   "source": [
    "# 1 - Projection graphique des individus"
   ]
  },
  {
   "cell_type": "code",
   "execution_count": 7,
   "id": "2cebdf45",
   "metadata": {},
   "outputs": [
    {
     "data": {
      "image/png": "[encoded data removed]",
      "text/plain": [
       "<Figure size 864x864 with 1 Axes>"
      ]
     },
     "metadata": {
      "needs_background": "light"
     },
     "output_type": "display_data"
    }
   ],
   "source": [
    "plt.figure(figsize=(12,12))\n",
    "\n",
    "plt.scatter(acp_trump.Richesse,acp_trump['Indice d\\'ethnicité'],c='red',label = \"Trump\")\n",
    "plt.scatter(acp_clinton.Richesse,acp_clinton['Indice d\\'ethnicité'],c='blue',label = \"Clinton\")\n",
    "\n",
    "    \n",
    "plt.plot([-5,11],[0,0], color = 'black', ls='--')#Afficher une ligne horizontale\n",
    "plt.plot([0,0],[-7,12], color = 'black', ls='--')#Afficher une ligne verticale    \n",
    "    \n",
    "plt.legend()\n",
    "    \n",
    "plt.ylabel('Diagonale')\n",
    "plt.xlabel('longeur/hauteur')\n",
    "    \n",
    "plt.title(\"Projection des commune sur le 1er plan factorielle en fonction des candidats\")    \n",
    "plt.savefig(\"IndividusPlan_candidat.png\") "
   ]
  },
  {
   "cell_type": "markdown",
   "id": "79a4b3b5",
   "metadata": {},
   "source": [
    "# 2- Construction du K-Means"
   ]
  },
  {
   "cell_type": "code",
   "execution_count": 8,
   "id": "57a41e8f",
   "metadata": {},
   "outputs": [],
   "source": [
    "#Importation du module pour les clusters\n",
    "\n",
    "#pour déterminer les clusters\n",
    "from sklearn import cluster, metrics \n",
    "\n",
    "#module pour faire le K-Means\n",
    "from sklearn.cluster import KMeans\n"
   ]
  },
  {
   "cell_type": "markdown",
   "id": "08fa3ad1",
   "metadata": {},
   "source": [
    "### 2-1 Choix du nombre de clusters\n",
    "\n",
    "#### Coeficient de silhouette"
   ]
  },
  {
   "cell_type": "code",
   "execution_count": 9,
   "id": "15630fde",
   "metadata": {},
   "outputs": [
    {
     "data": {
      "image/png": "[encoded data removed]",
      "text/plain": [
       "<Figure size 432x288 with 1 Axes>"
      ]
     },
     "metadata": {
      "needs_background": "light"
     },
     "output_type": "display_data"
    }
   ],
   "source": [
    "#Calcul du coefficient de silhouettes\n",
    "\n",
    "silhouettes = []\n",
    "for num_clusters in range(2,10):\n",
    "    cls = cluster.KMeans(n_clusters = num_clusters,\n",
    "                        n_init=1,\n",
    "                        init='random')\n",
    "    cls.fit(usa_acp)\n",
    "    silh = metrics.silhouette_score(usa_acp,cls.labels_)\n",
    "    silhouettes.append(silh)\n",
    "    \n",
    "#Afficher graphiquement ce coefficient \n",
    "plt.plot(range(2,10),silhouettes,marker='o')\n",
    "plt.title(\"Coefficient de silhouette\")\n",
    "plt.xlabel('Nombre de cluster')\n",
    "plt.ylabel('Coeffient')\n",
    "plt.savefig('coef_solhouette.png')\n",
    "plt.show()"
   ]
  },
  {
   "cell_type": "markdown",
   "id": "5faf2142",
   "metadata": {},
   "source": [
    "Le coefficient de silhouette est la plus élevé pour 3 clusters donc on aura 3 groupes \n",
    "\n",
    "\n",
    "#### Méthode du coude "
   ]
  },
  {
   "cell_type": "code",
   "execution_count": 10,
   "id": "3dce1046",
   "metadata": {},
   "outputs": [
    {
     "data": {
      "image/png": "[encoded data removed]",
      "text/plain": [
       "<Figure size 432x288 with 1 Axes>"
      ]
     },
     "metadata": {
      "needs_background": "light"
     },
     "output_type": "display_data"
    }
   ],
   "source": [
    "#Méthodes du coude\n",
    "\n",
    "inertia = []\n",
    "K_range = range(1, 10)\n",
    "for k in K_range:\n",
    "    model = KMeans(n_clusters=k).fit(usa_acp)\n",
    "    inertia.append(model.inertia_)\n",
    "\n",
    "    \n",
    "#Afficher graphiquement ce coefficient     \n",
    "plt.plot(K_range, inertia)\n",
    "plt.title(\"Méthode du coude\")\n",
    "plt.xlabel('nombre de clusters')\n",
    "plt.ylabel('Cout du modele (Inertia)')\n",
    "plt.savefig('methode_coude.png')\n",
    "plt.show()"
   ]
  },
  {
   "cell_type": "code",
   "execution_count": 11,
   "id": "3e2f5e68",
   "metadata": {},
   "outputs": [
    {
     "data": {
      "text/plain": [
       "array([1, 1, 0, 1, 1, 1, 0, 0, 1, 2, 1, 1, 0, 2, 0, 1, 0, 2, 1, 1, 1, 0,\n",
       "       2, 0, 2, 1, 2, 0, 1, 2, 1, 2, 0, 1, 0, 1, 1, 1, 1, 1, 1, 0, 1, 1,\n",
       "       0, 2, 2, 1, 1, 2, 0, 1, 1, 2, 0, 0, 2, 1, 1, 1, 1, 2, 1, 0, 1, 1,\n",
       "       2, 1, 0, 1, 1, 0, 1, 1, 1, 0, 1, 2, 1, 2, 0, 1, 1, 1, 0, 0, 1, 1,\n",
       "       2, 2, 1, 1, 2, 2, 1, 1, 0, 0, 2, 1, 1, 1, 2, 2, 0, 2, 1, 1, 1, 2,\n",
       "       2, 1, 1, 2, 0, 1, 2, 0, 1, 1, 1, 1, 0, 1, 1, 2, 1, 1, 1, 0, 2, 1,\n",
       "       1, 0, 0, 1, 1, 1, 1, 1, 0, 1, 2, 2, 2, 0, 1, 1, 1, 1, 2, 1, 1, 2,\n",
       "       2, 2, 1, 2, 2, 1, 1, 2, 1, 1, 0, 0, 1, 0, 1, 2, 0, 1, 0, 1, 1, 1,\n",
       "       0, 2, 2, 2, 0, 0, 2, 2, 1, 2, 1, 0, 1, 0, 0, 1, 1, 0, 0, 1, 2, 1,\n",
       "       1, 1, 0, 2, 1, 1, 1, 1, 2, 0, 1, 1, 1, 1, 1, 1, 1, 1, 1, 1, 1, 0,\n",
       "       1, 0, 2, 1, 2, 2, 2, 1, 0, 1, 0, 2, 0, 1, 1, 1, 0, 1, 0, 2, 1, 2,\n",
       "       1, 0, 2, 1, 1, 2, 1, 0, 0, 1, 0, 1, 1, 1, 1, 1, 2, 1, 1, 0, 1, 0,\n",
       "       1, 1, 0, 1, 1, 2, 1, 2, 1, 1, 1, 2, 2, 1, 0, 2, 0, 1, 1, 1, 0, 2,\n",
       "       1, 0, 1, 1, 1, 0, 2, 1, 2, 1, 0, 0, 0, 1, 1, 1, 1, 1, 1, 1, 0, 1,\n",
       "       0, 2, 0, 1, 1, 0, 0, 1, 1, 1, 2, 0, 1, 2, 1, 0, 2, 1, 1, 2, 0, 1,\n",
       "       1, 1, 2, 2, 1, 1, 0, 1, 0, 0, 1, 1, 0, 0, 0, 1, 0, 1, 2, 0, 0, 1,\n",
       "       2, 1, 1, 2, 1, 0, 1, 2, 2, 0, 0, 0, 1, 1, 1, 2, 2, 0, 0, 1, 1, 2,\n",
       "       1, 1, 0, 2, 1, 1, 1, 1, 2, 0, 1, 1, 1, 2, 1, 2, 0, 1, 2, 1, 2, 1,\n",
       "       0, 1, 0, 2, 2, 1, 2, 0, 1, 1, 1, 1, 1, 1, 0, 1, 1, 0, 1, 2, 2, 2,\n",
       "       2, 1, 1, 2, 2, 2, 1, 1, 0, 2, 1, 2, 1, 1, 2, 1, 2, 0, 0, 0, 1, 1,\n",
       "       1, 2, 1, 1, 0, 2, 0, 0, 1, 1, 1, 0, 1, 2, 2, 0, 0, 0, 2, 0, 0, 2,\n",
       "       1, 2, 1, 1, 0, 1, 1, 1, 1, 1, 0, 2, 0, 1, 2, 1, 2, 1, 2, 1, 1, 0,\n",
       "       1, 1, 2, 2, 2, 0, 1, 0, 0, 1, 1, 0, 0, 2, 1, 1, 0, 1, 1, 2, 2, 1,\n",
       "       2, 1, 1, 1, 1, 1, 1, 1, 1, 1, 1, 1, 1, 1, 1, 1, 1, 1, 1, 0, 0, 0,\n",
       "       1, 1, 1, 0, 1, 0, 0, 1, 1, 1, 2, 1, 0, 1, 2, 0, 2, 1, 2, 2, 2, 1,\n",
       "       1, 0, 0, 0, 1, 2, 1, 1, 0, 1, 1, 2, 0, 0, 1, 0, 0, 0, 1, 1, 2, 1,\n",
       "       0, 1, 1, 1, 1, 0, 1, 0, 2, 1, 2, 0, 0, 1, 1, 1, 2, 2, 1, 1, 2, 0,\n",
       "       1, 0, 1, 1, 0, 1, 1, 1, 1, 1, 1, 2, 2, 1, 1, 0, 2, 1, 1, 0, 2, 1,\n",
       "       2, 2, 1, 0, 0, 0, 2, 1, 1, 0, 1, 1, 1, 2, 1, 1, 1, 2, 2, 1, 1, 1,\n",
       "       1, 0, 1, 1, 1, 1, 1, 1, 1, 1, 1, 0, 1, 2, 1, 2, 2, 1, 2, 0, 1, 1,\n",
       "       1, 1, 0, 1, 1, 1, 2, 1, 1, 1, 1, 1, 1, 0, 1, 0, 2, 2, 1, 1, 1, 1,\n",
       "       1, 2, 2, 1, 2, 1, 1, 1, 2, 1, 0, 1, 1, 1, 1, 2, 0, 2, 1, 1, 0, 2,\n",
       "       1, 1, 0, 1, 2, 2, 2, 1, 0, 0, 1, 0, 1, 0, 1, 0, 1, 2, 0, 1, 2, 1,\n",
       "       1, 2, 1, 2, 0, 2, 2, 2, 2, 2, 1, 1, 0, 2, 2, 2, 2, 1, 2, 1, 1, 1,\n",
       "       1, 1, 2, 1, 1, 1, 1, 0, 1, 1, 1, 1, 1, 1, 1, 1, 0, 1, 1, 1, 0, 0,\n",
       "       1, 1, 1, 1, 1, 2, 0, 0, 1, 1, 1, 0, 1, 1, 1, 2, 2, 1, 2, 1, 2, 1,\n",
       "       1, 2, 2, 0, 2, 0, 1, 2, 0, 1, 1, 1, 0, 2, 1, 1, 1, 0, 2, 0, 1, 2,\n",
       "       0, 2, 0, 0, 2, 1, 0, 1, 1, 1, 1, 1, 0, 0, 1, 0, 1, 1, 1, 2, 1, 2,\n",
       "       0, 1, 2, 1, 2, 0, 0, 1, 0, 1, 1, 2, 1, 1, 0, 0, 2, 0, 1, 2, 2, 0,\n",
       "       0, 0, 0, 1, 0, 2, 2, 0, 1, 0, 1, 1, 1, 2, 1, 1, 1, 1, 1, 1, 2, 1,\n",
       "       1, 1, 1, 0, 1, 0, 1, 1, 1, 1, 1, 1, 2, 1, 1, 2, 1, 2, 1, 0, 1, 2,\n",
       "       1, 1, 1, 1, 1, 2, 1, 0, 1, 1, 1, 2, 0, 1, 0])"
      ]
     },
     "execution_count": 11,
     "metadata": {},
     "output_type": "execute_result"
    }
   ],
   "source": [
    "#Choix du nombre de cluster \n",
    "km = KMeans(n_clusters = 3)\n",
    "km.fit(usa_acp)\n",
    "\n",
    "#Récupération des cluster attribué à chaque individu\n",
    "cluster = km.labels_\n",
    "model = KMeans(n_clusters=3)\n",
    "model.fit(usa_acp)\n",
    "\n",
    "#On peut comment sont classées les points selon les clusters\n",
    "model.predict(usa_acp)\n",
    "\n",
    "\n"
   ]
  },
  {
   "cell_type": "code",
   "execution_count": 12,
   "id": "3d982f7a",
   "metadata": {},
   "outputs": [
    {
     "data": {
      "text/html": [
       "<div>\n",
       "<style scoped>\n",
       "    .dataframe tbody tr th:only-of-type {\n",
       "        vertical-align: middle;\n",
       "    }\n",
       "\n",
       "    .dataframe tbody tr th {\n",
       "        vertical-align: top;\n",
       "    }\n",
       "\n",
       "    .dataframe thead th {\n",
       "        text-align: right;\n",
       "    }\n",
       "</style>\n",
       "<table border=\"1\" class=\"dataframe\">\n",
       "  <thead>\n",
       "    <tr style=\"text-align: right;\">\n",
       "      <th></th>\n",
       "      <th>Cluster</th>\n",
       "    </tr>\n",
       "  </thead>\n",
       "  <tbody>\n",
       "    <tr>\n",
       "      <th>0</th>\n",
       "      <td>1</td>\n",
       "    </tr>\n",
       "    <tr>\n",
       "      <th>1</th>\n",
       "      <td>1</td>\n",
       "    </tr>\n",
       "    <tr>\n",
       "      <th>2</th>\n",
       "      <td>0</td>\n",
       "    </tr>\n",
       "    <tr>\n",
       "      <th>3</th>\n",
       "      <td>1</td>\n",
       "    </tr>\n",
       "    <tr>\n",
       "      <th>4</th>\n",
       "      <td>1</td>\n",
       "    </tr>\n",
       "    <tr>\n",
       "      <th>...</th>\n",
       "      <td>...</td>\n",
       "    </tr>\n",
       "    <tr>\n",
       "      <th>912</th>\n",
       "      <td>1</td>\n",
       "    </tr>\n",
       "    <tr>\n",
       "      <th>913</th>\n",
       "      <td>2</td>\n",
       "    </tr>\n",
       "    <tr>\n",
       "      <th>914</th>\n",
       "      <td>0</td>\n",
       "    </tr>\n",
       "    <tr>\n",
       "      <th>915</th>\n",
       "      <td>1</td>\n",
       "    </tr>\n",
       "    <tr>\n",
       "      <th>916</th>\n",
       "      <td>0</td>\n",
       "    </tr>\n",
       "  </tbody>\n",
       "</table>\n",
       "<p>917 rows × 1 columns</p>\n",
       "</div>"
      ],
      "text/plain": [
       "     Cluster\n",
       "0          1\n",
       "1          1\n",
       "2          0\n",
       "3          1\n",
       "4          1\n",
       "..       ...\n",
       "912        1\n",
       "913        2\n",
       "914        0\n",
       "915        1\n",
       "916        0\n",
       "\n",
       "[917 rows x 1 columns]"
      ]
     },
     "execution_count": 12,
     "metadata": {},
     "output_type": "execute_result"
    }
   ],
   "source": [
    "### mettre en DataFrame\n",
    "cluster_df = pd.DataFrame(model.predict(usa_acp))\n",
    "\n",
    "#Renommage des colonnes\n",
    "cluster_df = cluster_df.rename(columns = {0:'Cluster'})\n",
    "\n",
    "cluster_df = cluster_df.reset_index(drop = True)\n",
    "\n",
    "\n",
    "cluster_df"
   ]
  },
  {
   "cell_type": "code",
   "execution_count": 13,
   "id": "4e71d1f5",
   "metadata": {},
   "outputs": [
    {
     "data": {
      "text/html": [
       "<div>\n",
       "<style scoped>\n",
       "    .dataframe tbody tr th:only-of-type {\n",
       "        vertical-align: middle;\n",
       "    }\n",
       "\n",
       "    .dataframe tbody tr th {\n",
       "        vertical-align: top;\n",
       "    }\n",
       "\n",
       "    .dataframe thead th {\n",
       "        text-align: right;\n",
       "    }\n",
       "</style>\n",
       "<table border=\"1\" class=\"dataframe\">\n",
       "  <thead>\n",
       "    <tr style=\"text-align: right;\">\n",
       "      <th></th>\n",
       "      <th>Richesse</th>\n",
       "      <th>Indice d'ethnicité</th>\n",
       "      <th>Candidat</th>\n",
       "      <th>Cluster</th>\n",
       "    </tr>\n",
       "    <tr>\n",
       "      <th>cbssa</th>\n",
       "      <th></th>\n",
       "      <th></th>\n",
       "      <th></th>\n",
       "      <th></th>\n",
       "    </tr>\n",
       "  </thead>\n",
       "  <tbody>\n",
       "    <tr>\n",
       "      <th>10100</th>\n",
       "      <td>0.250359</td>\n",
       "      <td>-1.836170</td>\n",
       "      <td>1</td>\n",
       "      <td>1</td>\n",
       "    </tr>\n",
       "    <tr>\n",
       "      <th>10140</th>\n",
       "      <td>-1.069122</td>\n",
       "      <td>-1.462359</td>\n",
       "      <td>1</td>\n",
       "      <td>1</td>\n",
       "    </tr>\n",
       "    <tr>\n",
       "      <th>10180</th>\n",
       "      <td>-0.081085</td>\n",
       "      <td>0.879834</td>\n",
       "      <td>1</td>\n",
       "      <td>0</td>\n",
       "    </tr>\n",
       "    <tr>\n",
       "      <th>10220</th>\n",
       "      <td>-0.314890</td>\n",
       "      <td>0.333946</td>\n",
       "      <td>1</td>\n",
       "      <td>1</td>\n",
       "    </tr>\n",
       "    <tr>\n",
       "      <th>10300</th>\n",
       "      <td>-0.133229</td>\n",
       "      <td>-1.530328</td>\n",
       "      <td>1</td>\n",
       "      <td>1</td>\n",
       "    </tr>\n",
       "    <tr>\n",
       "      <th>...</th>\n",
       "      <td>...</td>\n",
       "      <td>...</td>\n",
       "      <td>...</td>\n",
       "      <td>...</td>\n",
       "    </tr>\n",
       "    <tr>\n",
       "      <th>49660</th>\n",
       "      <td>-1.774471</td>\n",
       "      <td>-1.381035</td>\n",
       "      <td>1</td>\n",
       "      <td>1</td>\n",
       "    </tr>\n",
       "    <tr>\n",
       "      <th>49700</th>\n",
       "      <td>1.915814</td>\n",
       "      <td>2.041526</td>\n",
       "      <td>1</td>\n",
       "      <td>2</td>\n",
       "    </tr>\n",
       "    <tr>\n",
       "      <th>49740</th>\n",
       "      <td>-1.074864</td>\n",
       "      <td>3.571302</td>\n",
       "      <td>1</td>\n",
       "      <td>0</td>\n",
       "    </tr>\n",
       "    <tr>\n",
       "      <th>49780</th>\n",
       "      <td>-2.052910</td>\n",
       "      <td>-0.903470</td>\n",
       "      <td>1</td>\n",
       "      <td>1</td>\n",
       "    </tr>\n",
       "    <tr>\n",
       "      <th>49820</th>\n",
       "      <td>-2.065551</td>\n",
       "      <td>10.052407</td>\n",
       "      <td>1</td>\n",
       "      <td>0</td>\n",
       "    </tr>\n",
       "  </tbody>\n",
       "</table>\n",
       "<p>917 rows × 4 columns</p>\n",
       "</div>"
      ],
      "text/plain": [
       "       Richesse  Indice d'ethnicité Candidat  Cluster\n",
       "cbssa                                                \n",
       "10100  0.250359           -1.836170        1        1\n",
       "10140 -1.069122           -1.462359        1        1\n",
       "10180 -0.081085            0.879834        1        0\n",
       "10220 -0.314890            0.333946        1        1\n",
       "10300 -0.133229           -1.530328        1        1\n",
       "...         ...                 ...      ...      ...\n",
       "49660 -1.774471           -1.381035        1        1\n",
       "49700  1.915814            2.041526        1        2\n",
       "49740 -1.074864            3.571302        1        0\n",
       "49780 -2.052910           -0.903470        1        1\n",
       "49820 -2.065551           10.052407        1        0\n",
       "\n",
       "[917 rows x 4 columns]"
      ]
     },
     "execution_count": 13,
     "metadata": {},
     "output_type": "execute_result"
    }
   ],
   "source": [
    "#Dexindexer la colonne \n",
    "usa_acp = usa_acp.reset_index()\n",
    "\n",
    "#Fusion des données avec le fichier d'ACP\n",
    "usa_cluster = pd.concat([usa_acp, cluster_df],axis=1)\n",
    "\n",
    "#Reindexer\n",
    "usa_cluster =  usa_cluster.set_index('cbssa')\n",
    "\n",
    "\n",
    "usa_cluster.to_csv('ind_acp_cluster.csv')\n",
    "\n",
    "usa_cluster"
   ]
  },
  {
   "cell_type": "markdown",
   "id": "040b38af",
   "metadata": {},
   "source": [
    "### 2-2 Projection des clusters"
   ]
  },
  {
   "cell_type": "code",
   "execution_count": 14,
   "id": "4d7c1e3d",
   "metadata": {},
   "outputs": [],
   "source": [
    "cluster1 = usa_cluster[usa_cluster['Cluster'] == 0]\n",
    "cluster2 = usa_cluster[usa_cluster['Cluster'] == 1]\n",
    "cluster3 = usa_cluster[usa_cluster['Cluster'] == 2]"
   ]
  },
  {
   "cell_type": "code",
   "execution_count": 15,
   "id": "0b45d503",
   "metadata": {},
   "outputs": [
    {
     "data": {
      "image/png": "[encoded data removed]",
      "text/plain": [
       "<Figure size 720x720 with 1 Axes>"
      ]
     },
     "metadata": {
      "needs_background": "light"
     },
     "output_type": "display_data"
    }
   ],
   "source": [
    "plt.figure(figsize=(10,10))\n",
    "\n",
    "plt.scatter(cluster1.Richesse,cluster1['Indice d\\'ethnicité'],c='green',label ='cluster1')\n",
    "plt.scatter(cluster3.Richesse,cluster3['Indice d\\'ethnicité'],c='blue',label = 'cluster2')\n",
    "plt.scatter(cluster2.Richesse,cluster2['Indice d\\'ethnicité'],c='orange',label = 'cluster3')\n",
    "\n",
    "plt.legend()\n",
    "\n",
    "\n",
    "#On va placer les centroïdes \n",
    "plt.scatter(model.cluster_centers_[:,0], model.cluster_centers_[:,1], c='r')\n",
    "\n",
    "plt.plot([-5,11],[0,0], color = 'black', ls='--')#Afficher une ligne horizontale\n",
    "plt.plot([0,0],[-7,12], color = 'black', ls='--')#Afficher une ligne verticale   \n",
    "\n",
    "plt.title(\"Représentation graphique des communes en fonction des clusters\")\n",
    "\n",
    "plt.xlabel(\"Richesse\")\n",
    "plt.ylabel(\"Etnicité\")\n",
    "\n",
    "\n",
    "plt.savefig(\"Cluster_K-Means.png\")"
   ]
  },
  {
   "cell_type": "code",
   "execution_count": 16,
   "id": "ae67755d",
   "metadata": {},
   "outputs": [
    {
     "data": {
      "image/png": "[encoded data removed]",
      "text/plain": [
       "<Figure size 1008x432 with 2 Axes>"
      ]
     },
     "metadata": {
      "needs_background": "light"
     },
     "output_type": "display_data"
    }
   ],
   "source": [
    "fig = plt.figure(figsize=(14,6))\n",
    "\n",
    "#Graphique de gauche\n",
    "ax = fig.add_subplot(121)\n",
    "\n",
    "plt.scatter(acp_trump.Richesse,acp_trump['Indice d\\'ethnicité'],c='red',label = \"Trump\")\n",
    "plt.scatter(acp_clinton.Richesse,acp_clinton['Indice d\\'ethnicité'],c='blue',label = \"Clinton\")\n",
    "plt.plot([-5,11],[0,0], color = 'black', ls='--')#Afficher une ligne horizontale\n",
    "plt.plot([0,0],[-7,12], color = 'black', ls='--')#Afficher une ligne verticale    \n",
    "plt.legend()\n",
    "plt.xlabel(\"Richesse\")\n",
    "plt.ylabel(\"Etnicité\")\n",
    "plt.title(\"Projection des communes en fonction des candidats\")   \n",
    "\n",
    "\n",
    "#Graphique de DROITE\n",
    "ax = fig.add_subplot(122)\n",
    "plt.scatter(cluster1.Richesse,cluster1['Indice d\\'ethnicité'],c='green',label ='cluster1')\n",
    "plt.scatter(cluster3.Richesse,cluster3['Indice d\\'ethnicité'],c='orange',label = 'cluster3')\n",
    "plt.scatter(cluster2.Richesse,cluster2['Indice d\\'ethnicité'],c='blue',label = 'cluster2')\n",
    "\n",
    "plt.legend()\n",
    "\n",
    "plt.scatter(model.cluster_centers_[:,0], model.cluster_centers_[:,1], c='r')\n",
    "plt.plot([-5,11],[0,0], color = 'black', ls='--')#Afficher une ligne horizontale\n",
    "plt.plot([0,0],[-7,12], color = 'black', ls='--')#Afficher une ligne verticale   \n",
    "plt.title(\"Projection des communes par rapport aux clusters du K-Means\")\n",
    "plt.xlabel(\"Richesse\")\n",
    "plt.ylabel(\"Etnicité\")\n",
    "\n",
    "plt.savefig(\"Comparaison_Cluster_Candidat.png\") "
   ]
  },
  {
   "cell_type": "markdown",
   "id": "f452f5b8",
   "metadata": {},
   "source": [
    "### 2-3 Analyse des centroïdes"
   ]
  },
  {
   "cell_type": "code",
   "execution_count": 17,
   "id": "1ea96109",
   "metadata": {},
   "outputs": [
    {
     "data": {
      "image/png": "[encoded data removed]",
      "text/plain": [
       "<Figure size 432x288 with 2 Axes>"
      ]
     },
     "metadata": {
      "needs_background": "light"
     },
     "output_type": "display_data"
    }
   ],
   "source": [
    "#Afficher les valeurs des centroïdes \n",
    "cluster_fac =pd.DataFrame(model.cluster_centers_)\n",
    "\n",
    "cluster_fac = cluster_fac[[0,1]]\n",
    "cluster_fac = cluster_fac.rename(index={0:'Cluster 1',1:'Cluster2',2:'cluster3'},columns={0:'Richesse',1:'Diversité-Jeunesse'})\n",
    "\n",
    "sns.heatmap(cluster_fac,annot = True,xticklabels = True, yticklabels = True )\n",
    "\n",
    "plt.title('HeatMap des centroïdes des clusters')\n",
    "\n",
    "plt.savefig('HeatMap Clusters.png')\n",
    "\n",
    "plt.show()"
   ]
  },
  {
   "cell_type": "code",
   "execution_count": null,
   "id": "ed0192c2",
   "metadata": {},
   "outputs": [],
   "source": []
  },
  {
   "cell_type": "code",
   "execution_count": null,
   "id": "02c0a546",
   "metadata": {},
   "outputs": [],
   "source": []
  },
  {
   "cell_type": "markdown",
   "id": "193860c9",
   "metadata": {},
   "source": [
    "# 3 - Analyse des clusters"
   ]
  },
  {
   "cell_type": "code",
   "execution_count": 18,
   "id": "618c708f",
   "metadata": {},
   "outputs": [
    {
     "name": "stderr",
     "output_type": "stream",
     "text": [
      "C:\\Users\\Sofiane\\AppData\\Local\\Temp/ipykernel_8352/1014875171.py:8: SettingWithCopyWarning: \n",
      "A value is trying to be set on a copy of a slice from a DataFrame\n",
      "\n",
      "See the caveats in the documentation: https://pandas.pydata.org/pandas-docs/stable/user_guide/indexing.html#returning-a-view-versus-a-copy\n",
      "  usa_cluster.Cluster[i] = 'Cluster 1'\n",
      "C:\\Users\\Sofiane\\anaconda3\\lib\\site-packages\\pandas\\core\\indexing.py:1732: SettingWithCopyWarning: \n",
      "A value is trying to be set on a copy of a slice from a DataFrame\n",
      "\n",
      "See the caveats in the documentation: https://pandas.pydata.org/pandas-docs/stable/user_guide/indexing.html#returning-a-view-versus-a-copy\n",
      "  self._setitem_single_block(indexer, value, name)\n",
      "C:\\Users\\Sofiane\\AppData\\Local\\Temp/ipykernel_8352/1014875171.py:17: SettingWithCopyWarning: \n",
      "A value is trying to be set on a copy of a slice from a DataFrame\n",
      "\n",
      "See the caveats in the documentation: https://pandas.pydata.org/pandas-docs/stable/user_guide/indexing.html#returning-a-view-versus-a-copy\n",
      "  usa_cluster.Candidat[i] = 'Trump'\n",
      "C:\\Users\\Sofiane\\AppData\\Local\\Temp/ipykernel_8352/1014875171.py:15: SettingWithCopyWarning: \n",
      "A value is trying to be set on a copy of a slice from a DataFrame\n",
      "\n",
      "See the caveats in the documentation: https://pandas.pydata.org/pandas-docs/stable/user_guide/indexing.html#returning-a-view-versus-a-copy\n",
      "  usa_cluster.Candidat[i] = 'Clinton'\n"
     ]
    },
    {
     "data": {
      "text/html": [
       "<div>\n",
       "<style scoped>\n",
       "    .dataframe tbody tr th:only-of-type {\n",
       "        vertical-align: middle;\n",
       "    }\n",
       "\n",
       "    .dataframe tbody tr th {\n",
       "        vertical-align: top;\n",
       "    }\n",
       "\n",
       "    .dataframe thead th {\n",
       "        text-align: right;\n",
       "    }\n",
       "</style>\n",
       "<table border=\"1\" class=\"dataframe\">\n",
       "  <thead>\n",
       "    <tr style=\"text-align: right;\">\n",
       "      <th></th>\n",
       "      <th>Richesse</th>\n",
       "      <th>Indice d'ethnicité</th>\n",
       "      <th>Candidat</th>\n",
       "      <th>Cluster</th>\n",
       "    </tr>\n",
       "    <tr>\n",
       "      <th>cbssa</th>\n",
       "      <th></th>\n",
       "      <th></th>\n",
       "      <th></th>\n",
       "      <th></th>\n",
       "    </tr>\n",
       "  </thead>\n",
       "  <tbody>\n",
       "    <tr>\n",
       "      <th>10100</th>\n",
       "      <td>0.250359</td>\n",
       "      <td>-1.836170</td>\n",
       "      <td>Trump</td>\n",
       "      <td>Cluster 1</td>\n",
       "    </tr>\n",
       "    <tr>\n",
       "      <th>10140</th>\n",
       "      <td>-1.069122</td>\n",
       "      <td>-1.462359</td>\n",
       "      <td>Trump</td>\n",
       "      <td>Cluster 1</td>\n",
       "    </tr>\n",
       "    <tr>\n",
       "      <th>10180</th>\n",
       "      <td>-0.081085</td>\n",
       "      <td>0.879834</td>\n",
       "      <td>Trump</td>\n",
       "      <td>Cluster 0</td>\n",
       "    </tr>\n",
       "    <tr>\n",
       "      <th>10220</th>\n",
       "      <td>-0.314890</td>\n",
       "      <td>0.333946</td>\n",
       "      <td>Trump</td>\n",
       "      <td>Cluster 1</td>\n",
       "    </tr>\n",
       "    <tr>\n",
       "      <th>10300</th>\n",
       "      <td>-0.133229</td>\n",
       "      <td>-1.530328</td>\n",
       "      <td>Trump</td>\n",
       "      <td>Cluster 1</td>\n",
       "    </tr>\n",
       "    <tr>\n",
       "      <th>...</th>\n",
       "      <td>...</td>\n",
       "      <td>...</td>\n",
       "      <td>...</td>\n",
       "      <td>...</td>\n",
       "    </tr>\n",
       "    <tr>\n",
       "      <th>49660</th>\n",
       "      <td>-1.774471</td>\n",
       "      <td>-1.381035</td>\n",
       "      <td>Trump</td>\n",
       "      <td>Cluster 1</td>\n",
       "    </tr>\n",
       "    <tr>\n",
       "      <th>49700</th>\n",
       "      <td>1.915814</td>\n",
       "      <td>2.041526</td>\n",
       "      <td>Trump</td>\n",
       "      <td>Cluster 2</td>\n",
       "    </tr>\n",
       "    <tr>\n",
       "      <th>49740</th>\n",
       "      <td>-1.074864</td>\n",
       "      <td>3.571302</td>\n",
       "      <td>Trump</td>\n",
       "      <td>Cluster 0</td>\n",
       "    </tr>\n",
       "    <tr>\n",
       "      <th>49780</th>\n",
       "      <td>-2.052910</td>\n",
       "      <td>-0.903470</td>\n",
       "      <td>Trump</td>\n",
       "      <td>Cluster 1</td>\n",
       "    </tr>\n",
       "    <tr>\n",
       "      <th>49820</th>\n",
       "      <td>-2.065551</td>\n",
       "      <td>10.052407</td>\n",
       "      <td>Trump</td>\n",
       "      <td>Cluster 0</td>\n",
       "    </tr>\n",
       "  </tbody>\n",
       "</table>\n",
       "<p>917 rows × 4 columns</p>\n",
       "</div>"
      ],
      "text/plain": [
       "       Richesse  Indice d'ethnicité Candidat    Cluster\n",
       "cbssa                                                  \n",
       "10100  0.250359           -1.836170    Trump  Cluster 1\n",
       "10140 -1.069122           -1.462359    Trump  Cluster 1\n",
       "10180 -0.081085            0.879834    Trump  Cluster 0\n",
       "10220 -0.314890            0.333946    Trump  Cluster 1\n",
       "10300 -0.133229           -1.530328    Trump  Cluster 1\n",
       "...         ...                 ...      ...        ...\n",
       "49660 -1.774471           -1.381035    Trump  Cluster 1\n",
       "49700  1.915814            2.041526    Trump  Cluster 2\n",
       "49740 -1.074864            3.571302    Trump  Cluster 0\n",
       "49780 -2.052910           -0.903470    Trump  Cluster 1\n",
       "49820 -2.065551           10.052407    Trump  Cluster 0\n",
       "\n",
       "[917 rows x 4 columns]"
      ]
     },
     "execution_count": 18,
     "metadata": {},
     "output_type": "execute_result"
    }
   ],
   "source": [
    "#Dexindexer la colonne \n",
    "usa_cluster = usa_cluster.reset_index()\n",
    "\n",
    "for i in range(917):\n",
    "    if usa_cluster.Cluster[i] == 0:\n",
    "        usa_cluster.Cluster[i] = 'Cluster 0'\n",
    "    elif usa_cluster.Cluster[i] == 1:\n",
    "        usa_cluster.Cluster[i] = 'Cluster 1'\n",
    "    else :\n",
    "        usa_cluster.Cluster[i] = 'Cluster 2'\n",
    "\n",
    "        \n",
    "for i in range(917):\n",
    "    if usa_cluster.Candidat[i] == 0:\n",
    "        usa_cluster.Candidat[i] = 'Clinton'\n",
    "    else:\n",
    "        usa_cluster.Candidat[i] = 'Trump'\n",
    "        \n",
    "        \n",
    "#Reindexer\n",
    "usa_cluster =  usa_cluster.set_index('cbssa')\n",
    "\n",
    "\n",
    "usa_cluster.to_csv('ind_acp_cluster2.csv')\n",
    "\n",
    "usa_cluster"
   ]
  },
  {
   "cell_type": "code",
   "execution_count": 19,
   "id": "d2c03ab6",
   "metadata": {},
   "outputs": [
    {
     "data": {
      "image/png": "[encoded data removed]",
      "text/plain": [
       "<Figure size 432x288 with 1 Axes>"
      ]
     },
     "metadata": {},
     "output_type": "display_data"
    }
   ],
   "source": [
    "cluster = usa_cluster[\"Cluster\"].value_counts()\n",
    "\n",
    "\n",
    "plt.pie(cluster,labels = [\"Cluster 3\",\"Cluster 2\",\"Cluster 1\"], autopct = '%.2f%%')\n",
    "plt.title('Proportion des clusters de Kmeans')\n",
    "\n",
    "plt.savefig(\"cluster_prop\")\n",
    "\n",
    "plt.show()\n"
   ]
  },
  {
   "cell_type": "code",
   "execution_count": 20,
   "id": "c3d693ef",
   "metadata": {},
   "outputs": [
    {
     "data": {
      "text/plain": [
       "Cluster 1    493\n",
       "Cluster 0    214\n",
       "Cluster 2    210\n",
       "Name: Cluster, dtype: int64"
      ]
     },
     "execution_count": 20,
     "metadata": {},
     "output_type": "execute_result"
    }
   ],
   "source": [
    "cluster"
   ]
  },
  {
   "cell_type": "markdown",
   "id": "df0e08d2",
   "metadata": {},
   "source": [
    "### 4-2 Clusters en lien avec les candidats"
   ]
  },
  {
   "cell_type": "code",
   "execution_count": 21,
   "id": "f4997a92",
   "metadata": {},
   "outputs": [
    {
     "data": {
      "text/html": [
       "<div>\n",
       "<style scoped>\n",
       "    .dataframe tbody tr th:only-of-type {\n",
       "        vertical-align: middle;\n",
       "    }\n",
       "\n",
       "    .dataframe tbody tr th {\n",
       "        vertical-align: top;\n",
       "    }\n",
       "\n",
       "    .dataframe thead th {\n",
       "        text-align: right;\n",
       "    }\n",
       "</style>\n",
       "<table border=\"1\" class=\"dataframe\">\n",
       "  <thead>\n",
       "    <tr style=\"text-align: right;\">\n",
       "      <th>Candidat</th>\n",
       "      <th>Clinton</th>\n",
       "      <th>Trump</th>\n",
       "      <th>All</th>\n",
       "    </tr>\n",
       "    <tr>\n",
       "      <th>Cluster</th>\n",
       "      <th></th>\n",
       "      <th></th>\n",
       "      <th></th>\n",
       "    </tr>\n",
       "  </thead>\n",
       "  <tbody>\n",
       "    <tr>\n",
       "      <th>Cluster 0</th>\n",
       "      <td>61</td>\n",
       "      <td>153</td>\n",
       "      <td>214</td>\n",
       "    </tr>\n",
       "    <tr>\n",
       "      <th>Cluster 1</th>\n",
       "      <td>76</td>\n",
       "      <td>417</td>\n",
       "      <td>493</td>\n",
       "    </tr>\n",
       "    <tr>\n",
       "      <th>Cluster 2</th>\n",
       "      <td>133</td>\n",
       "      <td>77</td>\n",
       "      <td>210</td>\n",
       "    </tr>\n",
       "    <tr>\n",
       "      <th>All</th>\n",
       "      <td>270</td>\n",
       "      <td>647</td>\n",
       "      <td>917</td>\n",
       "    </tr>\n",
       "  </tbody>\n",
       "</table>\n",
       "</div>"
      ],
      "text/plain": [
       "Candidat   Clinton  Trump  All\n",
       "Cluster                       \n",
       "Cluster 0       61    153  214\n",
       "Cluster 1       76    417  493\n",
       "Cluster 2      133     77  210\n",
       "All            270    647  917"
      ]
     },
     "execution_count": 21,
     "metadata": {},
     "output_type": "execute_result"
    }
   ],
   "source": [
    " #Tableau de contingence\n",
    "\n",
    "table  = pd.crosstab(usa_cluster['Cluster'],usa_cluster['Candidat'],margins = True)\n",
    "\n",
    "\n",
    "table"
   ]
  },
  {
   "cell_type": "code",
   "execution_count": 22,
   "id": "01c0d943",
   "metadata": {},
   "outputs": [],
   "source": [
    "from scipy.stats import chi2_contingency as chi2_contingency\n",
    "\n",
    "khi2, pval , ddl, contingent_theorique  = chi2_contingency(table)"
   ]
  },
  {
   "cell_type": "code",
   "execution_count": 23,
   "id": "b0644a68",
   "metadata": {},
   "outputs": [
    {
     "data": {
      "text/plain": [
       "[162.88689459504565, 1.4484597555291935e-32, 6]"
      ]
     },
     "execution_count": 23,
     "metadata": {},
     "output_type": "execute_result"
    }
   ],
   "source": [
    "liste = [khi2,pval,ddl] \n",
    "\n",
    "liste"
   ]
  },
  {
   "cell_type": "code",
   "execution_count": 24,
   "id": "03ae554b",
   "metadata": {},
   "outputs": [],
   "source": [
    "table_théorique = pd.DataFrame(contingent_theorique)"
   ]
  },
  {
   "cell_type": "code",
   "execution_count": 25,
   "id": "85174ebd",
   "metadata": {},
   "outputs": [
    {
     "data": {
      "text/html": [
       "<div>\n",
       "<style scoped>\n",
       "    .dataframe tbody tr th:only-of-type {\n",
       "        vertical-align: middle;\n",
       "    }\n",
       "\n",
       "    .dataframe tbody tr th {\n",
       "        vertical-align: top;\n",
       "    }\n",
       "\n",
       "    .dataframe thead th {\n",
       "        text-align: right;\n",
       "    }\n",
       "</style>\n",
       "<table border=\"1\" class=\"dataframe\">\n",
       "  <thead>\n",
       "    <tr style=\"text-align: right;\">\n",
       "      <th></th>\n",
       "      <th>0</th>\n",
       "      <th>1</th>\n",
       "      <th>2</th>\n",
       "    </tr>\n",
       "  </thead>\n",
       "  <tbody>\n",
       "    <tr>\n",
       "      <th>0</th>\n",
       "      <td>63.009815</td>\n",
       "      <td>150.990185</td>\n",
       "      <td>214.0</td>\n",
       "    </tr>\n",
       "    <tr>\n",
       "      <th>1</th>\n",
       "      <td>145.158124</td>\n",
       "      <td>347.841876</td>\n",
       "      <td>493.0</td>\n",
       "    </tr>\n",
       "    <tr>\n",
       "      <th>2</th>\n",
       "      <td>61.832061</td>\n",
       "      <td>148.167939</td>\n",
       "      <td>210.0</td>\n",
       "    </tr>\n",
       "    <tr>\n",
       "      <th>3</th>\n",
       "      <td>270.000000</td>\n",
       "      <td>647.000000</td>\n",
       "      <td>917.0</td>\n",
       "    </tr>\n",
       "  </tbody>\n",
       "</table>\n",
       "</div>"
      ],
      "text/plain": [
       "            0           1      2\n",
       "0   63.009815  150.990185  214.0\n",
       "1  145.158124  347.841876  493.0\n",
       "2   61.832061  148.167939  210.0\n",
       "3  270.000000  647.000000  917.0"
      ]
     },
     "execution_count": 25,
     "metadata": {},
     "output_type": "execute_result"
    }
   ],
   "source": [
    "table_théorique"
   ]
  },
  {
   "cell_type": "code",
   "execution_count": null,
   "id": "3000fb41",
   "metadata": {},
   "outputs": [],
   "source": []
  }
 ],
 "metadata": {
  "kernelspec": {
   "display_name": "Python 3 (ipykernel)",
   "language": "python",
   "name": "python3"
  },
  "language_info": {
   "codemirror_mode": {
    "name": "ipython",
    "version": 3
   },
   "file_extension": ".py",
   "mimetype": "text/x-python",
   "name": "python",
   "nbconvert_exporter": "python",
   "pygments_lexer": "ipython3",
   "version": "3.9.7"
  }
 },
 "nbformat": 4,
 "nbformat_minor": 5
}
